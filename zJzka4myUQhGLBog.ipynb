{
 "cells": [
  {
   "cell_type": "code",
   "execution_count": 42,
   "metadata": {},
   "outputs": [],
   "source": [
    "import numpy as np\n",
    "import pandas as pd \n",
    "import statsmodels.api as sm\n",
    "import statsmodels.formula.api as smf\n",
    "import seaborn as sns\n",
    "from sklearn.preprocessing import scale \n",
    "from sklearn.model_selection import train_test_split, GridSearchCV, cross_val_score\n",
    "from sklearn.metrics import confusion_matrix, accuracy_score, classification_report\n",
    "from sklearn.metrics import roc_auc_score,roc_curve\n",
    "import statsmodels.formula.api as smf\n",
    "import matplotlib.pyplot as plt\n",
    "from sklearn.neighbors import KNeighborsClassifier\n",
    "from sklearn.discriminant_analysis import LinearDiscriminantAnalysis\n",
    "from sklearn.linear_model import LogisticRegression\n",
    "from sklearn.svm import SVC\n",
    "from sklearn.naive_bayes import GaussianNB\n",
    "from sklearn import tree\n",
    "from sklearn.ensemble import RandomForestClassifier\n",
    "from sklearn.ensemble import GradientBoostingClassifier\n",
    "from xgboost import XGBClassifier\n",
    "from lightgbm import LGBMClassifier\n",
    "from catboost import CatBoostClassifier\n",
    "from sklearn import preprocessing\n",
    "\n",
    "from warnings import filterwarnings\n",
    "filterwarnings('ignore')"
   ]
  },
  {
   "cell_type": "markdown",
   "metadata": {},
   "source": [
    "# 1-Logistic Regression"
   ]
  },
  {
   "cell_type": "code",
   "execution_count": 43,
   "metadata": {},
   "outputs": [
    {
     "data": {
      "text/html": [
       "<div>\n",
       "<style scoped>\n",
       "    .dataframe tbody tr th:only-of-type {\n",
       "        vertical-align: middle;\n",
       "    }\n",
       "\n",
       "    .dataframe tbody tr th {\n",
       "        vertical-align: top;\n",
       "    }\n",
       "\n",
       "    .dataframe thead th {\n",
       "        text-align: right;\n",
       "    }\n",
       "</style>\n",
       "<table border=\"1\" class=\"dataframe\">\n",
       "  <thead>\n",
       "    <tr style=\"text-align: right;\">\n",
       "      <th></th>\n",
       "      <th>Y</th>\n",
       "      <th>X1</th>\n",
       "      <th>X2</th>\n",
       "      <th>X3</th>\n",
       "      <th>X4</th>\n",
       "      <th>X5</th>\n",
       "      <th>X6</th>\n",
       "    </tr>\n",
       "  </thead>\n",
       "  <tbody>\n",
       "    <tr>\n",
       "      <th>0</th>\n",
       "      <td>0</td>\n",
       "      <td>3</td>\n",
       "      <td>3</td>\n",
       "      <td>3</td>\n",
       "      <td>4</td>\n",
       "      <td>2</td>\n",
       "      <td>4</td>\n",
       "    </tr>\n",
       "    <tr>\n",
       "      <th>1</th>\n",
       "      <td>0</td>\n",
       "      <td>3</td>\n",
       "      <td>2</td>\n",
       "      <td>3</td>\n",
       "      <td>5</td>\n",
       "      <td>4</td>\n",
       "      <td>3</td>\n",
       "    </tr>\n",
       "    <tr>\n",
       "      <th>2</th>\n",
       "      <td>1</td>\n",
       "      <td>5</td>\n",
       "      <td>3</td>\n",
       "      <td>3</td>\n",
       "      <td>3</td>\n",
       "      <td>3</td>\n",
       "      <td>5</td>\n",
       "    </tr>\n",
       "    <tr>\n",
       "      <th>3</th>\n",
       "      <td>0</td>\n",
       "      <td>5</td>\n",
       "      <td>4</td>\n",
       "      <td>3</td>\n",
       "      <td>3</td>\n",
       "      <td>3</td>\n",
       "      <td>5</td>\n",
       "    </tr>\n",
       "    <tr>\n",
       "      <th>4</th>\n",
       "      <td>0</td>\n",
       "      <td>5</td>\n",
       "      <td>4</td>\n",
       "      <td>3</td>\n",
       "      <td>3</td>\n",
       "      <td>3</td>\n",
       "      <td>5</td>\n",
       "    </tr>\n",
       "  </tbody>\n",
       "</table>\n",
       "</div>"
      ],
      "text/plain": [
       "   Y  X1  X2  X3  X4  X5  X6\n",
       "0  0   3   3   3   4   2   4\n",
       "1  0   3   2   3   5   4   3\n",
       "2  1   5   3   3   3   3   5\n",
       "3  0   5   4   3   3   3   5\n",
       "4  0   5   4   3   3   3   5"
      ]
     },
     "execution_count": 43,
     "metadata": {},
     "output_type": "execute_result"
    }
   ],
   "source": [
    "customers=pd.read_csv(\"ACME-HappinessSurvey2020.csv\")\n",
    "df=customers.copy()\n",
    "df=df.dropna()\n",
    "df.head()\n"
   ]
  },
  {
   "cell_type": "code",
   "execution_count": 44,
   "metadata": {},
   "outputs": [
    {
     "name": "stdout",
     "output_type": "stream",
     "text": [
      "<class 'pandas.core.frame.DataFrame'>\n",
      "Int64Index: 126 entries, 0 to 125\n",
      "Data columns (total 7 columns):\n",
      " #   Column  Non-Null Count  Dtype\n",
      "---  ------  --------------  -----\n",
      " 0   Y       126 non-null    int64\n",
      " 1   X1      126 non-null    int64\n",
      " 2   X2      126 non-null    int64\n",
      " 3   X3      126 non-null    int64\n",
      " 4   X4      126 non-null    int64\n",
      " 5   X5      126 non-null    int64\n",
      " 6   X6      126 non-null    int64\n",
      "dtypes: int64(7)\n",
      "memory usage: 7.9 KB\n"
     ]
    }
   ],
   "source": [
    "df.info()"
   ]
  },
  {
   "cell_type": "code",
   "execution_count": 45,
   "metadata": {},
   "outputs": [
    {
     "data": {
      "text/html": [
       "<div>\n",
       "<style scoped>\n",
       "    .dataframe tbody tr th:only-of-type {\n",
       "        vertical-align: middle;\n",
       "    }\n",
       "\n",
       "    .dataframe tbody tr th {\n",
       "        vertical-align: top;\n",
       "    }\n",
       "\n",
       "    .dataframe thead th {\n",
       "        text-align: right;\n",
       "    }\n",
       "</style>\n",
       "<table border=\"1\" class=\"dataframe\">\n",
       "  <thead>\n",
       "    <tr style=\"text-align: right;\">\n",
       "      <th></th>\n",
       "      <th>count</th>\n",
       "      <th>mean</th>\n",
       "      <th>std</th>\n",
       "      <th>min</th>\n",
       "      <th>25%</th>\n",
       "      <th>50%</th>\n",
       "      <th>75%</th>\n",
       "      <th>max</th>\n",
       "    </tr>\n",
       "  </thead>\n",
       "  <tbody>\n",
       "    <tr>\n",
       "      <th>Y</th>\n",
       "      <td>126.0</td>\n",
       "      <td>0.547619</td>\n",
       "      <td>0.499714</td>\n",
       "      <td>0.0</td>\n",
       "      <td>0.0</td>\n",
       "      <td>1.0</td>\n",
       "      <td>1.0</td>\n",
       "      <td>1.0</td>\n",
       "    </tr>\n",
       "    <tr>\n",
       "      <th>X1</th>\n",
       "      <td>126.0</td>\n",
       "      <td>4.333333</td>\n",
       "      <td>0.800000</td>\n",
       "      <td>1.0</td>\n",
       "      <td>4.0</td>\n",
       "      <td>5.0</td>\n",
       "      <td>5.0</td>\n",
       "      <td>5.0</td>\n",
       "    </tr>\n",
       "    <tr>\n",
       "      <th>X2</th>\n",
       "      <td>126.0</td>\n",
       "      <td>2.531746</td>\n",
       "      <td>1.114892</td>\n",
       "      <td>1.0</td>\n",
       "      <td>2.0</td>\n",
       "      <td>3.0</td>\n",
       "      <td>3.0</td>\n",
       "      <td>5.0</td>\n",
       "    </tr>\n",
       "    <tr>\n",
       "      <th>X3</th>\n",
       "      <td>126.0</td>\n",
       "      <td>3.309524</td>\n",
       "      <td>1.023440</td>\n",
       "      <td>1.0</td>\n",
       "      <td>3.0</td>\n",
       "      <td>3.0</td>\n",
       "      <td>4.0</td>\n",
       "      <td>5.0</td>\n",
       "    </tr>\n",
       "    <tr>\n",
       "      <th>X4</th>\n",
       "      <td>126.0</td>\n",
       "      <td>3.746032</td>\n",
       "      <td>0.875776</td>\n",
       "      <td>1.0</td>\n",
       "      <td>3.0</td>\n",
       "      <td>4.0</td>\n",
       "      <td>4.0</td>\n",
       "      <td>5.0</td>\n",
       "    </tr>\n",
       "    <tr>\n",
       "      <th>X5</th>\n",
       "      <td>126.0</td>\n",
       "      <td>3.650794</td>\n",
       "      <td>1.147641</td>\n",
       "      <td>1.0</td>\n",
       "      <td>3.0</td>\n",
       "      <td>4.0</td>\n",
       "      <td>4.0</td>\n",
       "      <td>5.0</td>\n",
       "    </tr>\n",
       "    <tr>\n",
       "      <th>X6</th>\n",
       "      <td>126.0</td>\n",
       "      <td>4.253968</td>\n",
       "      <td>0.809311</td>\n",
       "      <td>1.0</td>\n",
       "      <td>4.0</td>\n",
       "      <td>4.0</td>\n",
       "      <td>5.0</td>\n",
       "      <td>5.0</td>\n",
       "    </tr>\n",
       "  </tbody>\n",
       "</table>\n",
       "</div>"
      ],
      "text/plain": [
       "    count      mean       std  min  25%  50%  75%  max\n",
       "Y   126.0  0.547619  0.499714  0.0  0.0  1.0  1.0  1.0\n",
       "X1  126.0  4.333333  0.800000  1.0  4.0  5.0  5.0  5.0\n",
       "X2  126.0  2.531746  1.114892  1.0  2.0  3.0  3.0  5.0\n",
       "X3  126.0  3.309524  1.023440  1.0  3.0  3.0  4.0  5.0\n",
       "X4  126.0  3.746032  0.875776  1.0  3.0  4.0  4.0  5.0\n",
       "X5  126.0  3.650794  1.147641  1.0  3.0  4.0  4.0  5.0\n",
       "X6  126.0  4.253968  0.809311  1.0  4.0  4.0  5.0  5.0"
      ]
     },
     "execution_count": 45,
     "metadata": {},
     "output_type": "execute_result"
    }
   ],
   "source": [
    "df.describe().T"
   ]
  },
  {
   "cell_type": "code",
   "execution_count": 46,
   "metadata": {},
   "outputs": [
    {
     "data": {
      "text/plain": [
       "57"
      ]
     },
     "execution_count": 46,
     "metadata": {},
     "output_type": "execute_result"
    }
   ],
   "source": [
    "df[\"Y\"].value_counts()[0]"
   ]
  },
  {
   "cell_type": "code",
   "execution_count": 47,
   "metadata": {},
   "outputs": [
    {
     "data": {
      "image/png": "[encoded data removed]",
      "text/plain": [
       "<Figure size 432x288 with 1 Axes>"
      ]
     },
     "metadata": {
      "needs_background": "light"
     },
     "output_type": "display_data"
    }
   ],
   "source": [
    "df[\"Y\"].value_counts().plot.barh();"
   ]
  },
  {
   "cell_type": "code",
   "execution_count": 48,
   "metadata": {},
   "outputs": [],
   "source": [
    "y =df[\"Y\"]\n",
    "X=df.drop([\"Y\"],axis=1)"
   ]
  },
  {
   "cell_type": "code",
   "execution_count": 49,
   "metadata": {},
   "outputs": [],
   "source": [
    "import statsmodels.api as sm"
   ]
  },
  {
   "cell_type": "code",
   "execution_count": 50,
   "metadata": {},
   "outputs": [
    {
     "name": "stdout",
     "output_type": "stream",
     "text": [
      "Optimization terminated successfully.\n",
      "         Current function value: 0.662533\n",
      "         Iterations 5\n"
     ]
    },
    {
     "data": {
      "text/html": [
       "<table class=\"simpletable\">\n",
       "<caption>Logit Regression Results</caption>\n",
       "<tr>\n",
       "  <th>Dep. Variable:</th>           <td>Y</td>        <th>  No. Observations:  </th>  <td>   126</td> \n",
       "</tr>\n",
       "<tr>\n",
       "  <th>Model:</th>                 <td>Logit</td>      <th>  Df Residuals:      </th>  <td>   120</td> \n",
       "</tr>\n",
       "<tr>\n",
       "  <th>Method:</th>                 <td>MLE</td>       <th>  Df Model:          </th>  <td>     5</td> \n",
       "</tr>\n",
       "<tr>\n",
       "  <th>Date:</th>            <td>Wed, 11 Nov 2020</td> <th>  Pseudo R-squ.:     </th>  <td>0.03786</td>\n",
       "</tr>\n",
       "<tr>\n",
       "  <th>Time:</th>                <td>11:20:20</td>     <th>  Log-Likelihood:    </th> <td> -83.479</td>\n",
       "</tr>\n",
       "<tr>\n",
       "  <th>converged:</th>             <td>True</td>       <th>  LL-Null:           </th> <td> -86.764</td>\n",
       "</tr>\n",
       "<tr>\n",
       "  <th>Covariance Type:</th>     <td>nonrobust</td>    <th>  LLR p-value:       </th>  <td>0.2546</td> \n",
       "</tr>\n",
       "</table>\n",
       "<table class=\"simpletable\">\n",
       "<tr>\n",
       "   <td></td>     <th>coef</th>     <th>std err</th>      <th>z</th>      <th>P>|z|</th>  <th>[0.025</th>    <th>0.975]</th>  \n",
       "</tr>\n",
       "<tr>\n",
       "  <th>X1</th> <td>    0.2543</td> <td>    0.251</td> <td>    1.013</td> <td> 0.311</td> <td>   -0.238</td> <td>    0.746</td>\n",
       "</tr>\n",
       "<tr>\n",
       "  <th>X2</th> <td>   -0.1896</td> <td>    0.168</td> <td>   -1.127</td> <td> 0.260</td> <td>   -0.519</td> <td>    0.140</td>\n",
       "</tr>\n",
       "<tr>\n",
       "  <th>X3</th> <td>    0.0888</td> <td>    0.204</td> <td>    0.435</td> <td> 0.663</td> <td>   -0.311</td> <td>    0.488</td>\n",
       "</tr>\n",
       "<tr>\n",
       "  <th>X4</th> <td>   -0.2254</td> <td>    0.215</td> <td>   -1.047</td> <td> 0.295</td> <td>   -0.648</td> <td>    0.197</td>\n",
       "</tr>\n",
       "<tr>\n",
       "  <th>X5</th> <td>    0.2325</td> <td>    0.193</td> <td>    1.203</td> <td> 0.229</td> <td>   -0.146</td> <td>    0.611</td>\n",
       "</tr>\n",
       "<tr>\n",
       "  <th>X6</th> <td>   -0.1554</td> <td>    0.246</td> <td>   -0.632</td> <td> 0.527</td> <td>   -0.637</td> <td>    0.326</td>\n",
       "</tr>\n",
       "</table>"
      ],
      "text/plain": [
       "<class 'statsmodels.iolib.summary.Summary'>\n",
       "\"\"\"\n",
       "                           Logit Regression Results                           \n",
       "==============================================================================\n",
       "Dep. Variable:                      Y   No. Observations:                  126\n",
       "Model:                          Logit   Df Residuals:                      120\n",
       "Method:                           MLE   Df Model:                            5\n",
       "Date:                Wed, 11 Nov 2020   Pseudo R-squ.:                 0.03786\n",
       "Time:                        11:20:20   Log-Likelihood:                -83.479\n",
       "converged:                       True   LL-Null:                       -86.764\n",
       "Covariance Type:            nonrobust   LLR p-value:                    0.2546\n",
       "==============================================================================\n",
       "                 coef    std err          z      P>|z|      [0.025      0.975]\n",
       "------------------------------------------------------------------------------\n",
       "X1             0.2543      0.251      1.013      0.311      -0.238       0.746\n",
       "X2            -0.1896      0.168     -1.127      0.260      -0.519       0.140\n",
       "X3             0.0888      0.204      0.435      0.663      -0.311       0.488\n",
       "X4            -0.2254      0.215     -1.047      0.295      -0.648       0.197\n",
       "X5             0.2325      0.193      1.203      0.229      -0.146       0.611\n",
       "X6            -0.1554      0.246     -0.632      0.527      -0.637       0.326\n",
       "==============================================================================\n",
       "\"\"\""
      ]
     },
     "execution_count": 50,
     "metadata": {},
     "output_type": "execute_result"
    }
   ],
   "source": [
    "loj=sm.Logit(y,X)\n",
    "loj_model=loj.fit()\n",
    "loj_model.summary()"
   ]
  },
  {
   "cell_type": "code",
   "execution_count": 51,
   "metadata": {},
   "outputs": [],
   "source": [
    "from sklearn.linear_model import LogisticRegression"
   ]
  },
  {
   "cell_type": "code",
   "execution_count": 52,
   "metadata": {},
   "outputs": [],
   "source": [
    "loj=LogisticRegression(solver=\"liblinear\")"
   ]
  },
  {
   "cell_type": "code",
   "execution_count": 53,
   "metadata": {},
   "outputs": [],
   "source": [
    "loj_model=loj.fit(X,y)"
   ]
  },
  {
   "cell_type": "code",
   "execution_count": 54,
   "metadata": {},
   "outputs": [
    {
     "data": {
      "text/plain": [
       "LogisticRegression(solver='liblinear')"
      ]
     },
     "execution_count": 54,
     "metadata": {},
     "output_type": "execute_result"
    }
   ],
   "source": [
    "loj_model"
   ]
  },
  {
   "cell_type": "code",
   "execution_count": 55,
   "metadata": {},
   "outputs": [
    {
     "data": {
      "text/plain": [
       "-1.1653138338027755"
      ]
     },
     "execution_count": 55,
     "metadata": {},
     "output_type": "execute_result"
    }
   ],
   "source": [
    "loj_model.intercept_[0]"
   ]
  },
  {
   "cell_type": "code",
   "execution_count": 56,
   "metadata": {},
   "outputs": [
    {
     "data": {
      "text/plain": [
       "array([[ 0.33323844, -0.15174042,  0.09988177, -0.14293119,  0.21546681,\n",
       "        -0.05641371]])"
      ]
     },
     "execution_count": 56,
     "metadata": {},
     "output_type": "execute_result"
    }
   ],
   "source": [
    "loj_model.coef_"
   ]
  },
  {
   "cell_type": "markdown",
   "metadata": {},
   "source": [
    "## Prediction And Model Tuning"
   ]
  },
  {
   "cell_type": "code",
   "execution_count": 57,
   "metadata": {},
   "outputs": [],
   "source": [
    "y_pred = loj_model.predict(X)"
   ]
  },
  {
   "cell_type": "code",
   "execution_count": 58,
   "metadata": {},
   "outputs": [
    {
     "data": {
      "text/plain": [
       "array([[22, 35],\n",
       "       [14, 55]], dtype=int64)"
      ]
     },
     "execution_count": 58,
     "metadata": {},
     "output_type": "execute_result"
    }
   ],
   "source": [
    "confusion_matrix(y,y_pred)"
   ]
  },
  {
   "cell_type": "code",
   "execution_count": 59,
   "metadata": {},
   "outputs": [],
   "source": [
    "#accuracy score"
   ]
  },
  {
   "cell_type": "code",
   "execution_count": 60,
   "metadata": {},
   "outputs": [
    {
     "data": {
      "text/plain": [
       "0.6111111111111112"
      ]
     },
     "execution_count": 60,
     "metadata": {},
     "output_type": "execute_result"
    }
   ],
   "source": [
    "accuracy_score(y,y_pred)"
   ]
  },
  {
   "cell_type": "code",
   "execution_count": 61,
   "metadata": {},
   "outputs": [
    {
     "name": "stdout",
     "output_type": "stream",
     "text": [
      "              precision    recall  f1-score   support\n",
      "\n",
      "           0       0.61      0.39      0.47        57\n",
      "           1       0.61      0.80      0.69        69\n",
      "\n",
      "    accuracy                           0.61       126\n",
      "   macro avg       0.61      0.59      0.58       126\n",
      "weighted avg       0.61      0.61      0.59       126\n",
      "\n"
     ]
    }
   ],
   "source": [
    "print(classification_report(y,y_pred))"
   ]
  },
  {
   "cell_type": "code",
   "execution_count": 62,
   "metadata": {},
   "outputs": [
    {
     "data": {
      "text/plain": [
       "array([0, 0, 1, 1, 1], dtype=int64)"
      ]
     },
     "execution_count": 62,
     "metadata": {},
     "output_type": "execute_result"
    }
   ],
   "source": [
    "loj_model.predict(X)[0:5]"
   ]
  },
  {
   "cell_type": "code",
   "execution_count": 63,
   "metadata": {},
   "outputs": [],
   "source": [
    "#probablity of 1 and 0"
   ]
  },
  {
   "cell_type": "code",
   "execution_count": 64,
   "metadata": {},
   "outputs": [
    {
     "data": {
      "text/plain": [
       "array([[0.66543737, 0.33456263],\n",
       "       [0.54772028, 0.45227972],\n",
       "       [0.43024767, 0.56975233],\n",
       "       [0.46776968, 0.53223032],\n",
       "       [0.46776968, 0.53223032],\n",
       "       [0.46943039, 0.53056961],\n",
       "       [0.58836539, 0.41163461],\n",
       "       [0.42518651, 0.57481349],\n",
       "       [0.38227238, 0.61772762],\n",
       "       [0.38470892, 0.61529108]])"
      ]
     },
     "execution_count": 64,
     "metadata": {},
     "output_type": "execute_result"
    }
   ],
   "source": [
    "loj_model.predict_proba(X)[0:10]"
   ]
  },
  {
   "cell_type": "code",
   "execution_count": 65,
   "metadata": {},
   "outputs": [
    {
     "data": {
      "image/png": "[encoded data removed]",
      "text/plain": [
       "<Figure size 432x288 with 1 Axes>"
      ]
     },
     "metadata": {
      "needs_background": "light"
     },
     "output_type": "display_data"
    }
   ],
   "source": [
    "logit_roc_auc = roc_auc_score(y,loj_model.predict(X))\n",
    "\n",
    "fpr,tpr,treshold =roc_curve(y,loj_model.predict_proba(X)[:,1])\n",
    "plt.figure()\n",
    "plt.plot(fpr,tpr,label=\"AUC (area= %0.2f)\" % logit_roc_auc)\n",
    "plt.plot([0,1],[0,1],\"r--\")\n",
    "plt.xlim([0.0,1.0])\n",
    "plt.ylim([0.0,1.05])\n",
    "plt.xlabel(\"False Positive Rate\")\n",
    "plt.ylabel(\"True Positive Rate\")\n",
    "plt.title(\"ROC\")\n",
    "plt.show()"
   ]
  },
  {
   "cell_type": "code",
   "execution_count": 66,
   "metadata": {},
   "outputs": [
    {
     "data": {
      "text/plain": [
       "0.591533180778032"
      ]
     },
     "execution_count": 66,
     "metadata": {},
     "output_type": "execute_result"
    }
   ],
   "source": [
    "logit_roc_auc"
   ]
  },
  {
   "cell_type": "markdown",
   "metadata": {},
   "source": [
    "## Cross Validation"
   ]
  },
  {
   "cell_type": "code",
   "execution_count": 67,
   "metadata": {},
   "outputs": [],
   "source": [
    "X_train,X_test,y_train,y_test = train_test_split(X,y,\n",
    "                                                test_size=0.33,\n",
    "                                                random_state=42)"
   ]
  },
  {
   "cell_type": "code",
   "execution_count": 68,
   "metadata": {},
   "outputs": [
    {
     "data": {
      "text/plain": [
       "LogisticRegression(solver='liblinear')"
      ]
     },
     "execution_count": 68,
     "metadata": {},
     "output_type": "execute_result"
    }
   ],
   "source": [
    "loj=LogisticRegression(solver=\"liblinear\")\n",
    "loj_model=loj.fit(X_train,y_train)\n",
    "loj_model"
   ]
  },
  {
   "cell_type": "code",
   "execution_count": 69,
   "metadata": {},
   "outputs": [],
   "source": [
    "y_pred=loj_model.predict(X_test)"
   ]
  },
  {
   "cell_type": "code",
   "execution_count": 70,
   "metadata": {},
   "outputs": [
    {
     "data": {
      "text/plain": [
       "0.47619047619047616"
      ]
     },
     "execution_count": 70,
     "metadata": {},
     "output_type": "execute_result"
    }
   ],
   "source": [
    "accuracy_score(y_test,y_pred)"
   ]
  },
  {
   "cell_type": "code",
   "execution_count": 71,
   "metadata": {},
   "outputs": [
    {
     "data": {
      "text/plain": [
       "array([0.4 , 0.6 , 0.75, 0.5 , 0.5 , 0.75, 0.75, 0.5 , 0.25, 0.5 ])"
      ]
     },
     "execution_count": 71,
     "metadata": {},
     "output_type": "execute_result"
    }
   ],
   "source": [
    "cross_val_score(loj_model,\n",
    "               X_test,\n",
    "               y_test,\n",
    "               cv=10)"
   ]
  },
  {
   "cell_type": "code",
   "execution_count": 72,
   "metadata": {},
   "outputs": [
    {
     "data": {
      "text/plain": [
       "0.55"
      ]
     },
     "execution_count": 72,
     "metadata": {},
     "output_type": "execute_result"
    }
   ],
   "source": [
    "cross_val_score(loj_model,\n",
    "               X_test,\n",
    "               y_test,\n",
    "               cv=10).mean()"
   ]
  },
  {
   "cell_type": "markdown",
   "metadata": {},
   "source": [
    "# 2-Gaussian Naive Bayes"
   ]
  },
  {
   "cell_type": "code",
   "execution_count": 73,
   "metadata": {},
   "outputs": [],
   "source": [
    "customers=pd.read_csv(\"ACME-HappinessSurvey2020.csv\")\n",
    "df = customers.copy()\n",
    "df = df.dropna()\n",
    "y=df[\"Y\"]\n",
    "X=df.drop([\"Y\"],axis=1)\n",
    "X_train,X_test,y_train,y_test = train_test_split(X,y,\n",
    "                                                test_size=0.33,\n",
    "                                                random_state=42)"
   ]
  },
  {
   "cell_type": "code",
   "execution_count": 74,
   "metadata": {},
   "outputs": [],
   "source": [
    "from sklearn.naive_bayes import GaussianNB"
   ]
  },
  {
   "cell_type": "code",
   "execution_count": 75,
   "metadata": {},
   "outputs": [
    {
     "data": {
      "text/plain": [
       "GaussianNB()"
      ]
     },
     "execution_count": 75,
     "metadata": {},
     "output_type": "execute_result"
    }
   ],
   "source": [
    "nb=GaussianNB()\n",
    "nb_model = nb.fit(X_train,y_train)\n",
    "nb_model"
   ]
  },
  {
   "cell_type": "code",
   "execution_count": 76,
   "metadata": {},
   "outputs": [
    {
     "data": {
      "text/plain": [
       "array([1, 1, 0, 1, 0, 1, 1, 1, 1, 0], dtype=int64)"
      ]
     },
     "execution_count": 76,
     "metadata": {},
     "output_type": "execute_result"
    }
   ],
   "source": [
    "nb_model.predict(X_test)[0:10]"
   ]
  },
  {
   "cell_type": "code",
   "execution_count": 77,
   "metadata": {},
   "outputs": [],
   "source": [
    "#probablity of 1 and 0"
   ]
  },
  {
   "cell_type": "code",
   "execution_count": 78,
   "metadata": {},
   "outputs": [
    {
     "data": {
      "text/plain": [
       "array([[0.2646237 , 0.7353763 ],\n",
       "       [0.42958701, 0.57041299],\n",
       "       [0.98004346, 0.01995654],\n",
       "       [0.39441633, 0.60558367],\n",
       "       [0.9747014 , 0.0252986 ],\n",
       "       [0.12744619, 0.87255381],\n",
       "       [0.31299965, 0.68700035],\n",
       "       [0.12727567, 0.87272433],\n",
       "       [0.08398646, 0.91601354],\n",
       "       [0.83985714, 0.16014286]])"
      ]
     },
     "execution_count": 78,
     "metadata": {},
     "output_type": "execute_result"
    }
   ],
   "source": [
    "nb_model.predict_proba(X_test)[0:10]"
   ]
  },
  {
   "cell_type": "code",
   "execution_count": 79,
   "metadata": {},
   "outputs": [],
   "source": [
    "y_pred=nb_model.predict(X_test)"
   ]
  },
  {
   "cell_type": "code",
   "execution_count": 80,
   "metadata": {},
   "outputs": [
    {
     "data": {
      "text/plain": [
       "0.4523809523809524"
      ]
     },
     "execution_count": 80,
     "metadata": {},
     "output_type": "execute_result"
    }
   ],
   "source": [
    "accuracy_score(y_test,y_pred)"
   ]
  },
  {
   "cell_type": "code",
   "execution_count": 81,
   "metadata": {},
   "outputs": [
    {
     "data": {
      "text/plain": [
       "0.615"
      ]
     },
     "execution_count": 81,
     "metadata": {},
     "output_type": "execute_result"
    }
   ],
   "source": [
    "cross_val_score(nb_model,\n",
    "                X_test,\n",
    "                y_test,\n",
    "                cv=10).mean()"
   ]
  },
  {
   "cell_type": "markdown",
   "metadata": {},
   "source": [
    "# 3-K Nearest Neighbour(KNN)"
   ]
  },
  {
   "cell_type": "code",
   "execution_count": 82,
   "metadata": {},
   "outputs": [],
   "source": [
    "customers=pd.read_csv(\"ACME-HappinessSurvey2020.csv\")\n",
    "df = customers.copy()\n",
    "df = df.dropna()\n",
    "y=df[\"Y\"]\n",
    "X=df.drop([\"Y\"],axis=1)\n",
    "X_train,X_test,y_train,y_test = train_test_split(X,y,\n",
    "                                                test_size=0.32,\n",
    "                                                random_state=42)"
   ]
  },
  {
   "cell_type": "code",
   "execution_count": 83,
   "metadata": {},
   "outputs": [],
   "source": [
    "knn=KNeighborsClassifier()\n",
    "knn_model=knn.fit(X_train,y_train)"
   ]
  },
  {
   "cell_type": "code",
   "execution_count": 84,
   "metadata": {},
   "outputs": [
    {
     "data": {
      "text/plain": [
       "0.43902439024390244"
      ]
     },
     "execution_count": 84,
     "metadata": {},
     "output_type": "execute_result"
    }
   ],
   "source": [
    "y_pred=knn_model.predict(X_test)\n",
    "accuracy_score(y_test,y_pred)"
   ]
  },
  {
   "cell_type": "code",
   "execution_count": 85,
   "metadata": {},
   "outputs": [
    {
     "data": {
      "text/plain": [
       "0.615"
      ]
     },
     "execution_count": 85,
     "metadata": {},
     "output_type": "execute_result"
    }
   ],
   "source": [
    "cross_val_score(knn_model,X_test,y_test,cv=10).mean()"
   ]
  },
  {
   "cell_type": "code",
   "execution_count": 86,
   "metadata": {},
   "outputs": [
    {
     "name": "stdout",
     "output_type": "stream",
     "text": [
      "              precision    recall  f1-score   support\n",
      "\n",
      "           0       0.45      0.23      0.30        22\n",
      "           1       0.43      0.68      0.53        19\n",
      "\n",
      "    accuracy                           0.44        41\n",
      "   macro avg       0.44      0.46      0.42        41\n",
      "weighted avg       0.44      0.44      0.41        41\n",
      "\n"
     ]
    }
   ],
   "source": [
    "print(classification_report(y_test,y_pred))"
   ]
  },
  {
   "cell_type": "markdown",
   "metadata": {},
   "source": [
    "## Model Tuning"
   ]
  },
  {
   "cell_type": "code",
   "execution_count": 87,
   "metadata": {},
   "outputs": [],
   "source": [
    "knn_params = {\"n_neighbors\":np.arange(1,50)}\n"
   ]
  },
  {
   "cell_type": "code",
   "execution_count": 88,
   "metadata": {},
   "outputs": [
    {
     "data": {
      "text/plain": [
       "GridSearchCV(cv=10, estimator=KNeighborsClassifier(),\n",
       "             param_grid={'n_neighbors': array([ 1,  2,  3,  4,  5,  6,  7,  8,  9, 10, 11, 12, 13, 14, 15, 16, 17,\n",
       "       18, 19, 20, 21, 22, 23, 24, 25, 26, 27, 28, 29, 30, 31, 32, 33, 34,\n",
       "       35, 36, 37, 38, 39, 40, 41, 42, 43, 44, 45, 46, 47, 48, 49])})"
      ]
     },
     "execution_count": 88,
     "metadata": {},
     "output_type": "execute_result"
    }
   ],
   "source": [
    "knn=KNeighborsClassifier()\n",
    "knn_cv =GridSearchCV(knn,knn_params,cv=10)\n",
    "knn_cv.fit(X_train,y_train)"
   ]
  },
  {
   "cell_type": "code",
   "execution_count": 89,
   "metadata": {},
   "outputs": [
    {
     "name": "stdout",
     "output_type": "stream",
     "text": [
      "Best Score :0.6388888888888888\n",
      "Best Parameters : {'n_neighbors': 16}\n"
     ]
    }
   ],
   "source": [
    "print(\"Best Score :\" + str(knn_cv.best_score_))\n",
    "print(\"Best Parameters : \" + str(knn_cv.best_params_))"
   ]
  },
  {
   "cell_type": "code",
   "execution_count": 90,
   "metadata": {},
   "outputs": [],
   "source": [
    "#Final Model"
   ]
  },
  {
   "cell_type": "code",
   "execution_count": 91,
   "metadata": {},
   "outputs": [],
   "source": [
    "knn=KNeighborsClassifier(n_neighbors=31)\n"
   ]
  },
  {
   "cell_type": "code",
   "execution_count": 92,
   "metadata": {},
   "outputs": [],
   "source": [
    "knn_tuned=knn.fit(X_train,y_train)"
   ]
  },
  {
   "cell_type": "code",
   "execution_count": 93,
   "metadata": {},
   "outputs": [
    {
     "data": {
      "text/plain": [
       "KNeighborsClassifier(n_neighbors=31)"
      ]
     },
     "execution_count": 93,
     "metadata": {},
     "output_type": "execute_result"
    }
   ],
   "source": [
    "knn_tuned"
   ]
  },
  {
   "cell_type": "code",
   "execution_count": 94,
   "metadata": {},
   "outputs": [],
   "source": [
    "y_pred=knn_tuned.predict(X_test)"
   ]
  },
  {
   "cell_type": "code",
   "execution_count": 95,
   "metadata": {},
   "outputs": [
    {
     "data": {
      "text/plain": [
       "0.4146341463414634"
      ]
     },
     "execution_count": 95,
     "metadata": {},
     "output_type": "execute_result"
    }
   ],
   "source": [
    "accuracy_score(y_test,y_pred)"
   ]
  },
  {
   "cell_type": "markdown",
   "metadata": {},
   "source": [
    "# 4-Support Vector Machines Classifier(SVR)"
   ]
  },
  {
   "cell_type": "code",
   "execution_count": 96,
   "metadata": {},
   "outputs": [],
   "source": [
    "customers=pd.read_csv(\"ACME-HappinessSurvey2020.csv\")\n",
    "df = customers.copy()\n",
    "df = df.dropna()\n",
    "y=df[\"Y\"]\n",
    "X=df.drop([\"Y\"],axis=1)\n",
    "X_train,X_test,y_train,y_test = train_test_split(X,y,\n",
    "                                                test_size=0.30,\n",
    "                                                random_state=42)"
   ]
  },
  {
   "cell_type": "code",
   "execution_count": 97,
   "metadata": {},
   "outputs": [],
   "source": [
    "svm_model = SVC(kernel=\"linear\").fit(X_train,y_train)"
   ]
  },
  {
   "cell_type": "code",
   "execution_count": 98,
   "metadata": {},
   "outputs": [
    {
     "data": {
      "text/plain": [
       "SVC(kernel='linear')"
      ]
     },
     "execution_count": 98,
     "metadata": {},
     "output_type": "execute_result"
    }
   ],
   "source": [
    "svm_model"
   ]
  },
  {
   "cell_type": "code",
   "execution_count": 99,
   "metadata": {},
   "outputs": [],
   "source": [
    "y_pred=svm_model.predict(X_test)"
   ]
  },
  {
   "cell_type": "code",
   "execution_count": 100,
   "metadata": {},
   "outputs": [
    {
     "data": {
      "text/plain": [
       "0.5526315789473685"
      ]
     },
     "execution_count": 100,
     "metadata": {},
     "output_type": "execute_result"
    }
   ],
   "source": [
    "accuracy_score(y_test,y_pred)"
   ]
  },
  {
   "cell_type": "markdown",
   "metadata": {},
   "source": [
    "## Model Tuning"
   ]
  },
  {
   "cell_type": "code",
   "execution_count": 101,
   "metadata": {},
   "outputs": [],
   "source": [
    "svc_params ={\"C\":np.arange(1,10)} #never give \"0\" for \"C\""
   ]
  },
  {
   "cell_type": "code",
   "execution_count": 102,
   "metadata": {},
   "outputs": [],
   "source": [
    "svc=SVC(kernel=\"linear\")"
   ]
  },
  {
   "cell_type": "code",
   "execution_count": 103,
   "metadata": {},
   "outputs": [],
   "source": [
    "svc_cv_model = GridSearchCV(svc,svc_params,cv=10)"
   ]
  },
  {
   "cell_type": "code",
   "execution_count": 104,
   "metadata": {},
   "outputs": [
    {
     "data": {
      "text/plain": [
       "GridSearchCV(cv=10, estimator=SVC(kernel='linear'),\n",
       "             param_grid={'C': array([1, 2, 3, 4, 5, 6, 7, 8, 9])})"
      ]
     },
     "execution_count": 104,
     "metadata": {},
     "output_type": "execute_result"
    }
   ],
   "source": [
    "svc_cv_model.fit(X_train,y_train)"
   ]
  },
  {
   "cell_type": "code",
   "execution_count": 105,
   "metadata": {},
   "outputs": [
    {
     "data": {
      "text/plain": [
       "{'C': 1}"
      ]
     },
     "execution_count": 105,
     "metadata": {},
     "output_type": "execute_result"
    }
   ],
   "source": [
    "svc_cv_model.best_params_"
   ]
  },
  {
   "cell_type": "code",
   "execution_count": 106,
   "metadata": {},
   "outputs": [],
   "source": [
    "# C : 1 "
   ]
  },
  {
   "cell_type": "code",
   "execution_count": 107,
   "metadata": {},
   "outputs": [],
   "source": [
    "#Final Model"
   ]
  },
  {
   "cell_type": "code",
   "execution_count": 108,
   "metadata": {},
   "outputs": [],
   "source": [
    "svc_tuned=SVC(kernel=\"linear\",C=1).fit(X_train,y_train)"
   ]
  },
  {
   "cell_type": "code",
   "execution_count": 109,
   "metadata": {},
   "outputs": [],
   "source": [
    "y_pred=svc_tuned.predict(X_test)"
   ]
  },
  {
   "cell_type": "code",
   "execution_count": 110,
   "metadata": {},
   "outputs": [
    {
     "data": {
      "text/plain": [
       "0.5526315789473685"
      ]
     },
     "execution_count": 110,
     "metadata": {},
     "output_type": "execute_result"
    }
   ],
   "source": [
    "accuracy_score(y_test,y_pred)"
   ]
  },
  {
   "cell_type": "markdown",
   "metadata": {},
   "source": [
    "# 5-RBF SVC(radial Basis Function Support Vector Classification)"
   ]
  },
  {
   "cell_type": "code",
   "execution_count": 111,
   "metadata": {},
   "outputs": [],
   "source": [
    "customers=pd.read_csv(\"ACME-HappinessSurvey2020.csv\")\n",
    "df = customers.copy()\n",
    "df = df.dropna()\n",
    "y=df[\"Y\"]\n",
    "X=df.drop([\"Y\"],axis=1)\n",
    "X_train,X_test,y_train,y_test = train_test_split(X,y,\n",
    "                                                test_size=0.30,\n",
    "                                                random_state=42)"
   ]
  },
  {
   "cell_type": "code",
   "execution_count": 112,
   "metadata": {},
   "outputs": [],
   "source": [
    "svc_model = SVC(kernel=\"rbf\").fit(X_train,y_train)"
   ]
  },
  {
   "cell_type": "code",
   "execution_count": 113,
   "metadata": {},
   "outputs": [
    {
     "data": {
      "text/plain": [
       "SVC()"
      ]
     },
     "execution_count": 113,
     "metadata": {},
     "output_type": "execute_result"
    }
   ],
   "source": [
    "svc_model"
   ]
  },
  {
   "cell_type": "code",
   "execution_count": 114,
   "metadata": {},
   "outputs": [],
   "source": [
    "y_pred=svc_model.predict(X_test)"
   ]
  },
  {
   "cell_type": "code",
   "execution_count": 115,
   "metadata": {},
   "outputs": [
    {
     "data": {
      "text/plain": [
       "0.5"
      ]
     },
     "execution_count": 115,
     "metadata": {},
     "output_type": "execute_result"
    }
   ],
   "source": [
    "accuracy_score(y_test,y_pred)"
   ]
  },
  {
   "cell_type": "markdown",
   "metadata": {},
   "source": [
    "## Model Tuning"
   ]
  },
  {
   "cell_type": "code",
   "execution_count": 116,
   "metadata": {},
   "outputs": [],
   "source": [
    "svc_params={\"C\":[0.0001,0.001,0.01,0.1,1,5,10,50,100],\n",
    "            \"gamma\": [0.0001,0.001,0.01,0.1,1,5,10,50,100]\n",
    "           }"
   ]
  },
  {
   "cell_type": "code",
   "execution_count": 117,
   "metadata": {},
   "outputs": [],
   "source": [
    "svc_model=SVC(kernel=\"rbf\")"
   ]
  },
  {
   "cell_type": "code",
   "execution_count": 118,
   "metadata": {},
   "outputs": [],
   "source": [
    "svc_cv_model=GridSearchCV(svc_model,svc_params,cv=10,n_jobs=-1,verbose=2)"
   ]
  },
  {
   "cell_type": "code",
   "execution_count": 119,
   "metadata": {},
   "outputs": [
    {
     "name": "stdout",
     "output_type": "stream",
     "text": [
      "Fitting 10 folds for each of 81 candidates, totalling 810 fits\n"
     ]
    },
    {
     "name": "stderr",
     "output_type": "stream",
     "text": [
      "[Parallel(n_jobs=-1)]: Using backend LokyBackend with 4 concurrent workers.\n",
      "[Parallel(n_jobs=-1)]: Done  33 tasks      | elapsed:    4.6s\n",
      "[Parallel(n_jobs=-1)]: Done 810 out of 810 | elapsed:    7.3s finished\n"
     ]
    },
    {
     "data": {
      "text/plain": [
       "GridSearchCV(cv=10, estimator=SVC(), n_jobs=-1,\n",
       "             param_grid={'C': [0.0001, 0.001, 0.01, 0.1, 1, 5, 10, 50, 100],\n",
       "                         'gamma': [0.0001, 0.001, 0.01, 0.1, 1, 5, 10, 50,\n",
       "                                   100]},\n",
       "             verbose=2)"
      ]
     },
     "execution_count": 119,
     "metadata": {},
     "output_type": "execute_result"
    }
   ],
   "source": [
    "svc_cv_model.fit(X_train,y_train)"
   ]
  },
  {
   "cell_type": "code",
   "execution_count": 120,
   "metadata": {},
   "outputs": [
    {
     "data": {
      "text/plain": [
       "{'C': 5, 'gamma': 0.1}"
      ]
     },
     "execution_count": 120,
     "metadata": {},
     "output_type": "execute_result"
    }
   ],
   "source": [
    "svc_cv_model.best_params_"
   ]
  },
  {
   "cell_type": "code",
   "execution_count": 121,
   "metadata": {},
   "outputs": [],
   "source": [
    "svc_tuned=SVC(kernel=\"rbf\",C=5,gamma=0.1).fit(X_train,y_train)"
   ]
  },
  {
   "cell_type": "code",
   "execution_count": 122,
   "metadata": {},
   "outputs": [],
   "source": [
    "y_pred=svc_tuned.predict(X_test)"
   ]
  },
  {
   "cell_type": "code",
   "execution_count": 123,
   "metadata": {},
   "outputs": [
    {
     "data": {
      "text/plain": [
       "0.5"
      ]
     },
     "execution_count": 123,
     "metadata": {},
     "output_type": "execute_result"
    }
   ],
   "source": [
    "accuracy_score(y_test,y_pred) "
   ]
  },
  {
   "cell_type": "code",
   "execution_count": null,
   "metadata": {},
   "outputs": [],
   "source": []
  },
  {
   "cell_type": "markdown",
   "metadata": {},
   "source": [
    "# 6-Artificial Neural Networks(ANN)"
   ]
  },
  {
   "cell_type": "code",
   "execution_count": 127,
   "metadata": {},
   "outputs": [],
   "source": [
    "customers=pd.read_csv(\"ACME-HappinessSurvey2020.csv\")\n",
    "df = customers.copy()\n",
    "df = df.dropna()\n",
    "y=df[\"Y\"]\n",
    "X=df.drop([\"Y\"],axis=1)\n",
    "X_train,X_test,y_train,y_test = train_test_split(X,y,\n",
    "                                                test_size=0.30,\n",
    "                                                random_state=42)"
   ]
  },
  {
   "cell_type": "code",
   "execution_count": 128,
   "metadata": {},
   "outputs": [],
   "source": [
    "from sklearn.preprocessing import StandardScaler "
   ]
  },
  {
   "cell_type": "code",
   "execution_count": 129,
   "metadata": {},
   "outputs": [],
   "source": [
    "scaler =StandardScaler()"
   ]
  },
  {
   "cell_type": "code",
   "execution_count": 130,
   "metadata": {},
   "outputs": [
    {
     "data": {
      "text/plain": [
       "StandardScaler()"
      ]
     },
     "execution_count": 130,
     "metadata": {},
     "output_type": "execute_result"
    }
   ],
   "source": [
    "scaler.fit(X_train)"
   ]
  },
  {
   "cell_type": "code",
   "execution_count": 131,
   "metadata": {},
   "outputs": [],
   "source": [
    "X_train_scaled = scaler.transform(X_train)\n",
    "X_test_scaled = scaler.transform(X_test)"
   ]
  },
  {
   "cell_type": "code",
   "execution_count": 132,
   "metadata": {},
   "outputs": [],
   "source": [
    "from sklearn.neural_network import MLPClassifier"
   ]
  },
  {
   "cell_type": "code",
   "execution_count": 133,
   "metadata": {},
   "outputs": [],
   "source": [
    "mlpc = MLPClassifier().fit(X_train_scaled,y_train)"
   ]
  },
  {
   "cell_type": "code",
   "execution_count": 134,
   "metadata": {
    "collapsed": true,
    "jupyter": {
     "outputs_hidden": true
    }
   },
   "outputs": [
    {
     "data": {
      "text/plain": [
       "[array([[ 2.22585204e-01, -2.39103169e-04, -1.73125851e-02,\n",
       "          1.28652498e-01, -7.21968299e-02,  1.60643775e-01,\n",
       "         -1.90507116e-01,  1.32117132e-01,  1.20758138e-02,\n",
       "          1.15741099e-01, -1.32345999e-01, -1.63123904e-02,\n",
       "          2.80115230e-01,  7.55114350e-02, -5.10253537e-02,\n",
       "         -3.80385895e-02, -3.50984625e-01,  1.30552488e-01,\n",
       "          1.37710320e-01, -1.34037057e-01,  1.89021393e-03,\n",
       "         -2.43176821e-01, -1.80315730e-01, -1.22543962e-01,\n",
       "          1.20476976e-01,  1.00067096e-01,  2.36548798e-01,\n",
       "          3.05421496e-01, -2.40869947e-01,  3.40159681e-02,\n",
       "          1.43267496e-01,  2.58314354e-02,  1.14668705e-01,\n",
       "          1.61553333e-01,  1.49061213e-01, -1.86650810e-02,\n",
       "          1.47008711e-01, -6.94446049e-02,  1.57205965e-01,\n",
       "          1.81699018e-01, -1.26020526e-01, -2.70873282e-01,\n",
       "         -1.94655114e-01,  3.00066113e-01,  3.68943750e-01,\n",
       "         -1.68225017e-01, -3.95998913e-02,  3.74859200e-02,\n",
       "          1.46005969e-01,  1.53448060e-01,  1.04702066e-01,\n",
       "         -5.91132825e-02, -1.93420841e-02,  2.18370273e-01,\n",
       "         -1.46292377e-01,  1.64017907e-01,  3.05419198e-01,\n",
       "         -1.01817642e-03,  1.47385852e-01, -9.74368555e-02,\n",
       "          1.04025906e-01, -2.40253572e-01, -2.12386169e-01,\n",
       "          1.75504506e-01,  1.55631539e-01,  1.34107734e-01,\n",
       "          1.06528048e-01, -1.65569507e-01,  1.35697778e-01,\n",
       "          3.31524039e-01,  3.05208996e-01, -4.39482999e-02,\n",
       "          9.21012839e-02,  1.48385422e-01,  9.15868577e-02,\n",
       "         -8.63087513e-02, -2.23128673e-01,  1.54528273e-01,\n",
       "         -2.48731855e-01, -3.08032808e-01, -1.61440699e-01,\n",
       "         -4.27290175e-02, -8.64676205e-02, -1.87638230e-01,\n",
       "         -2.50857144e-01, -2.73101705e-02, -1.91711619e-01,\n",
       "          2.89429753e-01,  2.32056829e-01, -1.47446914e-01,\n",
       "         -1.08227005e-01,  2.81111970e-01, -7.42233908e-02,\n",
       "          1.63651704e-01, -3.26081484e-01, -1.56169160e-02,\n",
       "         -1.80485846e-01, -1.95758474e-02, -2.33964762e-01,\n",
       "          2.72521888e-01],\n",
       "        [-1.16879347e-01,  6.98126701e-03, -2.90299814e-01,\n",
       "          3.26675084e-01, -1.32585607e-01, -1.64492265e-02,\n",
       "         -1.78243385e-02, -2.60228930e-01,  6.12337524e-02,\n",
       "          1.76794061e-01, -2.50578910e-01,  1.34817525e-03,\n",
       "          4.63151239e-02, -2.44011063e-01,  3.14661306e-01,\n",
       "          7.93469402e-02,  7.99233278e-02, -8.39598067e-02,\n",
       "          1.81263776e-01,  6.12571751e-02, -2.02069399e-01,\n",
       "         -1.22195301e-01,  2.51215315e-01, -6.25815201e-02,\n",
       "         -1.37757300e-01, -1.62013241e-01,  1.75880173e-01,\n",
       "         -2.42310858e-01, -1.61335906e-01,  2.68811992e-01,\n",
       "          1.94544348e-02,  1.22833976e-01,  4.87601344e-02,\n",
       "          2.57427278e-01, -1.66579945e-01, -6.17205069e-02,\n",
       "          1.46805676e-01,  1.30317130e-01,  1.75634699e-01,\n",
       "         -1.66745121e-01, -3.22420903e-01, -3.27471305e-01,\n",
       "          2.73086374e-01, -1.58912452e-01, -1.85308857e-01,\n",
       "         -1.77291531e-01,  1.32631911e-01,  2.70862722e-01,\n",
       "          3.12870430e-02, -1.22250497e-01, -2.21929863e-01,\n",
       "          6.37537201e-02, -1.22342142e-01,  2.53781310e-01,\n",
       "         -3.99731811e-02,  1.29720073e-01, -1.16388944e-01,\n",
       "          7.92555053e-03,  1.44939839e-01, -1.66533265e-01,\n",
       "          1.71623375e-02,  1.33388440e-02, -1.24934485e-02,\n",
       "          4.77369641e-02,  1.78714041e-01,  5.31713953e-02,\n",
       "          1.71267470e-01,  3.53678140e-01,  2.07724242e-01,\n",
       "         -2.32158845e-01, -4.05792249e-02,  3.50123564e-02,\n",
       "          1.53723691e-01,  1.17652342e-01,  3.46260045e-01,\n",
       "          1.36596573e-01, -6.90456802e-02, -1.52102456e-01,\n",
       "         -1.63238922e-01, -6.38076275e-02, -7.18301434e-02,\n",
       "          1.28197406e-01,  6.88035650e-02, -8.68737612e-02,\n",
       "         -2.05152371e-02,  1.63423734e-01,  1.68946208e-01,\n",
       "          6.11220937e-03, -5.07068164e-02, -1.92054887e-01,\n",
       "         -1.76443335e-01,  9.98737139e-02, -2.54740233e-01,\n",
       "          2.69882903e-02,  3.32468007e-01, -5.90982792e-02,\n",
       "          2.69451803e-01,  1.42633994e-01,  2.02079506e-01,\n",
       "         -1.06804229e-01],\n",
       "        [-1.26437695e-01, -2.13405381e-01,  5.25492611e-02,\n",
       "          9.09598297e-02,  3.21658184e-02, -9.58598838e-02,\n",
       "          1.11459417e-01,  1.00951230e-01, -4.26660834e-01,\n",
       "         -3.14841723e-01,  2.26800021e-01, -1.96325271e-01,\n",
       "         -1.53146062e-01, -3.19938495e-01, -1.82580862e-03,\n",
       "          7.69663497e-02,  2.36272708e-01, -1.46965767e-02,\n",
       "         -2.62023533e-01, -3.12272877e-01,  3.15901332e-01,\n",
       "          1.12854813e-01,  1.97846411e-01, -2.67432055e-02,\n",
       "         -2.10804325e-01, -2.56205644e-01,  3.69190708e-02,\n",
       "          1.96119832e-01,  4.25459851e-02,  7.39600459e-02,\n",
       "          2.12464683e-01, -4.28602548e-02,  1.46852889e-01,\n",
       "          1.34104030e-01, -3.28843835e-01, -5.92420961e-02,\n",
       "          7.73277831e-02,  2.21271726e-01, -1.20052458e-01,\n",
       "          6.16048779e-02, -4.31610882e-02,  3.00457995e-02,\n",
       "         -4.97740362e-02,  3.34391132e-01, -8.08885568e-02,\n",
       "          6.92836036e-02,  1.17274763e-01,  1.59925831e-01,\n",
       "         -4.31005739e-02,  9.01220864e-02, -7.93669536e-02,\n",
       "         -1.55506897e-01,  4.34678211e-02,  1.50185944e-01,\n",
       "          1.54555236e-01, -2.65224229e-01,  1.01628142e-01,\n",
       "          2.12910046e-01,  2.09064065e-01,  6.99689426e-02,\n",
       "         -2.82334255e-01, -6.24975646e-02,  1.01716046e-01,\n",
       "         -3.02615109e-02, -9.41615208e-02, -2.11161524e-01,\n",
       "         -9.12779239e-02,  2.21737506e-01, -1.02383974e-03,\n",
       "          1.42724446e-01, -2.58955805e-01,  1.69708613e-01,\n",
       "         -2.14751121e-03,  1.64250475e-01, -7.22596921e-02,\n",
       "         -1.96151786e-01,  9.30597128e-02,  3.96180629e-01,\n",
       "         -3.82650778e-02,  1.65100736e-01,  3.51236455e-01,\n",
       "          8.35760542e-02, -3.65372594e-01,  1.59829168e-01,\n",
       "          1.52155656e-01,  3.00714008e-01,  1.31544753e-01,\n",
       "          3.36926284e-01,  1.28609761e-01, -2.65924679e-01,\n",
       "         -1.22207955e-01,  2.74850823e-01,  1.41832003e-01,\n",
       "          1.36299548e-01,  1.77463964e-01, -2.75627854e-01,\n",
       "          2.72410125e-01,  1.36378487e-01,  1.46480329e-01,\n",
       "         -3.53157729e-01],\n",
       "        [-1.76997608e-01, -2.19423209e-01,  9.92817006e-02,\n",
       "          7.69996589e-02,  3.06259387e-02, -8.25809558e-02,\n",
       "          8.43604605e-02, -3.69000369e-02, -3.56326665e-01,\n",
       "          1.46405949e-01, -1.12596976e-01,  2.19357427e-01,\n",
       "          6.07691308e-02,  9.02655107e-02, -2.42021660e-01,\n",
       "         -3.34694660e-01, -2.25169750e-01,  1.66758130e-01,\n",
       "         -2.68899527e-02,  3.71029048e-02,  3.00023496e-01,\n",
       "          6.35790124e-02, -2.12170200e-01,  1.46878209e-01,\n",
       "         -2.02498678e-01,  1.08093723e-01, -9.33101466e-02,\n",
       "         -1.91233544e-01,  2.99202111e-02,  1.99378541e-01,\n",
       "         -2.06303487e-01,  1.50822954e-01, -1.44063121e-01,\n",
       "          1.53385292e-01, -2.14113160e-01,  5.21300506e-02,\n",
       "         -1.45038050e-01,  1.34823943e-01, -3.25426781e-01,\n",
       "          3.35997289e-01, -1.21112805e-01,  1.33560903e-01,\n",
       "         -3.96664806e-01, -5.02245986e-02, -2.28033103e-01,\n",
       "          1.88496142e-02,  1.08108336e-02, -1.22203860e-01,\n",
       "         -5.50278512e-02,  7.75570650e-02,  1.45839759e-01,\n",
       "         -1.37606127e-01,  7.50794060e-02,  2.87850676e-01,\n",
       "         -1.75385297e-01, -2.38823571e-01, -2.01540365e-01,\n",
       "          1.60796250e-01,  4.05417280e-02, -3.00211627e-02,\n",
       "         -8.04398161e-02,  2.20829712e-01,  1.45247933e-01,\n",
       "         -7.80315716e-02, -1.09234701e-01, -1.07442603e-02,\n",
       "          7.11284462e-03, -3.49467864e-01, -1.67884463e-01,\n",
       "          2.48707671e-02, -1.93536074e-01,  1.84860551e-01,\n",
       "         -1.10520830e-01,  2.92658812e-02, -2.67539147e-01,\n",
       "          2.03408147e-01, -1.19770002e-01, -3.62455117e-01,\n",
       "         -8.54470559e-02,  8.07214710e-02,  3.19878526e-01,\n",
       "          2.09740028e-01, -3.10552734e-01,  2.77437985e-02,\n",
       "         -1.97004269e-01,  4.86795906e-02, -2.52440670e-01,\n",
       "         -2.79599273e-01, -1.16650691e-01, -2.51135643e-01,\n",
       "          1.86229847e-01,  3.79275296e-02,  7.44054394e-02,\n",
       "          3.40088262e-01, -8.39880015e-02, -2.03739760e-01,\n",
       "         -3.01094222e-01, -3.65704432e-02,  1.31666312e-01,\n",
       "          2.60659609e-01],\n",
       "        [-8.62678710e-02,  1.54216619e-01,  4.32352399e-02,\n",
       "          8.70304545e-02, -1.18807027e-01,  1.95950556e-01,\n",
       "         -2.53697094e-02, -2.14111831e-01,  9.02500643e-02,\n",
       "          1.27550324e-01, -6.99054507e-02,  8.85512863e-04,\n",
       "          1.42862885e-01, -3.52394539e-01, -7.61004475e-02,\n",
       "          2.91951374e-01,  3.83153866e-01,  1.48392687e-01,\n",
       "         -4.21001255e-01,  1.35833199e-01, -6.41831831e-02,\n",
       "          1.15084045e-02,  6.00069086e-02,  3.52427399e-01,\n",
       "          3.62908213e-02,  1.77601128e-02,  5.23931078e-02,\n",
       "         -2.52651707e-01, -1.64014745e-01,  6.46648668e-03,\n",
       "         -8.65055458e-04,  2.14700069e-01,  1.13397585e-01,\n",
       "         -1.41436845e-01, -1.49603110e-01, -1.34232900e-01,\n",
       "          2.78553735e-01,  2.35509008e-01, -2.60167774e-01,\n",
       "         -1.88117818e-01, -1.04625980e-01,  4.22506078e-02,\n",
       "         -3.10512901e-01, -2.34036931e-01,  2.52158523e-01,\n",
       "          3.02726636e-01,  9.33685653e-02, -8.77465819e-04,\n",
       "          1.57224975e-01,  1.36339904e-02,  1.74332746e-01,\n",
       "          1.01563390e-01,  2.97786568e-01, -2.83105315e-01,\n",
       "          1.24626744e-02,  7.45760168e-02, -1.33940099e-01,\n",
       "          2.23395650e-01,  1.38535001e-01, -1.89474028e-01,\n",
       "         -3.68830069e-01, -1.03366607e-01, -1.07107006e-01,\n",
       "          1.81509435e-01, -2.54237184e-01,  2.53825873e-01,\n",
       "         -4.64219736e-02, -1.61191222e-01, -5.29711820e-02,\n",
       "         -1.25521589e-01, -2.11093475e-01,  2.21172772e-01,\n",
       "         -1.01658131e-01,  1.03442670e-01, -1.32717273e-02,\n",
       "         -1.66021470e-01,  1.92783877e-01, -1.50945758e-01,\n",
       "          3.64046705e-03, -1.36192179e-01, -1.41945697e-01,\n",
       "          2.49081798e-01, -8.89198302e-02,  2.31965663e-02,\n",
       "          2.62998060e-01, -4.18302355e-02,  2.96328781e-01,\n",
       "          2.21737241e-02, -9.50917699e-02, -7.87229572e-02,\n",
       "         -2.15111056e-01,  1.19221714e-01, -2.57113963e-01,\n",
       "          6.57687476e-02, -1.99387369e-01,  2.43694942e-01,\n",
       "         -2.31074967e-01, -2.21805432e-01, -1.97567959e-01,\n",
       "         -1.59641120e-01],\n",
       "        [-2.80698298e-01,  1.76628451e-02,  1.14154320e-01,\n",
       "          1.21102244e-01,  1.10054257e-01,  2.20496332e-01,\n",
       "          1.80105145e-01,  7.22532928e-02,  6.84413497e-02,\n",
       "         -2.24487158e-01,  1.16770091e-01,  2.87314828e-01,\n",
       "         -2.73649463e-01, -9.01008383e-02,  2.21871218e-01,\n",
       "          1.10543237e-01, -1.18572563e-01,  1.17341302e-01,\n",
       "         -3.04021155e-01,  2.40943841e-01, -2.03829485e-01,\n",
       "         -4.58393460e-01,  5.51801063e-02, -2.07001371e-01,\n",
       "          5.54448074e-02,  5.63469984e-02, -1.16335239e-01,\n",
       "          2.69271322e-02, -3.01395004e-01, -3.34147760e-02,\n",
       "         -1.24289124e-01, -1.42316343e-01, -2.69226388e-02,\n",
       "          2.57444247e-01, -2.15167732e-01,  2.32976672e-01,\n",
       "         -9.10610605e-02,  2.16638787e-01,  1.12327345e-02,\n",
       "          1.09950162e-01,  1.37988722e-01, -8.92984270e-02,\n",
       "          5.71493924e-02, -1.85600905e-01, -4.21107293e-01,\n",
       "          1.59879398e-02,  1.02305475e-02,  6.45323115e-02,\n",
       "          2.02103304e-01,  1.38365130e-01,  1.97808232e-01,\n",
       "         -2.82427585e-02,  1.97703461e-01,  9.80710441e-02,\n",
       "          1.31898136e-01, -7.62312468e-02,  8.91802830e-02,\n",
       "          1.29183670e-01,  4.94597516e-02, -1.87449040e-01,\n",
       "         -2.26676800e-01,  2.85001619e-01, -3.06948193e-01,\n",
       "         -2.28211063e-01,  2.07239230e-01, -3.74953725e-01,\n",
       "          1.45733279e-01, -1.89432456e-01, -2.28199826e-01,\n",
       "         -1.07292024e-01, -1.77294917e-01,  1.42977894e-01,\n",
       "         -7.83440233e-02,  4.15533361e-02, -2.44488476e-02,\n",
       "         -1.48656668e-01, -2.58453819e-01, -8.60565929e-02,\n",
       "         -3.39085439e-01, -3.22825722e-01,  3.34967238e-01,\n",
       "          1.89739349e-01,  3.39510839e-01, -3.42305138e-01,\n",
       "         -4.40771042e-01, -1.97684833e-01, -4.71809912e-01,\n",
       "         -2.43149085e-01, -1.64925052e-01,  1.35231412e-01,\n",
       "         -1.30108175e-01,  7.96295219e-02,  1.28681860e-01,\n",
       "         -7.01846787e-02, -1.55404707e-02,  3.31462285e-02,\n",
       "         -4.26728018e-02,  1.99304775e-02, -2.17846896e-01,\n",
       "          3.74435952e-01]]),\n",
       " array([[ 0.1637409 ],\n",
       "        [ 0.076267  ],\n",
       "        [ 0.28960484],\n",
       "        [-0.0996231 ],\n",
       "        [ 0.03039608],\n",
       "        [-0.0922271 ],\n",
       "        [ 0.2097883 ],\n",
       "        [ 0.22437384],\n",
       "        [-0.23145015],\n",
       "        [ 0.33162781],\n",
       "        [ 0.31782448],\n",
       "        [-0.47838117],\n",
       "        [ 0.19910917],\n",
       "        [ 0.32092201],\n",
       "        [-0.25214973],\n",
       "        [-0.22567573],\n",
       "        [-0.24542979],\n",
       "        [ 0.14437322],\n",
       "        [ 0.44443575],\n",
       "        [ 0.18145453],\n",
       "        [-0.20773021],\n",
       "        [-0.19441993],\n",
       "        [-0.20859935],\n",
       "        [-0.32580144],\n",
       "        [ 0.28128161],\n",
       "        [-0.17688731],\n",
       "        [ 0.27379585],\n",
       "        [ 0.35377228],\n",
       "        [-0.32209968],\n",
       "        [ 0.26172077],\n",
       "        [ 0.3583511 ],\n",
       "        [ 0.18354825],\n",
       "        [-0.14598336],\n",
       "        [-0.10855759],\n",
       "        [ 0.35577575],\n",
       "        [ 0.20806213],\n",
       "        [ 0.13736807],\n",
       "        [ 0.17754424],\n",
       "        [-0.06261296],\n",
       "        [-0.22279642],\n",
       "        [ 0.18354154],\n",
       "        [-0.37923775],\n",
       "        [-0.37931796],\n",
       "        [ 0.18751584],\n",
       "        [ 0.13760405],\n",
       "        [-0.05831982],\n",
       "        [ 0.00974316],\n",
       "        [-0.20373278],\n",
       "        [-0.25269365],\n",
       "        [-0.1420976 ],\n",
       "        [-0.20580941],\n",
       "        [ 0.27759261],\n",
       "        [ 0.10251762],\n",
       "        [ 0.29507412],\n",
       "        [-0.18577685],\n",
       "        [-0.11051185],\n",
       "        [ 0.19266951],\n",
       "        [ 0.15099514],\n",
       "        [ 0.16683826],\n",
       "        [-0.09280511],\n",
       "        [ 0.18495261],\n",
       "        [ 0.34479863],\n",
       "        [-0.39911182],\n",
       "        [ 0.19124813],\n",
       "        [-0.14373583],\n",
       "        [ 0.29660069],\n",
       "        [-0.15239567],\n",
       "        [-0.30671848],\n",
       "        [-0.05997419],\n",
       "        [ 0.18354357],\n",
       "        [ 0.12630838],\n",
       "        [ 0.25326787],\n",
       "        [-0.22765714],\n",
       "        [ 0.41459475],\n",
       "        [-0.25425032],\n",
       "        [-0.26462554],\n",
       "        [-0.41407434],\n",
       "        [ 0.28923765],\n",
       "        [-0.33756908],\n",
       "        [-0.28107033],\n",
       "        [ 0.22758521],\n",
       "        [ 0.15399034],\n",
       "        [-0.20116226],\n",
       "        [-0.40297635],\n",
       "        [-0.24821387],\n",
       "        [-0.22556436],\n",
       "        [-0.26750283],\n",
       "        [ 0.39358352],\n",
       "        [ 0.29481636],\n",
       "        [-0.37421264],\n",
       "        [ 0.19449887],\n",
       "        [ 0.16840888],\n",
       "        [ 0.24053063],\n",
       "        [-0.17642396],\n",
       "        [-0.31617235],\n",
       "        [ 0.4298983 ],\n",
       "        [-0.30122836],\n",
       "        [ 0.01988811],\n",
       "        [-0.32807617],\n",
       "        [-0.33491817]])]"
      ]
     },
     "execution_count": 134,
     "metadata": {},
     "output_type": "execute_result"
    }
   ],
   "source": [
    "mlpc.coefs_"
   ]
  },
  {
   "cell_type": "code",
   "execution_count": 135,
   "metadata": {},
   "outputs": [],
   "source": [
    "y_pred=mlpc.predict(X_test_scaled)"
   ]
  },
  {
   "cell_type": "code",
   "execution_count": 136,
   "metadata": {},
   "outputs": [
    {
     "data": {
      "text/plain": [
       "0.6052631578947368"
      ]
     },
     "execution_count": 136,
     "metadata": {},
     "output_type": "execute_result"
    }
   ],
   "source": [
    "accuracy_score(y_test,y_pred)"
   ]
  },
  {
   "cell_type": "markdown",
   "metadata": {},
   "source": [
    "## Model Tuning"
   ]
  },
  {
   "cell_type": "code",
   "execution_count": 137,
   "metadata": {},
   "outputs": [],
   "source": [
    "mlpc_params = {\"alpha\":[0.1,0.001,0.02,0.005,0.0001,0.00001],\n",
    "              \"hidden_layer_sizes\":[(10,10,10),\n",
    "                                  (100,100,100),\n",
    "                                  (100,100),\n",
    "                                  (3,5),\n",
    "                                  (5,3)],\n",
    "              \"solver\":[\"lbfgs\",\"adam\",\"sgd\"],\n",
    "              \"activation\":[\"relu\",\"logistic\"]}"
   ]
  },
  {
   "cell_type": "code",
   "execution_count": 138,
   "metadata": {},
   "outputs": [
    {
     "name": "stdout",
     "output_type": "stream",
     "text": [
      "Fitting 10 folds for each of 180 candidates, totalling 1800 fits\n"
     ]
    },
    {
     "name": "stderr",
     "output_type": "stream",
     "text": [
      "[Parallel(n_jobs=-1)]: Using backend LokyBackend with 4 concurrent workers.\n",
      "[Parallel(n_jobs=-1)]: Done  33 tasks      | elapsed:    5.0s\n",
      "[Parallel(n_jobs=-1)]: Done 154 tasks      | elapsed:   27.1s\n",
      "[Parallel(n_jobs=-1)]: Done 357 tasks      | elapsed:  1.2min\n",
      "[Parallel(n_jobs=-1)]: Done 640 tasks      | elapsed:  2.0min\n",
      "[Parallel(n_jobs=-1)]: Done 1021 tasks      | elapsed:  3.1min\n",
      "[Parallel(n_jobs=-1)]: Done 1502 tasks      | elapsed:  4.8min\n",
      "[Parallel(n_jobs=-1)]: Done 1800 out of 1800 | elapsed:  5.7min finished\n"
     ]
    },
    {
     "data": {
      "text/plain": [
       "GridSearchCV(cv=10, estimator=MLPClassifier(), n_jobs=-1,\n",
       "             param_grid={'activation': ['relu', 'logistic'],\n",
       "                         'alpha': [0.1, 0.001, 0.02, 0.005, 0.0001, 1e-05],\n",
       "                         'hidden_layer_sizes': [(10, 10, 10), (100, 100, 100),\n",
       "                                                (100, 100), (3, 5), (5, 3)],\n",
       "                         'solver': ['lbfgs', 'adam', 'sgd']},\n",
       "             verbose=2)"
      ]
     },
     "execution_count": 138,
     "metadata": {},
     "output_type": "execute_result"
    }
   ],
   "source": [
    "mlpc=MLPClassifier()\n",
    "mlpc_cv_model = GridSearchCV(mlpc,mlpc_params,\n",
    "                            cv=10,\n",
    "                            n_jobs=-1,\n",
    "                            verbose=2)\n",
    "mlpc_cv_model.fit(X_train_scaled,y_train)"
   ]
  },
  {
   "cell_type": "code",
   "execution_count": 139,
   "metadata": {},
   "outputs": [
    {
     "data": {
      "text/plain": [
       "{'activation': 'logistic',\n",
       " 'alpha': 1e-05,\n",
       " 'hidden_layer_sizes': (5, 3),\n",
       " 'solver': 'lbfgs'}"
      ]
     },
     "execution_count": 139,
     "metadata": {},
     "output_type": "execute_result"
    }
   ],
   "source": [
    "mlpc_cv_model.best_params_"
   ]
  },
  {
   "cell_type": "code",
   "execution_count": 140,
   "metadata": {},
   "outputs": [],
   "source": [
    "mlpc_tuned=MLPClassifier(activation= 'relu',\n",
    " alpha= 0.005,\n",
    " hidden_layer_sizes= (100, 100,100),\n",
    " solver ='sgd')"
   ]
  },
  {
   "cell_type": "code",
   "execution_count": 141,
   "metadata": {},
   "outputs": [],
   "source": [
    "mlpc_tuned=mlpc_tuned.fit(X_train_scaled,y_train)"
   ]
  },
  {
   "cell_type": "code",
   "execution_count": 142,
   "metadata": {},
   "outputs": [],
   "source": [
    "y_pred=mlpc_tuned.predict(X_test_scaled)"
   ]
  },
  {
   "cell_type": "code",
   "execution_count": 143,
   "metadata": {},
   "outputs": [
    {
     "data": {
      "text/plain": [
       "0.5263157894736842"
      ]
     },
     "execution_count": 143,
     "metadata": {},
     "output_type": "execute_result"
    }
   ],
   "source": [
    "accuracy_score(y_test,y_pred)"
   ]
  },
  {
   "cell_type": "markdown",
   "metadata": {},
   "source": [
    "# 7-CART(Classification And Regression Trees)"
   ]
  },
  {
   "cell_type": "code",
   "execution_count": 144,
   "metadata": {},
   "outputs": [],
   "source": [
    "customers=pd.read_csv(\"ACME-HappinessSurvey2020.csv\")\n",
    "df = customers.copy()\n",
    "df = df.dropna()\n",
    "y=df[\"Y\"]\n",
    "X=df.drop([\"Y\"],axis=1)\n",
    "X_train,X_test,y_train,y_test = train_test_split(X,y,\n",
    "                                                test_size=0.30,\n",
    "                                                random_state=42)"
   ]
  },
  {
   "cell_type": "code",
   "execution_count": 145,
   "metadata": {},
   "outputs": [],
   "source": [
    "from sklearn.tree import DecisionTreeClassifier"
   ]
  },
  {
   "cell_type": "code",
   "execution_count": 146,
   "metadata": {},
   "outputs": [],
   "source": [
    "cart = DecisionTreeClassifier()\n",
    "cart_model=cart.fit(X_train,y_train)"
   ]
  },
  {
   "cell_type": "code",
   "execution_count": 147,
   "metadata": {},
   "outputs": [
    {
     "name": "stdout",
     "output_type": "stream",
     "text": [
      "Requirement already satisfied: skompiler in c:\\users\\pc\\anaconda3\\lib\\site-packages (0.5.5)\n",
      "Requirement already satisfied: scikit-learn in c:\\users\\pc\\anaconda3\\lib\\site-packages (from skompiler) (0.23.1)\n",
      "Requirement already satisfied: numpy>=1.13.3 in c:\\users\\pc\\anaconda3\\lib\\site-packages (from scikit-learn->skompiler) (1.18.5)\n",
      "Requirement already satisfied: threadpoolctl>=2.0.0 in c:\\users\\pc\\anaconda3\\lib\\site-packages (from scikit-learn->skompiler) (2.1.0)\n",
      "Requirement already satisfied: scipy>=0.19.1 in c:\\users\\pc\\anaconda3\\lib\\site-packages (from scikit-learn->skompiler) (1.5.0)\n",
      "Requirement already satisfied: joblib>=0.11 in c:\\users\\pc\\anaconda3\\lib\\site-packages (from scikit-learn->skompiler) (0.16.0)\n"
     ]
    }
   ],
   "source": [
    "!pip install skompiler"
   ]
  },
  {
   "cell_type": "code",
   "execution_count": 148,
   "metadata": {},
   "outputs": [
    {
     "data": {
      "text/plain": [
       "0.4473684210526316"
      ]
     },
     "execution_count": 148,
     "metadata": {},
     "output_type": "execute_result"
    }
   ],
   "source": [
    "y_pred = cart_model.predict(X_test)\n",
    "accuracy_score(y_test,y_pred)"
   ]
  },
  {
   "cell_type": "markdown",
   "metadata": {},
   "source": [
    "## Model Tuning"
   ]
  },
  {
   "cell_type": "code",
   "execution_count": 149,
   "metadata": {},
   "outputs": [],
   "source": [
    "cart_grid = {\"max_depth\":list(range(1,10)),\n",
    "            \"min_samples_split\":list(range(2,50))}"
   ]
  },
  {
   "cell_type": "code",
   "execution_count": 150,
   "metadata": {},
   "outputs": [
    {
     "name": "stdout",
     "output_type": "stream",
     "text": [
      "Fitting 10 folds for each of 432 candidates, totalling 4320 fits\n"
     ]
    },
    {
     "name": "stderr",
     "output_type": "stream",
     "text": [
      "[Parallel(n_jobs=-1)]: Using backend LokyBackend with 4 concurrent workers.\n",
      "[Parallel(n_jobs=-1)]: Done  56 tasks      | elapsed:    0.8s\n",
      "[Parallel(n_jobs=-1)]: Done 1012 tasks      | elapsed:    6.2s\n",
      "[Parallel(n_jobs=-1)]: Done 2636 tasks      | elapsed:   13.3s\n",
      "[Parallel(n_jobs=-1)]: Done 4320 out of 4320 | elapsed:   21.5s finished\n"
     ]
    }
   ],
   "source": [
    "cart=DecisionTreeClassifier()\n",
    "\n",
    "cart_cv=GridSearchCV(cart,\n",
    "                     cart_grid,\n",
    "                     cv=10,n_jobs=-1,verbose=2)\n",
    "cart_cv_model = cart_cv.fit(X_train,y_train)"
   ]
  },
  {
   "cell_type": "code",
   "execution_count": 151,
   "metadata": {},
   "outputs": [
    {
     "name": "stdout",
     "output_type": "stream",
     "text": [
      "Best Parameters :{'max_depth': 3, 'min_samples_split': 2}\n"
     ]
    }
   ],
   "source": [
    "print(\"Best Parameters :\"+ str(cart_cv_model.best_params_))"
   ]
  },
  {
   "cell_type": "code",
   "execution_count": 152,
   "metadata": {},
   "outputs": [
    {
     "data": {
      "text/plain": [
       "0.5789473684210527"
      ]
     },
     "execution_count": 152,
     "metadata": {},
     "output_type": "execute_result"
    }
   ],
   "source": [
    "cart=DecisionTreeClassifier(max_depth=3,min_samples_split=2)\n",
    "cart_tuned =cart.fit(X_train,y_train)\n",
    "\n",
    "y_pred = cart_tuned.predict(X_test)\n",
    "accuracy_score(y_test,y_pred)"
   ]
  },
  {
   "cell_type": "markdown",
   "metadata": {},
   "source": [
    "# 8-Random Forest Classification"
   ]
  },
  {
   "cell_type": "code",
   "execution_count": 153,
   "metadata": {},
   "outputs": [],
   "source": [
    "customers=pd.read_csv(\"ACME-HappinessSurvey2020.csv\")\n",
    "df = customers.copy()\n",
    "df = df.dropna()\n",
    "y=df[\"Y\"]\n",
    "X=df.drop([\"Y\"],axis=1)\n",
    "X_train,X_test,y_train,y_test = train_test_split(X,y,\n",
    "                                                test_size=0.30,\n",
    "                                                random_state=42)"
   ]
  },
  {
   "cell_type": "code",
   "execution_count": 154,
   "metadata": {},
   "outputs": [],
   "source": [
    "from sklearn.ensemble import RandomForestClassifier"
   ]
  },
  {
   "cell_type": "code",
   "execution_count": 155,
   "metadata": {},
   "outputs": [],
   "source": [
    "rf_model = RandomForestClassifier().fit(X_train,y_train)"
   ]
  },
  {
   "cell_type": "code",
   "execution_count": 156,
   "metadata": {},
   "outputs": [
    {
     "data": {
      "text/plain": [
       "0.631578947368421"
      ]
     },
     "execution_count": 156,
     "metadata": {},
     "output_type": "execute_result"
    }
   ],
   "source": [
    "y_pred = rf_model.predict(X_test)\n",
    "accuracy_score(y_test,y_pred)"
   ]
  },
  {
   "cell_type": "markdown",
   "metadata": {},
   "source": [
    "## Model tuning"
   ]
  },
  {
   "cell_type": "code",
   "execution_count": 157,
   "metadata": {},
   "outputs": [],
   "source": [
    "rf_params={\"max_depth\":[2,3,4,5,8,10],\n",
    "           \"max_features\":[2,5,8],\n",
    "           \"n_estimators\":[10,500,1000],\n",
    "           \"min_samples_split\":[2,5,10]}"
   ]
  },
  {
   "cell_type": "code",
   "execution_count": 158,
   "metadata": {},
   "outputs": [],
   "source": [
    "rf_model = RandomForestClassifier()\n",
    "\n",
    "rf_cv_model = GridSearchCV(rf_model,\n",
    "                           rf_params,\n",
    "                           cv=10,\n",
    "                           n_jobs=-1,\n",
    "                           verbose=2)"
   ]
  },
  {
   "cell_type": "code",
   "execution_count": 159,
   "metadata": {},
   "outputs": [
    {
     "name": "stdout",
     "output_type": "stream",
     "text": [
      "Fitting 10 folds for each of 162 candidates, totalling 1620 fits\n"
     ]
    },
    {
     "name": "stderr",
     "output_type": "stream",
     "text": [
      "[Parallel(n_jobs=-1)]: Using backend LokyBackend with 4 concurrent workers.\n",
      "[Parallel(n_jobs=-1)]: Done  33 tasks      | elapsed:   23.4s\n",
      "[Parallel(n_jobs=-1)]: Done 154 tasks      | elapsed:  1.9min\n",
      "[Parallel(n_jobs=-1)]: Done 357 tasks      | elapsed:  3.7min\n",
      "[Parallel(n_jobs=-1)]: Done 640 tasks      | elapsed:  6.4min\n",
      "[Parallel(n_jobs=-1)]: Done 1005 tasks      | elapsed: 10.2min\n",
      "[Parallel(n_jobs=-1)]: Done 1450 tasks      | elapsed: 15.2min\n",
      "[Parallel(n_jobs=-1)]: Done 1620 out of 1620 | elapsed: 17.0min finished\n"
     ]
    },
    {
     "data": {
      "text/plain": [
       "GridSearchCV(cv=10, estimator=RandomForestClassifier(), n_jobs=-1,\n",
       "             param_grid={'max_depth': [2, 3, 4, 5, 8, 10],\n",
       "                         'max_features': [2, 5, 8],\n",
       "                         'min_samples_split': [2, 5, 10],\n",
       "                         'n_estimators': [10, 500, 1000]},\n",
       "             verbose=2)"
      ]
     },
     "execution_count": 159,
     "metadata": {},
     "output_type": "execute_result"
    }
   ],
   "source": [
    "rf_cv_model.fit(X_train,y_train)"
   ]
  },
  {
   "cell_type": "code",
   "execution_count": 160,
   "metadata": {},
   "outputs": [
    {
     "name": "stdout",
     "output_type": "stream",
     "text": [
      "Best parameters: {'max_depth': 3, 'max_features': 2, 'min_samples_split': 2, 'n_estimators': 1000}\n"
     ]
    }
   ],
   "source": [
    "print(\"Best parameters: \" + str(rf_cv_model.best_params_))"
   ]
  },
  {
   "cell_type": "code",
   "execution_count": 161,
   "metadata": {},
   "outputs": [],
   "source": [
    "rf_tuned = RandomForestClassifier(max_depth = 3,\n",
    "                                  max_features = 2,\n",
    "                                  min_samples_split = 2,\n",
    "                                  n_estimators = 1000)"
   ]
  },
  {
   "cell_type": "code",
   "execution_count": 162,
   "metadata": {},
   "outputs": [],
   "source": [
    "rf_tuned = rf_tuned.fit(X_train,y_train)"
   ]
  },
  {
   "cell_type": "code",
   "execution_count": 163,
   "metadata": {},
   "outputs": [
    {
     "data": {
      "text/plain": [
       "0.5263157894736842"
      ]
     },
     "execution_count": 163,
     "metadata": {},
     "output_type": "execute_result"
    }
   ],
   "source": [
    "y_pred = rf_tuned.predict(X_test)\n",
    "accuracy_score(y_test,y_pred)"
   ]
  },
  {
   "cell_type": "markdown",
   "metadata": {},
   "source": [
    "# 9-Gradient Boosting Machines"
   ]
  },
  {
   "cell_type": "code",
   "execution_count": 214,
   "metadata": {},
   "outputs": [],
   "source": [
    "customers=pd.read_csv(\"ACME-HappinessSurvey2020.csv\")\n",
    "df = customers.copy()\n",
    "df = df.dropna()\n",
    "y=df[\"Y\"]\n",
    "X=df.drop([\"Y\"],axis=1)\n",
    "X_train,X_test,y_train,y_test = train_test_split(X,y,\n",
    "                                                test_size=0.30,\n",
    "                                                random_state=42)"
   ]
  },
  {
   "cell_type": "code",
   "execution_count": 165,
   "metadata": {},
   "outputs": [],
   "source": [
    "from sklearn.ensemble import GradientBoostingClassifier"
   ]
  },
  {
   "cell_type": "code",
   "execution_count": 166,
   "metadata": {},
   "outputs": [],
   "source": [
    "gbm_model = GradientBoostingClassifier().fit(X_train,y_train)\n",
    "y_pred = gbm_model.predict(X_test)"
   ]
  },
  {
   "cell_type": "code",
   "execution_count": 167,
   "metadata": {},
   "outputs": [
    {
     "data": {
      "text/plain": [
       "0.6578947368421053"
      ]
     },
     "execution_count": 167,
     "metadata": {},
     "output_type": "execute_result"
    }
   ],
   "source": [
    "accuracy_score(y_test,y_pred)"
   ]
  },
  {
   "cell_type": "markdown",
   "metadata": {},
   "source": [
    "## Model Tuning"
   ]
  },
  {
   "cell_type": "code",
   "execution_count": 168,
   "metadata": {},
   "outputs": [],
   "source": [
    "gbm_params={\"learning_rate\":[0.001,0.01,0.1,0.05],\n",
    "            \"n_estimators\":[100,500,1000],\n",
    "            \"max_depth\":[3,5,10],\n",
    "            \"min_samples_split\":[2,5,10]}"
   ]
  },
  {
   "cell_type": "code",
   "execution_count": 169,
   "metadata": {},
   "outputs": [],
   "source": [
    "gbm=GradientBoostingClassifier()\n",
    "\n",
    "gbm_cv = GridSearchCV(gbm,gbm_params,cv=10,n_jobs=-1,verbose=2)"
   ]
  },
  {
   "cell_type": "code",
   "execution_count": 170,
   "metadata": {},
   "outputs": [
    {
     "name": "stdout",
     "output_type": "stream",
     "text": [
      "Fitting 10 folds for each of 108 candidates, totalling 1080 fits\n"
     ]
    },
    {
     "name": "stderr",
     "output_type": "stream",
     "text": [
      "[Parallel(n_jobs=-1)]: Using backend LokyBackend with 4 concurrent workers.\n",
      "[Parallel(n_jobs=-1)]: Done  33 tasks      | elapsed:    6.9s\n",
      "[Parallel(n_jobs=-1)]: Done 154 tasks      | elapsed:   57.9s\n",
      "[Parallel(n_jobs=-1)]: Done 357 tasks      | elapsed:  2.8min\n",
      "[Parallel(n_jobs=-1)]: Done 640 tasks      | elapsed:  5.3min\n",
      "[Parallel(n_jobs=-1)]: Done 1005 tasks      | elapsed:  8.6min\n",
      "[Parallel(n_jobs=-1)]: Done 1080 out of 1080 | elapsed:  9.6min finished\n"
     ]
    },
    {
     "data": {
      "text/plain": [
       "GridSearchCV(cv=10, estimator=GradientBoostingClassifier(), n_jobs=-1,\n",
       "             param_grid={'learning_rate': [0.001, 0.01, 0.1, 0.05],\n",
       "                         'max_depth': [3, 5, 10],\n",
       "                         'min_samples_split': [2, 5, 10],\n",
       "                         'n_estimators': [100, 500, 1000]},\n",
       "             verbose=2)"
      ]
     },
     "execution_count": 170,
     "metadata": {},
     "output_type": "execute_result"
    }
   ],
   "source": [
    "gbm_cv.fit(X_train,y_train)"
   ]
  },
  {
   "cell_type": "code",
   "execution_count": 171,
   "metadata": {},
   "outputs": [
    {
     "data": {
      "text/plain": [
       "{'learning_rate': 0.001,\n",
       " 'max_depth': 3,\n",
       " 'min_samples_split': 2,\n",
       " 'n_estimators': 500}"
      ]
     },
     "execution_count": 171,
     "metadata": {},
     "output_type": "execute_result"
    }
   ],
   "source": [
    "gbm_cv.best_params_"
   ]
  },
  {
   "cell_type": "code",
   "execution_count": 172,
   "metadata": {},
   "outputs": [],
   "source": [
    "gbm_tuned=GradientBoostingClassifier(learning_rate = 0.001,\n",
    "                                      max_depth = 3,\n",
    "                                      min_samples_split = 2,\n",
    "                                      n_estimators = 500)"
   ]
  },
  {
   "cell_type": "code",
   "execution_count": 173,
   "metadata": {},
   "outputs": [],
   "source": [
    "gbm_tuned = gbm_tuned.fit(X_train,y_train)"
   ]
  },
  {
   "cell_type": "code",
   "execution_count": 174,
   "metadata": {},
   "outputs": [
    {
     "data": {
      "text/plain": [
       "0.5526315789473685"
      ]
     },
     "execution_count": 174,
     "metadata": {},
     "output_type": "execute_result"
    }
   ],
   "source": [
    "y_pred = gbm_tuned.predict(X_test)\n",
    "accuracy_score(y_test,y_pred)"
   ]
  },
  {
   "cell_type": "markdown",
   "metadata": {},
   "source": [
    "# 10-eXtreme Gradient Boosting(XGBoost)"
   ]
  },
  {
   "cell_type": "code",
   "execution_count": 175,
   "metadata": {},
   "outputs": [],
   "source": [
    "customers=pd.read_csv(\"ACME-HappinessSurvey2020.csv\")\n",
    "df = customers.copy()\n",
    "df = df.dropna()\n",
    "y=df[\"Y\"]\n",
    "X=df.drop([\"Y\"],axis=1)\n",
    "X_train,X_test,y_train,y_test = train_test_split(X,y,\n",
    "                                                test_size=0.30,\n",
    "                                                random_state=42)"
   ]
  },
  {
   "cell_type": "code",
   "execution_count": 176,
   "metadata": {},
   "outputs": [],
   "source": [
    "from xgboost import XGBClassifier"
   ]
  },
  {
   "cell_type": "code",
   "execution_count": 177,
   "metadata": {},
   "outputs": [],
   "source": [
    "xgb=XGBClassifier()"
   ]
  },
  {
   "cell_type": "code",
   "execution_count": 178,
   "metadata": {},
   "outputs": [],
   "source": [
    "xgb_model = xgb.fit(X_train,y_train)"
   ]
  },
  {
   "cell_type": "code",
   "execution_count": 179,
   "metadata": {},
   "outputs": [
    {
     "data": {
      "text/plain": [
       "0.631578947368421"
      ]
     },
     "execution_count": 179,
     "metadata": {},
     "output_type": "execute_result"
    }
   ],
   "source": [
    "y_pred = xgb_model.predict(X_test)\n",
    "accuracy_score(y_test,y_pred)"
   ]
  },
  {
   "cell_type": "markdown",
   "metadata": {},
   "source": [
    "## Model Tuning"
   ]
  },
  {
   "cell_type": "code",
   "execution_count": 180,
   "metadata": {},
   "outputs": [],
   "source": [
    "xgb_params= {\n",
    "    \"n_estimators\":[100,500,1000,2000],\n",
    "    \"subsample\":[0.6,0.8,1.0],\n",
    "    \"max_depth\":[3,4,5,6],\n",
    "    \"learning_rate\":[0.1,0.01,0.02,0.05],\n",
    "    \"min_sample_splits\":[2,5,10]\n",
    "}"
   ]
  },
  {
   "cell_type": "code",
   "execution_count": 181,
   "metadata": {},
   "outputs": [],
   "source": [
    "xgb=XGBClassifier()"
   ]
  },
  {
   "cell_type": "code",
   "execution_count": 182,
   "metadata": {},
   "outputs": [],
   "source": [
    "xgb_cv = GridSearchCV(xgb,xgb_params,cv=10,n_jobs=-1,verbose=2)"
   ]
  },
  {
   "cell_type": "code",
   "execution_count": 183,
   "metadata": {},
   "outputs": [
    {
     "name": "stdout",
     "output_type": "stream",
     "text": [
      "Fitting 10 folds for each of 576 candidates, totalling 5760 fits\n"
     ]
    },
    {
     "name": "stderr",
     "output_type": "stream",
     "text": [
      "[Parallel(n_jobs=-1)]: Using backend LokyBackend with 4 concurrent workers.\n",
      "[Parallel(n_jobs=-1)]: Done  33 tasks      | elapsed:    2.7s\n",
      "[Parallel(n_jobs=-1)]: Done 249 tasks      | elapsed:   21.9s\n",
      "[Parallel(n_jobs=-1)]: Done 545 tasks      | elapsed:   45.2s\n",
      "[Parallel(n_jobs=-1)]: Done 944 tasks      | elapsed:  1.3min\n",
      "[Parallel(n_jobs=-1)]: Done 1470 tasks      | elapsed:  2.0min\n",
      "[Parallel(n_jobs=-1)]: Done 2192 tasks      | elapsed:  3.0min\n",
      "[Parallel(n_jobs=-1)]: Done 2956 tasks      | elapsed:  4.1min\n",
      "[Parallel(n_jobs=-1)]: Done 3892 tasks      | elapsed:  5.4min\n",
      "[Parallel(n_jobs=-1)]: Done 4946 tasks      | elapsed:  6.9min\n",
      "[Parallel(n_jobs=-1)]: Done 5760 out of 5760 | elapsed:  8.2min finished\n"
     ]
    },
    {
     "name": "stdout",
     "output_type": "stream",
     "text": [
      "[12:01:54] WARNING: C:\\Users\\Administrator\\workspace\\xgboost-win64_release_1.2.0\\src\\learner.cc:516: \n",
      "Parameters: { min_sample_splits } might not be used.\n",
      "\n",
      "  This may not be accurate due to some parameters are only used in language bindings but\n",
      "  passed down to XGBoost core.  Or some parameters are not used but slip through this\n",
      "  verification. Please open an issue if you find above cases.\n",
      "\n",
      "\n"
     ]
    },
    {
     "data": {
      "text/plain": [
       "GridSearchCV(cv=10,\n",
       "             estimator=XGBClassifier(base_score=None, booster=None,\n",
       "                                     colsample_bylevel=None,\n",
       "                                     colsample_bynode=None,\n",
       "                                     colsample_bytree=None, gamma=None,\n",
       "                                     gpu_id=None, importance_type='gain',\n",
       "                                     interaction_constraints=None,\n",
       "                                     learning_rate=None, max_delta_step=None,\n",
       "                                     max_depth=None, min_child_weight=None,\n",
       "                                     missing=nan, monotone_constraints=None,\n",
       "                                     n_estimators=100, n_job...,\n",
       "                                     num_parallel_tree=None, random_state=None,\n",
       "                                     reg_alpha=None, reg_lambda=None,\n",
       "                                     scale_pos_weight=None, subsample=None,\n",
       "                                     tree_method=None, validate_parameters=None,\n",
       "                                     verbosity=None),\n",
       "             n_jobs=-1,\n",
       "             param_grid={'learning_rate': [0.1, 0.01, 0.02, 0.05],\n",
       "                         'max_depth': [3, 4, 5, 6],\n",
       "                         'min_sample_splits': [2, 5, 10],\n",
       "                         'n_estimators': [100, 500, 1000, 2000],\n",
       "                         'subsample': [0.6, 0.8, 1.0]},\n",
       "             verbose=2)"
      ]
     },
     "execution_count": 183,
     "metadata": {},
     "output_type": "execute_result"
    }
   ],
   "source": [
    "xgb_cv.fit(X_train,y_train)"
   ]
  },
  {
   "cell_type": "code",
   "execution_count": 184,
   "metadata": {},
   "outputs": [
    {
     "data": {
      "text/plain": [
       "{'learning_rate': 0.01,\n",
       " 'max_depth': 5,\n",
       " 'min_sample_splits': 2,\n",
       " 'n_estimators': 100,\n",
       " 'subsample': 0.6}"
      ]
     },
     "execution_count": 184,
     "metadata": {},
     "output_type": "execute_result"
    }
   ],
   "source": [
    "xgb_cv.best_params_"
   ]
  },
  {
   "cell_type": "code",
   "execution_count": 185,
   "metadata": {},
   "outputs": [],
   "source": [
    "xgb = XGBClassifier( learning_rate= 0.01,\n",
    " max_depth= 5,\n",
    " min_sample_splits= 2,\n",
    " n_estimators= 100,\n",
    " subsample= 0.6)"
   ]
  },
  {
   "cell_type": "code",
   "execution_count": 186,
   "metadata": {},
   "outputs": [
    {
     "name": "stdout",
     "output_type": "stream",
     "text": [
      "[12:01:54] WARNING: C:\\Users\\Administrator\\workspace\\xgboost-win64_release_1.2.0\\src\\learner.cc:516: \n",
      "Parameters: { min_sample_splits } might not be used.\n",
      "\n",
      "  This may not be accurate due to some parameters are only used in language bindings but\n",
      "  passed down to XGBoost core.  Or some parameters are not used but slip through this\n",
      "  verification. Please open an issue if you find above cases.\n",
      "\n",
      "\n"
     ]
    }
   ],
   "source": [
    "xgb_tuned = xgb.fit(X_train,y_train)"
   ]
  },
  {
   "cell_type": "code",
   "execution_count": 187,
   "metadata": {},
   "outputs": [
    {
     "data": {
      "text/plain": [
       "0.5"
      ]
     },
     "execution_count": 187,
     "metadata": {},
     "output_type": "execute_result"
    }
   ],
   "source": [
    "y_pred = xgb_tuned.predict(X_test)\n",
    "accuracy_score(y_test,y_pred)"
   ]
  },
  {
   "cell_type": "markdown",
   "metadata": {},
   "source": [
    "# 11-Light GBM"
   ]
  },
  {
   "cell_type": "code",
   "execution_count": 188,
   "metadata": {},
   "outputs": [],
   "source": [
    "customers=pd.read_csv(\"ACME-HappinessSurvey2020.csv\")\n",
    "df = customers.copy()\n",
    "df = df.dropna()\n",
    "y=df[\"Y\"]\n",
    "X=df.drop([\"Y\"],axis=1)\n",
    "X_train,X_test,y_train,y_test = train_test_split(X,y,\n",
    "                                                test_size=0.30,\n",
    "                                                random_state=42)"
   ]
  },
  {
   "cell_type": "code",
   "execution_count": 189,
   "metadata": {},
   "outputs": [],
   "source": [
    "from lightgbm import LGBMClassifier"
   ]
  },
  {
   "cell_type": "code",
   "execution_count": 190,
   "metadata": {},
   "outputs": [],
   "source": [
    "lgbm = LGBMClassifier()"
   ]
  },
  {
   "cell_type": "code",
   "execution_count": 191,
   "metadata": {},
   "outputs": [],
   "source": [
    "lgbm_model = lgbm.fit(X_train,y_train)"
   ]
  },
  {
   "cell_type": "code",
   "execution_count": 192,
   "metadata": {},
   "outputs": [],
   "source": [
    "y_pred = lgbm_model.predict(X_test)"
   ]
  },
  {
   "cell_type": "code",
   "execution_count": 193,
   "metadata": {},
   "outputs": [
    {
     "data": {
      "text/plain": [
       "0.5789473684210527"
      ]
     },
     "execution_count": 193,
     "metadata": {},
     "output_type": "execute_result"
    }
   ],
   "source": [
    "accuracy_score(y_test,y_pred)"
   ]
  },
  {
   "cell_type": "markdown",
   "metadata": {},
   "source": [
    "## Model Tuning"
   ]
  },
  {
   "cell_type": "code",
   "execution_count": 194,
   "metadata": {},
   "outputs": [],
   "source": [
    "lgbm_params= {\n",
    "    \"n_estimators\":[100,500,1000,2000],\n",
    "    \"subsample\":[0.6,0.8,1.0],\n",
    "    \"max_depth\":[3,4,5,6],\n",
    "    \"learning_rate\":[0.1,0.01,0.02,0.05],\n",
    "    \"min_child_samples\":[5,10,20]\n",
    "}"
   ]
  },
  {
   "cell_type": "code",
   "execution_count": 195,
   "metadata": {},
   "outputs": [],
   "source": [
    "lgbm = LGBMClassifier()\n",
    "\n",
    "lgbm_cv = GridSearchCV(lgbm,lgbm_params,cv=10,n_jobs=-1,verbose=2)"
   ]
  },
  {
   "cell_type": "code",
   "execution_count": 196,
   "metadata": {},
   "outputs": [
    {
     "name": "stdout",
     "output_type": "stream",
     "text": [
      "Fitting 10 folds for each of 576 candidates, totalling 5760 fits\n"
     ]
    },
    {
     "name": "stderr",
     "output_type": "stream",
     "text": [
      "[Parallel(n_jobs=-1)]: Using backend LokyBackend with 4 concurrent workers.\n",
      "[Parallel(n_jobs=-1)]: Done  38 tasks      | elapsed:    1.4s\n",
      "[Parallel(n_jobs=-1)]: Done 246 tasks      | elapsed:   34.4s\n",
      "[Parallel(n_jobs=-1)]: Done 449 tasks      | elapsed:   51.6s\n",
      "[Parallel(n_jobs=-1)]: Done 844 tasks      | elapsed:  2.0min\n",
      "[Parallel(n_jobs=-1)]: Done 1293 tasks      | elapsed:  3.1min\n",
      "[Parallel(n_jobs=-1)]: Done 1846 tasks      | elapsed:  4.1min\n",
      "[Parallel(n_jobs=-1)]: Done 2417 tasks      | elapsed:  5.6min\n",
      "[Parallel(n_jobs=-1)]: Done 3172 tasks      | elapsed:  7.2min\n",
      "[Parallel(n_jobs=-1)]: Done 3861 tasks      | elapsed:  8.8min\n",
      "[Parallel(n_jobs=-1)]: Done 4750 tasks      | elapsed: 10.6min\n",
      "[Parallel(n_jobs=-1)]: Done 5645 tasks      | elapsed: 12.8min\n",
      "[Parallel(n_jobs=-1)]: Done 5760 out of 5760 | elapsed: 13.0min finished\n"
     ]
    },
    {
     "data": {
      "text/plain": [
       "GridSearchCV(cv=10, estimator=LGBMClassifier(), n_jobs=-1,\n",
       "             param_grid={'learning_rate': [0.1, 0.01, 0.02, 0.05],\n",
       "                         'max_depth': [3, 4, 5, 6],\n",
       "                         'min_child_samples': [5, 10, 20],\n",
       "                         'n_estimators': [100, 500, 1000, 2000],\n",
       "                         'subsample': [0.6, 0.8, 1.0]},\n",
       "             verbose=2)"
      ]
     },
     "execution_count": 196,
     "metadata": {},
     "output_type": "execute_result"
    }
   ],
   "source": [
    "lgbm_cv.fit(X_train,y_train)"
   ]
  },
  {
   "cell_type": "code",
   "execution_count": 197,
   "metadata": {},
   "outputs": [
    {
     "data": {
      "text/plain": [
       "{'learning_rate': 0.01,\n",
       " 'max_depth': 3,\n",
       " 'min_child_samples': 20,\n",
       " 'n_estimators': 100,\n",
       " 'subsample': 0.6}"
      ]
     },
     "execution_count": 197,
     "metadata": {},
     "output_type": "execute_result"
    }
   ],
   "source": [
    "lgbm_cv.best_params_"
   ]
  },
  {
   "cell_type": "code",
   "execution_count": 198,
   "metadata": {},
   "outputs": [],
   "source": [
    "lgbm = LGBMClassifier(learning_rate= 0.01,\n",
    " max_depth= 3,\n",
    " min_child_samples= 20,\n",
    " n_estimators= 100,\n",
    " subsample= 0.6)"
   ]
  },
  {
   "cell_type": "code",
   "execution_count": 199,
   "metadata": {},
   "outputs": [
    {
     "data": {
      "text/plain": [
       "0.631578947368421"
      ]
     },
     "execution_count": 199,
     "metadata": {},
     "output_type": "execute_result"
    }
   ],
   "source": [
    "lgbm_tuned = lgbm.fit(X_train,y_train)\n",
    "y_pred = lgbm_tuned.predict(X_test)\n",
    "accuracy_score(y_test,y_pred)"
   ]
  },
  {
   "cell_type": "markdown",
   "metadata": {},
   "source": [
    "# 12-Category Boosting"
   ]
  },
  {
   "cell_type": "code",
   "execution_count": 200,
   "metadata": {},
   "outputs": [],
   "source": [
    "from catboost import CatBoostClassifier"
   ]
  },
  {
   "cell_type": "code",
   "execution_count": 201,
   "metadata": {
    "collapsed": true,
    "jupyter": {
     "outputs_hidden": true
    }
   },
   "outputs": [
    {
     "name": "stdout",
     "output_type": "stream",
     "text": [
      "Learning rate set to 0.003649\n",
      "0:\tlearn: 0.6929504\ttotal: 70.4ms\tremaining: 1m 10s\n",
      "1:\tlearn: 0.6919911\ttotal: 72ms\tremaining: 35.9s\n",
      "2:\tlearn: 0.6907694\ttotal: 73.5ms\tremaining: 24.4s\n",
      "3:\tlearn: 0.6897634\ttotal: 75.1ms\tremaining: 18.7s\n",
      "4:\tlearn: 0.6884463\ttotal: 76.6ms\tremaining: 15.2s\n",
      "5:\tlearn: 0.6871425\ttotal: 78.9ms\tremaining: 13.1s\n",
      "6:\tlearn: 0.6862146\ttotal: 80.5ms\tremaining: 11.4s\n",
      "7:\tlearn: 0.6851089\ttotal: 82.1ms\tremaining: 10.2s\n",
      "8:\tlearn: 0.6840072\ttotal: 84.2ms\tremaining: 9.27s\n",
      "9:\tlearn: 0.6834073\ttotal: 85.5ms\tremaining: 8.46s\n",
      "10:\tlearn: 0.6826504\ttotal: 86.9ms\tremaining: 7.81s\n",
      "11:\tlearn: 0.6818665\ttotal: 88.4ms\tremaining: 7.28s\n",
      "12:\tlearn: 0.6812282\ttotal: 90.1ms\tremaining: 6.84s\n",
      "13:\tlearn: 0.6806823\ttotal: 91.4ms\tremaining: 6.43s\n",
      "14:\tlearn: 0.6798536\ttotal: 92.9ms\tremaining: 6.1s\n",
      "15:\tlearn: 0.6792550\ttotal: 94.3ms\tremaining: 5.8s\n",
      "16:\tlearn: 0.6783033\ttotal: 96.1ms\tremaining: 5.56s\n",
      "17:\tlearn: 0.6770070\ttotal: 97.6ms\tremaining: 5.33s\n",
      "18:\tlearn: 0.6761153\ttotal: 98.9ms\tremaining: 5.11s\n",
      "19:\tlearn: 0.6760290\ttotal: 100ms\tremaining: 4.9s\n",
      "20:\tlearn: 0.6749850\ttotal: 101ms\tremaining: 4.73s\n",
      "21:\tlearn: 0.6739388\ttotal: 103ms\tremaining: 4.58s\n",
      "22:\tlearn: 0.6726650\ttotal: 104ms\tremaining: 4.44s\n",
      "23:\tlearn: 0.6723557\ttotal: 106ms\tremaining: 4.3s\n",
      "24:\tlearn: 0.6713101\ttotal: 107ms\tremaining: 4.18s\n",
      "25:\tlearn: 0.6708319\ttotal: 109ms\tremaining: 4.07s\n",
      "26:\tlearn: 0.6701492\ttotal: 110ms\tremaining: 3.97s\n",
      "27:\tlearn: 0.6692447\ttotal: 112ms\tremaining: 3.89s\n",
      "28:\tlearn: 0.6687268\ttotal: 114ms\tremaining: 3.81s\n",
      "29:\tlearn: 0.6675971\ttotal: 116ms\tremaining: 3.75s\n",
      "30:\tlearn: 0.6666432\ttotal: 119ms\tremaining: 3.71s\n",
      "31:\tlearn: 0.6657181\ttotal: 121ms\tremaining: 3.66s\n",
      "32:\tlearn: 0.6654208\ttotal: 123ms\tremaining: 3.62s\n",
      "33:\tlearn: 0.6646259\ttotal: 125ms\tremaining: 3.55s\n",
      "34:\tlearn: 0.6641130\ttotal: 126ms\tremaining: 3.48s\n",
      "35:\tlearn: 0.6631650\ttotal: 128ms\tremaining: 3.43s\n",
      "36:\tlearn: 0.6616217\ttotal: 130ms\tremaining: 3.37s\n",
      "37:\tlearn: 0.6604343\ttotal: 131ms\tremaining: 3.32s\n",
      "38:\tlearn: 0.6595401\ttotal: 140ms\tremaining: 3.45s\n",
      "39:\tlearn: 0.6586016\ttotal: 146ms\tremaining: 3.5s\n",
      "40:\tlearn: 0.6575542\ttotal: 149ms\tremaining: 3.48s\n",
      "41:\tlearn: 0.6568124\ttotal: 152ms\tremaining: 3.47s\n",
      "42:\tlearn: 0.6561294\ttotal: 154ms\tremaining: 3.42s\n",
      "43:\tlearn: 0.6557032\ttotal: 155ms\tremaining: 3.38s\n",
      "44:\tlearn: 0.6546153\ttotal: 157ms\tremaining: 3.33s\n",
      "45:\tlearn: 0.6537901\ttotal: 158ms\tremaining: 3.29s\n",
      "46:\tlearn: 0.6528742\ttotal: 160ms\tremaining: 3.24s\n",
      "47:\tlearn: 0.6520514\ttotal: 161ms\tremaining: 3.2s\n",
      "48:\tlearn: 0.6512135\ttotal: 163ms\tremaining: 3.17s\n",
      "49:\tlearn: 0.6506937\ttotal: 165ms\tremaining: 3.13s\n",
      "50:\tlearn: 0.6499699\ttotal: 166ms\tremaining: 3.09s\n",
      "51:\tlearn: 0.6490641\ttotal: 168ms\tremaining: 3.06s\n",
      "52:\tlearn: 0.6487268\ttotal: 169ms\tremaining: 3.02s\n",
      "53:\tlearn: 0.6478381\ttotal: 171ms\tremaining: 2.99s\n",
      "54:\tlearn: 0.6473456\ttotal: 174ms\tremaining: 3s\n",
      "55:\tlearn: 0.6465327\ttotal: 176ms\tremaining: 2.97s\n",
      "56:\tlearn: 0.6456532\ttotal: 178ms\tremaining: 2.94s\n",
      "57:\tlearn: 0.6452271\ttotal: 179ms\tremaining: 2.9s\n",
      "58:\tlearn: 0.6444178\ttotal: 180ms\tremaining: 2.87s\n",
      "59:\tlearn: 0.6434456\ttotal: 182ms\tremaining: 2.85s\n",
      "60:\tlearn: 0.6427573\ttotal: 183ms\tremaining: 2.82s\n",
      "61:\tlearn: 0.6416761\ttotal: 185ms\tremaining: 2.79s\n",
      "62:\tlearn: 0.6412913\ttotal: 186ms\tremaining: 2.77s\n",
      "63:\tlearn: 0.6404953\ttotal: 188ms\tremaining: 2.75s\n",
      "64:\tlearn: 0.6397788\ttotal: 190ms\tremaining: 2.73s\n",
      "65:\tlearn: 0.6391359\ttotal: 191ms\tremaining: 2.7s\n",
      "66:\tlearn: 0.6383145\ttotal: 192ms\tremaining: 2.68s\n",
      "67:\tlearn: 0.6377333\ttotal: 194ms\tremaining: 2.66s\n",
      "68:\tlearn: 0.6370147\ttotal: 196ms\tremaining: 2.64s\n",
      "69:\tlearn: 0.6363507\ttotal: 197ms\tremaining: 2.62s\n",
      "70:\tlearn: 0.6355084\ttotal: 199ms\tremaining: 2.6s\n",
      "71:\tlearn: 0.6349227\ttotal: 201ms\tremaining: 2.59s\n",
      "72:\tlearn: 0.6339568\ttotal: 203ms\tremaining: 2.58s\n",
      "73:\tlearn: 0.6329034\ttotal: 204ms\tremaining: 2.56s\n",
      "74:\tlearn: 0.6320922\ttotal: 206ms\tremaining: 2.54s\n",
      "75:\tlearn: 0.6312121\ttotal: 207ms\tremaining: 2.52s\n",
      "76:\tlearn: 0.6302613\ttotal: 209ms\tremaining: 2.5s\n",
      "77:\tlearn: 0.6295438\ttotal: 211ms\tremaining: 2.49s\n",
      "78:\tlearn: 0.6286741\ttotal: 212ms\tremaining: 2.47s\n",
      "79:\tlearn: 0.6279967\ttotal: 214ms\tremaining: 2.46s\n",
      "80:\tlearn: 0.6274316\ttotal: 215ms\tremaining: 2.44s\n",
      "81:\tlearn: 0.6268400\ttotal: 216ms\tremaining: 2.42s\n",
      "82:\tlearn: 0.6260123\ttotal: 218ms\tremaining: 2.41s\n",
      "83:\tlearn: 0.6251514\ttotal: 220ms\tremaining: 2.4s\n",
      "84:\tlearn: 0.6243198\ttotal: 221ms\tremaining: 2.38s\n",
      "85:\tlearn: 0.6237510\ttotal: 223ms\tremaining: 2.37s\n",
      "86:\tlearn: 0.6231043\ttotal: 224ms\tremaining: 2.35s\n",
      "87:\tlearn: 0.6222968\ttotal: 226ms\tremaining: 2.34s\n",
      "88:\tlearn: 0.6217564\ttotal: 227ms\tremaining: 2.32s\n",
      "89:\tlearn: 0.6209866\ttotal: 228ms\tremaining: 2.31s\n",
      "90:\tlearn: 0.6203471\ttotal: 230ms\tremaining: 2.29s\n",
      "91:\tlearn: 0.6194798\ttotal: 231ms\tremaining: 2.28s\n",
      "92:\tlearn: 0.6192495\ttotal: 233ms\tremaining: 2.27s\n",
      "93:\tlearn: 0.6184126\ttotal: 234ms\tremaining: 2.26s\n",
      "94:\tlearn: 0.6179222\ttotal: 236ms\tremaining: 2.24s\n",
      "95:\tlearn: 0.6171377\ttotal: 237ms\tremaining: 2.23s\n",
      "96:\tlearn: 0.6167701\ttotal: 239ms\tremaining: 2.22s\n",
      "97:\tlearn: 0.6162180\ttotal: 240ms\tremaining: 2.21s\n",
      "98:\tlearn: 0.6156387\ttotal: 242ms\tremaining: 2.2s\n",
      "99:\tlearn: 0.6146091\ttotal: 243ms\tremaining: 2.19s\n",
      "100:\tlearn: 0.6138500\ttotal: 245ms\tremaining: 2.18s\n",
      "101:\tlearn: 0.6133104\ttotal: 247ms\tremaining: 2.17s\n",
      "102:\tlearn: 0.6125781\ttotal: 255ms\tremaining: 2.22s\n",
      "103:\tlearn: 0.6119252\ttotal: 257ms\tremaining: 2.21s\n",
      "104:\tlearn: 0.6112594\ttotal: 259ms\tremaining: 2.21s\n",
      "105:\tlearn: 0.6108415\ttotal: 261ms\tremaining: 2.2s\n",
      "106:\tlearn: 0.6102680\ttotal: 263ms\tremaining: 2.19s\n",
      "107:\tlearn: 0.6096887\ttotal: 264ms\tremaining: 2.18s\n",
      "108:\tlearn: 0.6086619\ttotal: 266ms\tremaining: 2.17s\n",
      "109:\tlearn: 0.6079445\ttotal: 268ms\tremaining: 2.17s\n",
      "110:\tlearn: 0.6068793\ttotal: 270ms\tremaining: 2.16s\n",
      "111:\tlearn: 0.6066514\ttotal: 271ms\tremaining: 2.15s\n",
      "112:\tlearn: 0.6061432\ttotal: 273ms\tremaining: 2.14s\n",
      "113:\tlearn: 0.6052860\ttotal: 274ms\tremaining: 2.13s\n",
      "114:\tlearn: 0.6042795\ttotal: 276ms\tremaining: 2.12s\n",
      "115:\tlearn: 0.6038018\ttotal: 278ms\tremaining: 2.12s\n",
      "116:\tlearn: 0.6032510\ttotal: 280ms\tremaining: 2.11s\n",
      "117:\tlearn: 0.6024412\ttotal: 291ms\tremaining: 2.17s\n",
      "118:\tlearn: 0.6019451\ttotal: 293ms\tremaining: 2.17s\n",
      "119:\tlearn: 0.6012444\ttotal: 295ms\tremaining: 2.16s\n",
      "120:\tlearn: 0.6005319\ttotal: 297ms\tremaining: 2.16s\n",
      "121:\tlearn: 0.5996618\ttotal: 300ms\tremaining: 2.16s\n",
      "122:\tlearn: 0.5990838\ttotal: 302ms\tremaining: 2.15s\n",
      "123:\tlearn: 0.5978368\ttotal: 304ms\tremaining: 2.15s\n",
      "124:\tlearn: 0.5972407\ttotal: 307ms\tremaining: 2.15s\n",
      "125:\tlearn: 0.5964141\ttotal: 309ms\tremaining: 2.14s\n",
      "126:\tlearn: 0.5959561\ttotal: 311ms\tremaining: 2.14s\n",
      "127:\tlearn: 0.5956687\ttotal: 313ms\tremaining: 2.13s\n",
      "128:\tlearn: 0.5946979\ttotal: 315ms\tremaining: 2.12s\n",
      "129:\tlearn: 0.5942082\ttotal: 316ms\tremaining: 2.12s\n",
      "130:\tlearn: 0.5933580\ttotal: 318ms\tremaining: 2.11s\n",
      "131:\tlearn: 0.5925062\ttotal: 335ms\tremaining: 2.21s\n",
      "132:\tlearn: 0.5916794\ttotal: 337ms\tremaining: 2.2s\n",
      "133:\tlearn: 0.5908849\ttotal: 339ms\tremaining: 2.19s\n",
      "134:\tlearn: 0.5905476\ttotal: 340ms\tremaining: 2.18s\n",
      "135:\tlearn: 0.5897362\ttotal: 342ms\tremaining: 2.17s\n",
      "136:\tlearn: 0.5889568\ttotal: 344ms\tremaining: 2.17s\n",
      "137:\tlearn: 0.5885444\ttotal: 346ms\tremaining: 2.16s\n",
      "138:\tlearn: 0.5881215\ttotal: 347ms\tremaining: 2.15s\n",
      "139:\tlearn: 0.5878586\ttotal: 348ms\tremaining: 2.14s\n",
      "140:\tlearn: 0.5872108\ttotal: 350ms\tremaining: 2.13s\n",
      "141:\tlearn: 0.5866809\ttotal: 352ms\tremaining: 2.12s\n",
      "142:\tlearn: 0.5860960\ttotal: 353ms\tremaining: 2.12s\n",
      "143:\tlearn: 0.5853202\ttotal: 355ms\tremaining: 2.11s\n",
      "144:\tlearn: 0.5850509\ttotal: 356ms\tremaining: 2.1s\n",
      "145:\tlearn: 0.5846895\ttotal: 358ms\tremaining: 2.09s\n",
      "146:\tlearn: 0.5842025\ttotal: 360ms\tremaining: 2.09s\n",
      "147:\tlearn: 0.5834187\ttotal: 361ms\tremaining: 2.08s\n",
      "148:\tlearn: 0.5822298\ttotal: 365ms\tremaining: 2.08s\n",
      "149:\tlearn: 0.5816228\ttotal: 368ms\tremaining: 2.08s\n",
      "150:\tlearn: 0.5808445\ttotal: 371ms\tremaining: 2.08s\n",
      "151:\tlearn: 0.5803331\ttotal: 373ms\tremaining: 2.08s\n",
      "152:\tlearn: 0.5794076\ttotal: 374ms\tremaining: 2.07s\n",
      "153:\tlearn: 0.5786268\ttotal: 376ms\tremaining: 2.06s\n",
      "154:\tlearn: 0.5780434\ttotal: 378ms\tremaining: 2.06s\n",
      "155:\tlearn: 0.5770876\ttotal: 379ms\tremaining: 2.05s\n",
      "156:\tlearn: 0.5767552\ttotal: 381ms\tremaining: 2.04s\n",
      "157:\tlearn: 0.5766975\ttotal: 382ms\tremaining: 2.04s\n",
      "158:\tlearn: 0.5762192\ttotal: 384ms\tremaining: 2.03s\n",
      "159:\tlearn: 0.5757357\ttotal: 386ms\tremaining: 2.02s\n",
      "160:\tlearn: 0.5752842\ttotal: 387ms\tremaining: 2.02s\n",
      "161:\tlearn: 0.5750119\ttotal: 389ms\tremaining: 2.01s\n",
      "162:\tlearn: 0.5744832\ttotal: 390ms\tremaining: 2s\n",
      "163:\tlearn: 0.5739162\ttotal: 402ms\tremaining: 2.05s\n",
      "164:\tlearn: 0.5732207\ttotal: 405ms\tremaining: 2.05s\n",
      "165:\tlearn: 0.5725572\ttotal: 408ms\tremaining: 2.05s\n",
      "166:\tlearn: 0.5720597\ttotal: 409ms\tremaining: 2.04s\n",
      "167:\tlearn: 0.5712432\ttotal: 411ms\tremaining: 2.03s\n",
      "168:\tlearn: 0.5704733\ttotal: 412ms\tremaining: 2.03s\n",
      "169:\tlearn: 0.5701006\ttotal: 414ms\tremaining: 2.02s\n",
      "170:\tlearn: 0.5688781\ttotal: 415ms\tremaining: 2.01s\n",
      "171:\tlearn: 0.5683329\ttotal: 417ms\tremaining: 2.01s\n",
      "172:\tlearn: 0.5680534\ttotal: 418ms\tremaining: 2s\n",
      "173:\tlearn: 0.5675880\ttotal: 420ms\tremaining: 1.99s\n",
      "174:\tlearn: 0.5668964\ttotal: 421ms\tremaining: 1.99s\n",
      "175:\tlearn: 0.5658007\ttotal: 423ms\tremaining: 1.98s\n",
      "176:\tlearn: 0.5655323\ttotal: 425ms\tremaining: 1.98s\n",
      "177:\tlearn: 0.5650260\ttotal: 427ms\tremaining: 1.97s\n",
      "178:\tlearn: 0.5644786\ttotal: 428ms\tremaining: 1.97s\n",
      "179:\tlearn: 0.5638191\ttotal: 430ms\tremaining: 1.96s\n",
      "180:\tlearn: 0.5636996\ttotal: 431ms\tremaining: 1.95s\n",
      "181:\tlearn: 0.5635531\ttotal: 432ms\tremaining: 1.94s\n",
      "182:\tlearn: 0.5629064\ttotal: 434ms\tremaining: 1.94s\n",
      "183:\tlearn: 0.5624162\ttotal: 436ms\tremaining: 1.93s\n",
      "184:\tlearn: 0.5618217\ttotal: 437ms\tremaining: 1.93s\n",
      "185:\tlearn: 0.5612834\ttotal: 439ms\tremaining: 1.92s\n",
      "186:\tlearn: 0.5607122\ttotal: 440ms\tremaining: 1.91s\n",
      "187:\tlearn: 0.5601754\ttotal: 442ms\tremaining: 1.91s\n",
      "188:\tlearn: 0.5599357\ttotal: 443ms\tremaining: 1.9s\n",
      "189:\tlearn: 0.5592650\ttotal: 445ms\tremaining: 1.9s\n",
      "190:\tlearn: 0.5584393\ttotal: 446ms\tremaining: 1.89s\n",
      "191:\tlearn: 0.5577250\ttotal: 448ms\tremaining: 1.88s\n",
      "192:\tlearn: 0.5571223\ttotal: 449ms\tremaining: 1.88s\n",
      "193:\tlearn: 0.5565339\ttotal: 451ms\tremaining: 1.87s\n",
      "194:\tlearn: 0.5557661\ttotal: 452ms\tremaining: 1.87s\n",
      "195:\tlearn: 0.5552419\ttotal: 454ms\tremaining: 1.86s\n",
      "196:\tlearn: 0.5548845\ttotal: 455ms\tremaining: 1.85s\n",
      "197:\tlearn: 0.5545284\ttotal: 459ms\tremaining: 1.86s\n",
      "198:\tlearn: 0.5538884\ttotal: 460ms\tremaining: 1.85s\n",
      "199:\tlearn: 0.5530087\ttotal: 462ms\tremaining: 1.85s\n",
      "200:\tlearn: 0.5526538\ttotal: 463ms\tremaining: 1.84s\n",
      "201:\tlearn: 0.5521036\ttotal: 465ms\tremaining: 1.83s\n",
      "202:\tlearn: 0.5515574\ttotal: 466ms\tremaining: 1.83s\n",
      "203:\tlearn: 0.5510619\ttotal: 468ms\tremaining: 1.82s\n",
      "204:\tlearn: 0.5506353\ttotal: 469ms\tremaining: 1.82s\n",
      "205:\tlearn: 0.5501201\ttotal: 471ms\tremaining: 1.81s\n",
      "206:\tlearn: 0.5495448\ttotal: 473ms\tremaining: 1.81s\n",
      "207:\tlearn: 0.5490709\ttotal: 474ms\tremaining: 1.8s\n",
      "208:\tlearn: 0.5483476\ttotal: 476ms\tremaining: 1.8s\n",
      "209:\tlearn: 0.5481781\ttotal: 477ms\tremaining: 1.79s\n",
      "210:\tlearn: 0.5476795\ttotal: 479ms\tremaining: 1.79s\n",
      "211:\tlearn: 0.5472151\ttotal: 480ms\tremaining: 1.78s\n",
      "212:\tlearn: 0.5467038\ttotal: 481ms\tremaining: 1.78s\n",
      "213:\tlearn: 0.5466861\ttotal: 483ms\tremaining: 1.77s\n",
      "214:\tlearn: 0.5460584\ttotal: 486ms\tremaining: 1.77s\n",
      "215:\tlearn: 0.5456691\ttotal: 488ms\tremaining: 1.77s\n",
      "216:\tlearn: 0.5450819\ttotal: 489ms\tremaining: 1.76s\n",
      "217:\tlearn: 0.5444911\ttotal: 491ms\tremaining: 1.76s\n",
      "218:\tlearn: 0.5440456\ttotal: 492ms\tremaining: 1.76s\n",
      "219:\tlearn: 0.5435101\ttotal: 494ms\tremaining: 1.75s\n",
      "220:\tlearn: 0.5428720\ttotal: 496ms\tremaining: 1.75s\n",
      "221:\tlearn: 0.5423953\ttotal: 497ms\tremaining: 1.74s\n",
      "222:\tlearn: 0.5422636\ttotal: 499ms\tremaining: 1.74s\n",
      "223:\tlearn: 0.5416376\ttotal: 501ms\tremaining: 1.73s\n",
      "224:\tlearn: 0.5411402\ttotal: 503ms\tremaining: 1.73s\n",
      "225:\tlearn: 0.5407037\ttotal: 504ms\tremaining: 1.73s\n",
      "226:\tlearn: 0.5406792\ttotal: 506ms\tremaining: 1.72s\n",
      "227:\tlearn: 0.5401717\ttotal: 520ms\tremaining: 1.76s\n",
      "228:\tlearn: 0.5398592\ttotal: 522ms\tremaining: 1.76s\n",
      "229:\tlearn: 0.5393908\ttotal: 523ms\tremaining: 1.75s\n",
      "230:\tlearn: 0.5389376\ttotal: 525ms\tremaining: 1.75s\n",
      "231:\tlearn: 0.5383279\ttotal: 527ms\tremaining: 1.74s\n",
      "232:\tlearn: 0.5376773\ttotal: 529ms\tremaining: 1.74s\n",
      "233:\tlearn: 0.5373052\ttotal: 530ms\tremaining: 1.74s\n",
      "234:\tlearn: 0.5370413\ttotal: 532ms\tremaining: 1.73s\n",
      "235:\tlearn: 0.5363942\ttotal: 533ms\tremaining: 1.73s\n",
      "236:\tlearn: 0.5358548\ttotal: 535ms\tremaining: 1.72s\n",
      "237:\tlearn: 0.5356171\ttotal: 537ms\tremaining: 1.72s\n",
      "238:\tlearn: 0.5350996\ttotal: 538ms\tremaining: 1.71s\n",
      "239:\tlearn: 0.5348311\ttotal: 540ms\tremaining: 1.71s\n",
      "240:\tlearn: 0.5342980\ttotal: 541ms\tremaining: 1.7s\n",
      "241:\tlearn: 0.5338219\ttotal: 543ms\tremaining: 1.7s\n",
      "242:\tlearn: 0.5335730\ttotal: 544ms\tremaining: 1.7s\n",
      "243:\tlearn: 0.5331741\ttotal: 547ms\tremaining: 1.69s\n",
      "244:\tlearn: 0.5327907\ttotal: 549ms\tremaining: 1.69s\n",
      "245:\tlearn: 0.5324077\ttotal: 551ms\tremaining: 1.69s\n",
      "246:\tlearn: 0.5318986\ttotal: 552ms\tremaining: 1.68s\n",
      "247:\tlearn: 0.5314777\ttotal: 554ms\tremaining: 1.68s\n",
      "248:\tlearn: 0.5312190\ttotal: 556ms\tremaining: 1.68s\n",
      "249:\tlearn: 0.5303172\ttotal: 557ms\tremaining: 1.67s\n",
      "250:\tlearn: 0.5297623\ttotal: 559ms\tremaining: 1.67s\n",
      "251:\tlearn: 0.5291810\ttotal: 561ms\tremaining: 1.66s\n",
      "252:\tlearn: 0.5286670\ttotal: 563ms\tremaining: 1.66s\n",
      "253:\tlearn: 0.5281786\ttotal: 564ms\tremaining: 1.66s\n",
      "254:\tlearn: 0.5281590\ttotal: 566ms\tremaining: 1.65s\n",
      "255:\tlearn: 0.5274583\ttotal: 567ms\tremaining: 1.65s\n",
      "256:\tlearn: 0.5270374\ttotal: 569ms\tremaining: 1.64s\n",
      "257:\tlearn: 0.5263759\ttotal: 571ms\tremaining: 1.64s\n",
      "258:\tlearn: 0.5257916\ttotal: 572ms\tremaining: 1.64s\n",
      "259:\tlearn: 0.5257014\ttotal: 573ms\tremaining: 1.63s\n",
      "260:\tlearn: 0.5252944\ttotal: 576ms\tremaining: 1.63s\n",
      "261:\tlearn: 0.5249798\ttotal: 577ms\tremaining: 1.63s\n",
      "262:\tlearn: 0.5249503\ttotal: 578ms\tremaining: 1.62s\n",
      "263:\tlearn: 0.5248727\ttotal: 580ms\tremaining: 1.61s\n",
      "264:\tlearn: 0.5240064\ttotal: 581ms\tremaining: 1.61s\n",
      "265:\tlearn: 0.5235780\ttotal: 582ms\tremaining: 1.61s\n",
      "266:\tlearn: 0.5233856\ttotal: 584ms\tremaining: 1.6s\n",
      "267:\tlearn: 0.5229788\ttotal: 585ms\tremaining: 1.6s\n",
      "268:\tlearn: 0.5227194\ttotal: 587ms\tremaining: 1.59s\n",
      "269:\tlearn: 0.5226915\ttotal: 588ms\tremaining: 1.59s\n",
      "270:\tlearn: 0.5222097\ttotal: 589ms\tremaining: 1.58s\n",
      "271:\tlearn: 0.5217543\ttotal: 591ms\tremaining: 1.58s\n",
      "272:\tlearn: 0.5211124\ttotal: 592ms\tremaining: 1.58s\n",
      "273:\tlearn: 0.5210279\ttotal: 594ms\tremaining: 1.57s\n",
      "274:\tlearn: 0.5207048\ttotal: 595ms\tremaining: 1.57s\n",
      "275:\tlearn: 0.5200538\ttotal: 596ms\tremaining: 1.56s\n",
      "276:\tlearn: 0.5194340\ttotal: 598ms\tremaining: 1.56s\n",
      "277:\tlearn: 0.5186487\ttotal: 602ms\tremaining: 1.56s\n",
      "278:\tlearn: 0.5185364\ttotal: 603ms\tremaining: 1.56s\n",
      "279:\tlearn: 0.5181133\ttotal: 605ms\tremaining: 1.55s\n",
      "280:\tlearn: 0.5180321\ttotal: 606ms\tremaining: 1.55s\n",
      "281:\tlearn: 0.5173987\ttotal: 607ms\tremaining: 1.55s\n",
      "282:\tlearn: 0.5168477\ttotal: 609ms\tremaining: 1.54s\n",
      "283:\tlearn: 0.5168083\ttotal: 611ms\tremaining: 1.54s\n",
      "284:\tlearn: 0.5163378\ttotal: 612ms\tremaining: 1.54s\n",
      "285:\tlearn: 0.5159482\ttotal: 614ms\tremaining: 1.53s\n",
      "286:\tlearn: 0.5153885\ttotal: 616ms\tremaining: 1.53s\n",
      "287:\tlearn: 0.5150349\ttotal: 617ms\tremaining: 1.52s\n",
      "288:\tlearn: 0.5149572\ttotal: 619ms\tremaining: 1.52s\n",
      "289:\tlearn: 0.5143873\ttotal: 620ms\tremaining: 1.52s\n",
      "290:\tlearn: 0.5139512\ttotal: 622ms\tremaining: 1.51s\n",
      "291:\tlearn: 0.5135619\ttotal: 623ms\tremaining: 1.51s\n",
      "292:\tlearn: 0.5132056\ttotal: 625ms\tremaining: 1.51s\n",
      "293:\tlearn: 0.5130224\ttotal: 626ms\tremaining: 1.5s\n",
      "294:\tlearn: 0.5128551\ttotal: 631ms\tremaining: 1.51s\n",
      "295:\tlearn: 0.5125964\ttotal: 637ms\tremaining: 1.51s\n",
      "296:\tlearn: 0.5121228\ttotal: 640ms\tremaining: 1.51s\n",
      "297:\tlearn: 0.5116510\ttotal: 642ms\tremaining: 1.51s\n",
      "298:\tlearn: 0.5110347\ttotal: 643ms\tremaining: 1.51s\n",
      "299:\tlearn: 0.5108381\ttotal: 644ms\tremaining: 1.5s\n",
      "300:\tlearn: 0.5105836\ttotal: 646ms\tremaining: 1.5s\n",
      "301:\tlearn: 0.5100331\ttotal: 647ms\tremaining: 1.5s\n",
      "302:\tlearn: 0.5096765\ttotal: 649ms\tremaining: 1.49s\n",
      "303:\tlearn: 0.5096493\ttotal: 650ms\tremaining: 1.49s\n",
      "304:\tlearn: 0.5095689\ttotal: 652ms\tremaining: 1.48s\n",
      "305:\tlearn: 0.5089839\ttotal: 653ms\tremaining: 1.48s\n",
      "306:\tlearn: 0.5086727\ttotal: 655ms\tremaining: 1.48s\n",
      "307:\tlearn: 0.5083504\ttotal: 656ms\tremaining: 1.47s\n",
      "308:\tlearn: 0.5082216\ttotal: 657ms\tremaining: 1.47s\n",
      "309:\tlearn: 0.5080766\ttotal: 659ms\tremaining: 1.47s\n",
      "310:\tlearn: 0.5074003\ttotal: 661ms\tremaining: 1.46s\n",
      "311:\tlearn: 0.5073098\ttotal: 662ms\tremaining: 1.46s\n",
      "312:\tlearn: 0.5072523\ttotal: 664ms\tremaining: 1.46s\n",
      "313:\tlearn: 0.5069327\ttotal: 666ms\tremaining: 1.46s\n",
      "314:\tlearn: 0.5063353\ttotal: 669ms\tremaining: 1.45s\n",
      "315:\tlearn: 0.5060163\ttotal: 670ms\tremaining: 1.45s\n",
      "316:\tlearn: 0.5057354\ttotal: 672ms\tremaining: 1.45s\n",
      "317:\tlearn: 0.5055574\ttotal: 673ms\tremaining: 1.44s\n",
      "318:\tlearn: 0.5050269\ttotal: 675ms\tremaining: 1.44s\n",
      "319:\tlearn: 0.5047186\ttotal: 677ms\tremaining: 1.44s\n",
      "320:\tlearn: 0.5043241\ttotal: 678ms\tremaining: 1.43s\n",
      "321:\tlearn: 0.5042653\ttotal: 679ms\tremaining: 1.43s\n",
      "322:\tlearn: 0.5041884\ttotal: 681ms\tremaining: 1.43s\n",
      "323:\tlearn: 0.5039968\ttotal: 682ms\tremaining: 1.42s\n",
      "324:\tlearn: 0.5036675\ttotal: 683ms\tremaining: 1.42s\n",
      "325:\tlearn: 0.5032266\ttotal: 685ms\tremaining: 1.42s\n",
      "326:\tlearn: 0.5031413\ttotal: 686ms\tremaining: 1.41s\n",
      "327:\tlearn: 0.5029083\ttotal: 688ms\tremaining: 1.41s\n",
      "328:\tlearn: 0.5028420\ttotal: 689ms\tremaining: 1.41s\n",
      "329:\tlearn: 0.5026921\ttotal: 690ms\tremaining: 1.4s\n",
      "330:\tlearn: 0.5023962\ttotal: 694ms\tremaining: 1.4s\n",
      "331:\tlearn: 0.5020925\ttotal: 695ms\tremaining: 1.4s\n",
      "332:\tlearn: 0.5018307\ttotal: 697ms\tremaining: 1.4s\n",
      "333:\tlearn: 0.5015614\ttotal: 698ms\tremaining: 1.39s\n",
      "334:\tlearn: 0.5011979\ttotal: 700ms\tremaining: 1.39s\n",
      "335:\tlearn: 0.5004672\ttotal: 702ms\tremaining: 1.39s\n",
      "336:\tlearn: 0.4999850\ttotal: 704ms\tremaining: 1.38s\n",
      "337:\tlearn: 0.4995771\ttotal: 705ms\tremaining: 1.38s\n",
      "338:\tlearn: 0.4991359\ttotal: 707ms\tremaining: 1.38s\n",
      "339:\tlearn: 0.4990818\ttotal: 708ms\tremaining: 1.37s\n",
      "340:\tlearn: 0.4986227\ttotal: 709ms\tremaining: 1.37s\n",
      "341:\tlearn: 0.4984629\ttotal: 711ms\tremaining: 1.37s\n",
      "342:\tlearn: 0.4979423\ttotal: 714ms\tremaining: 1.37s\n",
      "343:\tlearn: 0.4974198\ttotal: 716ms\tremaining: 1.36s\n",
      "344:\tlearn: 0.4967655\ttotal: 717ms\tremaining: 1.36s\n",
      "345:\tlearn: 0.4965209\ttotal: 719ms\tremaining: 1.36s\n",
      "346:\tlearn: 0.4963276\ttotal: 721ms\tremaining: 1.36s\n",
      "347:\tlearn: 0.4962699\ttotal: 722ms\tremaining: 1.35s\n",
      "348:\tlearn: 0.4960730\ttotal: 724ms\tremaining: 1.35s\n",
      "349:\tlearn: 0.4957689\ttotal: 725ms\tremaining: 1.35s\n",
      "350:\tlearn: 0.4954125\ttotal: 727ms\tremaining: 1.34s\n",
      "351:\tlearn: 0.4951303\ttotal: 729ms\tremaining: 1.34s\n",
      "352:\tlearn: 0.4945786\ttotal: 731ms\tremaining: 1.34s\n",
      "353:\tlearn: 0.4939742\ttotal: 733ms\tremaining: 1.34s\n",
      "354:\tlearn: 0.4935804\ttotal: 734ms\tremaining: 1.33s\n",
      "355:\tlearn: 0.4932582\ttotal: 736ms\tremaining: 1.33s\n",
      "356:\tlearn: 0.4929250\ttotal: 738ms\tremaining: 1.33s\n",
      "357:\tlearn: 0.4927065\ttotal: 739ms\tremaining: 1.32s\n",
      "358:\tlearn: 0.4925560\ttotal: 740ms\tremaining: 1.32s\n",
      "359:\tlearn: 0.4919203\ttotal: 742ms\tremaining: 1.32s\n",
      "360:\tlearn: 0.4917535\ttotal: 743ms\tremaining: 1.31s\n",
      "361:\tlearn: 0.4915541\ttotal: 746ms\tremaining: 1.31s\n",
      "362:\tlearn: 0.4911103\ttotal: 752ms\tremaining: 1.32s\n",
      "363:\tlearn: 0.4906474\ttotal: 755ms\tremaining: 1.32s\n",
      "364:\tlearn: 0.4898912\ttotal: 759ms\tremaining: 1.32s\n",
      "365:\tlearn: 0.4892903\ttotal: 761ms\tremaining: 1.32s\n",
      "366:\tlearn: 0.4887130\ttotal: 763ms\tremaining: 1.31s\n",
      "367:\tlearn: 0.4882217\ttotal: 764ms\tremaining: 1.31s\n",
      "368:\tlearn: 0.4875733\ttotal: 766ms\tremaining: 1.31s\n",
      "369:\tlearn: 0.4872818\ttotal: 769ms\tremaining: 1.31s\n",
      "370:\tlearn: 0.4869732\ttotal: 770ms\tremaining: 1.31s\n",
      "371:\tlearn: 0.4866054\ttotal: 772ms\tremaining: 1.3s\n",
      "372:\tlearn: 0.4862097\ttotal: 774ms\tremaining: 1.3s\n",
      "373:\tlearn: 0.4860565\ttotal: 775ms\tremaining: 1.3s\n",
      "374:\tlearn: 0.4857183\ttotal: 777ms\tremaining: 1.29s\n",
      "375:\tlearn: 0.4854474\ttotal: 779ms\tremaining: 1.29s\n",
      "376:\tlearn: 0.4850061\ttotal: 784ms\tremaining: 1.29s\n",
      "377:\tlearn: 0.4848048\ttotal: 785ms\tremaining: 1.29s\n",
      "378:\tlearn: 0.4846072\ttotal: 787ms\tremaining: 1.29s\n",
      "379:\tlearn: 0.4841899\ttotal: 788ms\tremaining: 1.29s\n",
      "380:\tlearn: 0.4837509\ttotal: 790ms\tremaining: 1.28s\n",
      "381:\tlearn: 0.4835767\ttotal: 792ms\tremaining: 1.28s\n",
      "382:\tlearn: 0.4832046\ttotal: 793ms\tremaining: 1.28s\n",
      "383:\tlearn: 0.4827423\ttotal: 795ms\tremaining: 1.27s\n",
      "384:\tlearn: 0.4823588\ttotal: 796ms\tremaining: 1.27s\n",
      "385:\tlearn: 0.4819126\ttotal: 798ms\tremaining: 1.27s\n",
      "386:\tlearn: 0.4816636\ttotal: 800ms\tremaining: 1.27s\n",
      "387:\tlearn: 0.4815030\ttotal: 801ms\tremaining: 1.26s\n",
      "388:\tlearn: 0.4809622\ttotal: 803ms\tremaining: 1.26s\n",
      "389:\tlearn: 0.4807340\ttotal: 804ms\tremaining: 1.26s\n",
      "390:\tlearn: 0.4806901\ttotal: 805ms\tremaining: 1.25s\n",
      "391:\tlearn: 0.4803732\ttotal: 807ms\tremaining: 1.25s\n",
      "392:\tlearn: 0.4798711\ttotal: 810ms\tremaining: 1.25s\n",
      "393:\tlearn: 0.4798090\ttotal: 811ms\tremaining: 1.25s\n",
      "394:\tlearn: 0.4796147\ttotal: 813ms\tremaining: 1.25s\n",
      "395:\tlearn: 0.4794824\ttotal: 814ms\tremaining: 1.24s\n",
      "396:\tlearn: 0.4794385\ttotal: 816ms\tremaining: 1.24s\n",
      "397:\tlearn: 0.4791373\ttotal: 817ms\tremaining: 1.24s\n",
      "398:\tlearn: 0.4787936\ttotal: 819ms\tremaining: 1.23s\n",
      "399:\tlearn: 0.4785691\ttotal: 820ms\tremaining: 1.23s\n",
      "400:\tlearn: 0.4784302\ttotal: 822ms\tremaining: 1.23s\n",
      "401:\tlearn: 0.4781121\ttotal: 823ms\tremaining: 1.22s\n",
      "402:\tlearn: 0.4779568\ttotal: 825ms\tremaining: 1.22s\n",
      "403:\tlearn: 0.4775084\ttotal: 826ms\tremaining: 1.22s\n",
      "404:\tlearn: 0.4771969\ttotal: 828ms\tremaining: 1.22s\n",
      "405:\tlearn: 0.4770494\ttotal: 829ms\tremaining: 1.21s\n",
      "406:\tlearn: 0.4765961\ttotal: 831ms\tremaining: 1.21s\n",
      "407:\tlearn: 0.4763904\ttotal: 832ms\tremaining: 1.21s\n",
      "408:\tlearn: 0.4759154\ttotal: 834ms\tremaining: 1.21s\n",
      "409:\tlearn: 0.4757607\ttotal: 836ms\tremaining: 1.2s\n",
      "410:\tlearn: 0.4757266\ttotal: 838ms\tremaining: 1.2s\n",
      "411:\tlearn: 0.4754566\ttotal: 841ms\tremaining: 1.2s\n",
      "412:\tlearn: 0.4751123\ttotal: 842ms\tremaining: 1.2s\n",
      "413:\tlearn: 0.4750510\ttotal: 844ms\tremaining: 1.19s\n",
      "414:\tlearn: 0.4747518\ttotal: 845ms\tremaining: 1.19s\n",
      "415:\tlearn: 0.4746509\ttotal: 847ms\tremaining: 1.19s\n",
      "416:\tlearn: 0.4745647\ttotal: 848ms\tremaining: 1.19s\n",
      "417:\tlearn: 0.4743633\ttotal: 849ms\tremaining: 1.18s\n",
      "418:\tlearn: 0.4742167\ttotal: 851ms\tremaining: 1.18s\n",
      "419:\tlearn: 0.4736557\ttotal: 852ms\tremaining: 1.18s\n",
      "420:\tlearn: 0.4735290\ttotal: 854ms\tremaining: 1.17s\n",
      "421:\tlearn: 0.4732157\ttotal: 855ms\tremaining: 1.17s\n",
      "422:\tlearn: 0.4732060\ttotal: 856ms\tremaining: 1.17s\n",
      "423:\tlearn: 0.4727459\ttotal: 858ms\tremaining: 1.17s\n",
      "424:\tlearn: 0.4723596\ttotal: 859ms\tremaining: 1.16s\n",
      "425:\tlearn: 0.4719940\ttotal: 861ms\tremaining: 1.16s\n",
      "426:\tlearn: 0.4719411\ttotal: 862ms\tremaining: 1.16s\n",
      "427:\tlearn: 0.4716080\ttotal: 864ms\tremaining: 1.15s\n",
      "428:\tlearn: 0.4713856\ttotal: 867ms\tremaining: 1.15s\n",
      "429:\tlearn: 0.4711351\ttotal: 868ms\tremaining: 1.15s\n",
      "430:\tlearn: 0.4705150\ttotal: 870ms\tremaining: 1.15s\n",
      "431:\tlearn: 0.4703854\ttotal: 871ms\tremaining: 1.15s\n",
      "432:\tlearn: 0.4702945\ttotal: 873ms\tremaining: 1.14s\n",
      "433:\tlearn: 0.4699458\ttotal: 874ms\tremaining: 1.14s\n",
      "434:\tlearn: 0.4696558\ttotal: 876ms\tremaining: 1.14s\n",
      "435:\tlearn: 0.4693800\ttotal: 878ms\tremaining: 1.14s\n",
      "436:\tlearn: 0.4693238\ttotal: 879ms\tremaining: 1.13s\n",
      "437:\tlearn: 0.4692875\ttotal: 881ms\tremaining: 1.13s\n",
      "438:\tlearn: 0.4687764\ttotal: 882ms\tremaining: 1.13s\n",
      "439:\tlearn: 0.4684839\ttotal: 884ms\tremaining: 1.13s\n",
      "440:\tlearn: 0.4679873\ttotal: 886ms\tremaining: 1.12s\n",
      "441:\tlearn: 0.4675816\ttotal: 887ms\tremaining: 1.12s\n",
      "442:\tlearn: 0.4673783\ttotal: 889ms\tremaining: 1.12s\n",
      "443:\tlearn: 0.4670402\ttotal: 891ms\tremaining: 1.11s\n",
      "444:\tlearn: 0.4666682\ttotal: 894ms\tremaining: 1.11s\n",
      "445:\tlearn: 0.4666651\ttotal: 895ms\tremaining: 1.11s\n",
      "446:\tlearn: 0.4664849\ttotal: 898ms\tremaining: 1.11s\n",
      "447:\tlearn: 0.4662836\ttotal: 900ms\tremaining: 1.11s\n",
      "448:\tlearn: 0.4658310\ttotal: 902ms\tremaining: 1.11s\n",
      "449:\tlearn: 0.4655851\ttotal: 903ms\tremaining: 1.1s\n",
      "450:\tlearn: 0.4653582\ttotal: 905ms\tremaining: 1.1s\n",
      "451:\tlearn: 0.4650356\ttotal: 907ms\tremaining: 1.1s\n",
      "452:\tlearn: 0.4648312\ttotal: 908ms\tremaining: 1.1s\n",
      "453:\tlearn: 0.4647351\ttotal: 910ms\tremaining: 1.09s\n",
      "454:\tlearn: 0.4646612\ttotal: 912ms\tremaining: 1.09s\n",
      "455:\tlearn: 0.4642162\ttotal: 914ms\tremaining: 1.09s\n",
      "456:\tlearn: 0.4637598\ttotal: 916ms\tremaining: 1.09s\n",
      "457:\tlearn: 0.4635123\ttotal: 917ms\tremaining: 1.08s\n",
      "458:\tlearn: 0.4633013\ttotal: 919ms\tremaining: 1.08s\n",
      "459:\tlearn: 0.4632865\ttotal: 920ms\tremaining: 1.08s\n",
      "460:\tlearn: 0.4628878\ttotal: 924ms\tremaining: 1.08s\n",
      "461:\tlearn: 0.4625115\ttotal: 925ms\tremaining: 1.08s\n",
      "462:\tlearn: 0.4622394\ttotal: 927ms\tremaining: 1.07s\n",
      "463:\tlearn: 0.4618648\ttotal: 929ms\tremaining: 1.07s\n",
      "464:\tlearn: 0.4615521\ttotal: 931ms\tremaining: 1.07s\n",
      "465:\tlearn: 0.4614849\ttotal: 933ms\tremaining: 1.07s\n",
      "466:\tlearn: 0.4613541\ttotal: 934ms\tremaining: 1.07s\n",
      "467:\tlearn: 0.4609898\ttotal: 936ms\tremaining: 1.06s\n",
      "468:\tlearn: 0.4609155\ttotal: 937ms\tremaining: 1.06s\n",
      "469:\tlearn: 0.4604944\ttotal: 939ms\tremaining: 1.06s\n",
      "470:\tlearn: 0.4601626\ttotal: 941ms\tremaining: 1.06s\n",
      "471:\tlearn: 0.4597870\ttotal: 942ms\tremaining: 1.05s\n",
      "472:\tlearn: 0.4596473\ttotal: 944ms\tremaining: 1.05s\n",
      "473:\tlearn: 0.4594278\ttotal: 946ms\tremaining: 1.05s\n",
      "474:\tlearn: 0.4593620\ttotal: 947ms\tremaining: 1.05s\n",
      "475:\tlearn: 0.4590739\ttotal: 948ms\tremaining: 1.04s\n",
      "476:\tlearn: 0.4585529\ttotal: 950ms\tremaining: 1.04s\n",
      "477:\tlearn: 0.4581584\ttotal: 952ms\tremaining: 1.04s\n",
      "478:\tlearn: 0.4577873\ttotal: 953ms\tremaining: 1.04s\n",
      "479:\tlearn: 0.4577407\ttotal: 954ms\tremaining: 1.03s\n",
      "480:\tlearn: 0.4573875\ttotal: 956ms\tremaining: 1.03s\n",
      "481:\tlearn: 0.4571779\ttotal: 958ms\tremaining: 1.03s\n",
      "482:\tlearn: 0.4570376\ttotal: 959ms\tremaining: 1.03s\n",
      "483:\tlearn: 0.4568246\ttotal: 961ms\tremaining: 1.02s\n",
      "484:\tlearn: 0.4564510\ttotal: 962ms\tremaining: 1.02s\n",
      "485:\tlearn: 0.4562720\ttotal: 964ms\tremaining: 1.02s\n",
      "486:\tlearn: 0.4559408\ttotal: 965ms\tremaining: 1.02s\n",
      "487:\tlearn: 0.4555919\ttotal: 967ms\tremaining: 1.01s\n",
      "488:\tlearn: 0.4554138\ttotal: 968ms\tremaining: 1.01s\n",
      "489:\tlearn: 0.4550359\ttotal: 969ms\tremaining: 1.01s\n",
      "490:\tlearn: 0.4546923\ttotal: 971ms\tremaining: 1.01s\n",
      "491:\tlearn: 0.4546439\ttotal: 972ms\tremaining: 1s\n",
      "492:\tlearn: 0.4542447\ttotal: 974ms\tremaining: 1s\n",
      "493:\tlearn: 0.4538125\ttotal: 976ms\tremaining: 999ms\n",
      "494:\tlearn: 0.4534593\ttotal: 977ms\tremaining: 997ms\n",
      "495:\tlearn: 0.4530386\ttotal: 979ms\tremaining: 995ms\n",
      "496:\tlearn: 0.4527591\ttotal: 980ms\tremaining: 992ms\n",
      "497:\tlearn: 0.4527192\ttotal: 982ms\tremaining: 990ms\n",
      "498:\tlearn: 0.4525055\ttotal: 983ms\tremaining: 987ms\n",
      "499:\tlearn: 0.4520046\ttotal: 985ms\tremaining: 985ms\n",
      "500:\tlearn: 0.4517796\ttotal: 986ms\tremaining: 982ms\n",
      "501:\tlearn: 0.4515846\ttotal: 988ms\tremaining: 980ms\n",
      "502:\tlearn: 0.4511797\ttotal: 989ms\tremaining: 977ms\n",
      "503:\tlearn: 0.4509978\ttotal: 991ms\tremaining: 975ms\n",
      "504:\tlearn: 0.4507657\ttotal: 992ms\tremaining: 973ms\n",
      "505:\tlearn: 0.4505026\ttotal: 995ms\tremaining: 971ms\n",
      "506:\tlearn: 0.4501091\ttotal: 997ms\tremaining: 969ms\n",
      "507:\tlearn: 0.4500676\ttotal: 998ms\tremaining: 967ms\n",
      "508:\tlearn: 0.4499252\ttotal: 1000ms\tremaining: 964ms\n",
      "509:\tlearn: 0.4496168\ttotal: 1s\tremaining: 962ms\n",
      "510:\tlearn: 0.4493559\ttotal: 1s\tremaining: 960ms\n",
      "511:\tlearn: 0.4492838\ttotal: 1s\tremaining: 958ms\n",
      "512:\tlearn: 0.4492229\ttotal: 1.01s\tremaining: 956ms\n",
      "513:\tlearn: 0.4490464\ttotal: 1.01s\tremaining: 954ms\n",
      "514:\tlearn: 0.4486484\ttotal: 1.01s\tremaining: 952ms\n",
      "515:\tlearn: 0.4481686\ttotal: 1.01s\tremaining: 950ms\n",
      "516:\tlearn: 0.4481382\ttotal: 1.01s\tremaining: 947ms\n",
      "517:\tlearn: 0.4479724\ttotal: 1.01s\tremaining: 945ms\n",
      "518:\tlearn: 0.4475898\ttotal: 1.02s\tremaining: 942ms\n",
      "519:\tlearn: 0.4473000\ttotal: 1.02s\tremaining: 940ms\n",
      "520:\tlearn: 0.4471726\ttotal: 1.02s\tremaining: 938ms\n",
      "521:\tlearn: 0.4469068\ttotal: 1.02s\tremaining: 935ms\n",
      "522:\tlearn: 0.4468330\ttotal: 1.02s\tremaining: 933ms\n",
      "523:\tlearn: 0.4466868\ttotal: 1.02s\tremaining: 931ms\n",
      "524:\tlearn: 0.4463831\ttotal: 1.02s\tremaining: 928ms\n",
      "525:\tlearn: 0.4461659\ttotal: 1.03s\tremaining: 926ms\n",
      "526:\tlearn: 0.4461605\ttotal: 1.03s\tremaining: 923ms\n",
      "527:\tlearn: 0.4461071\ttotal: 1.03s\tremaining: 921ms\n",
      "528:\tlearn: 0.4459418\ttotal: 1.03s\tremaining: 918ms\n",
      "529:\tlearn: 0.4457423\ttotal: 1.03s\tremaining: 916ms\n",
      "530:\tlearn: 0.4456307\ttotal: 1.03s\tremaining: 914ms\n",
      "531:\tlearn: 0.4449900\ttotal: 1.04s\tremaining: 911ms\n",
      "532:\tlearn: 0.4447938\ttotal: 1.04s\tremaining: 909ms\n",
      "533:\tlearn: 0.4446645\ttotal: 1.04s\tremaining: 907ms\n",
      "534:\tlearn: 0.4444794\ttotal: 1.04s\tremaining: 904ms\n",
      "535:\tlearn: 0.4444177\ttotal: 1.04s\tremaining: 902ms\n",
      "536:\tlearn: 0.4441615\ttotal: 1.04s\tremaining: 900ms\n",
      "537:\tlearn: 0.4438250\ttotal: 1.04s\tremaining: 897ms\n",
      "538:\tlearn: 0.4435383\ttotal: 1.05s\tremaining: 895ms\n",
      "539:\tlearn: 0.4433469\ttotal: 1.05s\tremaining: 893ms\n",
      "540:\tlearn: 0.4429945\ttotal: 1.05s\tremaining: 891ms\n",
      "541:\tlearn: 0.4428106\ttotal: 1.05s\tremaining: 889ms\n",
      "542:\tlearn: 0.4425452\ttotal: 1.05s\tremaining: 886ms\n",
      "543:\tlearn: 0.4424497\ttotal: 1.05s\tremaining: 884ms\n",
      "544:\tlearn: 0.4421451\ttotal: 1.06s\tremaining: 882ms\n",
      "545:\tlearn: 0.4418689\ttotal: 1.06s\tremaining: 880ms\n",
      "546:\tlearn: 0.4417068\ttotal: 1.06s\tremaining: 878ms\n",
      "547:\tlearn: 0.4413568\ttotal: 1.06s\tremaining: 875ms\n",
      "548:\tlearn: 0.4408726\ttotal: 1.06s\tremaining: 873ms\n",
      "549:\tlearn: 0.4406513\ttotal: 1.06s\tremaining: 871ms\n",
      "550:\tlearn: 0.4402927\ttotal: 1.07s\tremaining: 869ms\n",
      "551:\tlearn: 0.4399861\ttotal: 1.07s\tremaining: 867ms\n",
      "552:\tlearn: 0.4397321\ttotal: 1.07s\tremaining: 865ms\n",
      "553:\tlearn: 0.4396185\ttotal: 1.07s\tremaining: 862ms\n",
      "554:\tlearn: 0.4394429\ttotal: 1.07s\tremaining: 860ms\n",
      "555:\tlearn: 0.4391487\ttotal: 1.07s\tremaining: 858ms\n",
      "556:\tlearn: 0.4389078\ttotal: 1.07s\tremaining: 856ms\n",
      "557:\tlearn: 0.4386404\ttotal: 1.08s\tremaining: 854ms\n",
      "558:\tlearn: 0.4384829\ttotal: 1.08s\tremaining: 851ms\n",
      "559:\tlearn: 0.4382351\ttotal: 1.08s\tremaining: 849ms\n",
      "560:\tlearn: 0.4381204\ttotal: 1.08s\tremaining: 847ms\n",
      "561:\tlearn: 0.4378236\ttotal: 1.08s\tremaining: 845ms\n",
      "562:\tlearn: 0.4372575\ttotal: 1.08s\tremaining: 843ms\n",
      "563:\tlearn: 0.4372098\ttotal: 1.09s\tremaining: 840ms\n",
      "564:\tlearn: 0.4370018\ttotal: 1.09s\tremaining: 838ms\n",
      "565:\tlearn: 0.4369837\ttotal: 1.09s\tremaining: 835ms\n",
      "566:\tlearn: 0.4368067\ttotal: 1.09s\tremaining: 833ms\n",
      "567:\tlearn: 0.4364451\ttotal: 1.09s\tremaining: 831ms\n",
      "568:\tlearn: 0.4360879\ttotal: 1.09s\tremaining: 829ms\n",
      "569:\tlearn: 0.4359651\ttotal: 1.1s\tremaining: 827ms\n",
      "570:\tlearn: 0.4358729\ttotal: 1.1s\tremaining: 825ms\n",
      "571:\tlearn: 0.4357490\ttotal: 1.1s\tremaining: 826ms\n",
      "572:\tlearn: 0.4354820\ttotal: 1.11s\tremaining: 824ms\n",
      "573:\tlearn: 0.4351762\ttotal: 1.11s\tremaining: 822ms\n",
      "574:\tlearn: 0.4350609\ttotal: 1.11s\tremaining: 820ms\n",
      "575:\tlearn: 0.4348715\ttotal: 1.11s\tremaining: 819ms\n",
      "576:\tlearn: 0.4344838\ttotal: 1.11s\tremaining: 817ms\n",
      "577:\tlearn: 0.4340476\ttotal: 1.11s\tremaining: 815ms\n",
      "578:\tlearn: 0.4337683\ttotal: 1.12s\tremaining: 812ms\n",
      "579:\tlearn: 0.4334899\ttotal: 1.12s\tremaining: 810ms\n",
      "580:\tlearn: 0.4334734\ttotal: 1.12s\tremaining: 808ms\n",
      "581:\tlearn: 0.4331357\ttotal: 1.12s\tremaining: 806ms\n",
      "582:\tlearn: 0.4328137\ttotal: 1.12s\tremaining: 804ms\n",
      "583:\tlearn: 0.4327409\ttotal: 1.12s\tremaining: 801ms\n",
      "584:\tlearn: 0.4326548\ttotal: 1.13s\tremaining: 799ms\n",
      "585:\tlearn: 0.4325206\ttotal: 1.13s\tremaining: 797ms\n",
      "586:\tlearn: 0.4322673\ttotal: 1.13s\tremaining: 796ms\n",
      "587:\tlearn: 0.4321764\ttotal: 1.13s\tremaining: 793ms\n",
      "588:\tlearn: 0.4318010\ttotal: 1.13s\tremaining: 791ms\n",
      "589:\tlearn: 0.4315756\ttotal: 1.14s\tremaining: 789ms\n",
      "590:\tlearn: 0.4312067\ttotal: 1.14s\tremaining: 787ms\n",
      "591:\tlearn: 0.4307418\ttotal: 1.14s\tremaining: 785ms\n",
      "592:\tlearn: 0.4305008\ttotal: 1.14s\tremaining: 782ms\n",
      "593:\tlearn: 0.4303269\ttotal: 1.14s\tremaining: 780ms\n",
      "594:\tlearn: 0.4302908\ttotal: 1.14s\tremaining: 778ms\n",
      "595:\tlearn: 0.4300012\ttotal: 1.14s\tremaining: 776ms\n",
      "596:\tlearn: 0.4296973\ttotal: 1.15s\tremaining: 773ms\n",
      "597:\tlearn: 0.4294759\ttotal: 1.15s\tremaining: 771ms\n",
      "598:\tlearn: 0.4292520\ttotal: 1.15s\tremaining: 769ms\n",
      "599:\tlearn: 0.4291333\ttotal: 1.15s\tremaining: 767ms\n",
      "600:\tlearn: 0.4288405\ttotal: 1.15s\tremaining: 765ms\n",
      "601:\tlearn: 0.4285616\ttotal: 1.15s\tremaining: 763ms\n",
      "602:\tlearn: 0.4281966\ttotal: 1.16s\tremaining: 760ms\n",
      "603:\tlearn: 0.4278105\ttotal: 1.16s\tremaining: 758ms\n",
      "604:\tlearn: 0.4277438\ttotal: 1.16s\tremaining: 756ms\n",
      "605:\tlearn: 0.4275708\ttotal: 1.16s\tremaining: 754ms\n",
      "606:\tlearn: 0.4275541\ttotal: 1.16s\tremaining: 751ms\n",
      "607:\tlearn: 0.4270762\ttotal: 1.16s\tremaining: 749ms\n",
      "608:\tlearn: 0.4267925\ttotal: 1.16s\tremaining: 747ms\n",
      "609:\tlearn: 0.4267417\ttotal: 1.16s\tremaining: 745ms\n",
      "610:\tlearn: 0.4266376\ttotal: 1.17s\tremaining: 742ms\n",
      "611:\tlearn: 0.4265432\ttotal: 1.17s\tremaining: 740ms\n",
      "612:\tlearn: 0.4262574\ttotal: 1.17s\tremaining: 738ms\n",
      "613:\tlearn: 0.4260427\ttotal: 1.17s\tremaining: 736ms\n",
      "614:\tlearn: 0.4258104\ttotal: 1.17s\tremaining: 734ms\n",
      "615:\tlearn: 0.4255429\ttotal: 1.17s\tremaining: 732ms\n",
      "616:\tlearn: 0.4251274\ttotal: 1.18s\tremaining: 730ms\n",
      "617:\tlearn: 0.4249706\ttotal: 1.18s\tremaining: 728ms\n",
      "618:\tlearn: 0.4247159\ttotal: 1.18s\tremaining: 725ms\n",
      "619:\tlearn: 0.4243409\ttotal: 1.18s\tremaining: 723ms\n",
      "620:\tlearn: 0.4241473\ttotal: 1.18s\tremaining: 721ms\n",
      "621:\tlearn: 0.4239430\ttotal: 1.18s\tremaining: 720ms\n",
      "622:\tlearn: 0.4236233\ttotal: 1.19s\tremaining: 718ms\n",
      "623:\tlearn: 0.4233607\ttotal: 1.19s\tremaining: 716ms\n",
      "624:\tlearn: 0.4233349\ttotal: 1.19s\tremaining: 714ms\n",
      "625:\tlearn: 0.4233240\ttotal: 1.19s\tremaining: 711ms\n",
      "626:\tlearn: 0.4230958\ttotal: 1.19s\tremaining: 709ms\n",
      "627:\tlearn: 0.4229896\ttotal: 1.19s\tremaining: 707ms\n",
      "628:\tlearn: 0.4226952\ttotal: 1.2s\tremaining: 706ms\n",
      "629:\tlearn: 0.4226432\ttotal: 1.2s\tremaining: 704ms\n",
      "630:\tlearn: 0.4225206\ttotal: 1.2s\tremaining: 702ms\n",
      "631:\tlearn: 0.4223898\ttotal: 1.2s\tremaining: 699ms\n",
      "632:\tlearn: 0.4223772\ttotal: 1.2s\tremaining: 697ms\n",
      "633:\tlearn: 0.4218169\ttotal: 1.2s\tremaining: 695ms\n",
      "634:\tlearn: 0.4214703\ttotal: 1.21s\tremaining: 693ms\n",
      "635:\tlearn: 0.4211073\ttotal: 1.21s\tremaining: 691ms\n",
      "636:\tlearn: 0.4210522\ttotal: 1.21s\tremaining: 689ms\n",
      "637:\tlearn: 0.4208023\ttotal: 1.21s\tremaining: 688ms\n",
      "638:\tlearn: 0.4203785\ttotal: 1.22s\tremaining: 687ms\n",
      "639:\tlearn: 0.4203642\ttotal: 1.22s\tremaining: 685ms\n",
      "640:\tlearn: 0.4202040\ttotal: 1.22s\tremaining: 683ms\n",
      "641:\tlearn: 0.4199462\ttotal: 1.22s\tremaining: 681ms\n",
      "642:\tlearn: 0.4197497\ttotal: 1.22s\tremaining: 679ms\n",
      "643:\tlearn: 0.4196793\ttotal: 1.22s\tremaining: 677ms\n",
      "644:\tlearn: 0.4194564\ttotal: 1.23s\tremaining: 675ms\n",
      "645:\tlearn: 0.4192118\ttotal: 1.23s\tremaining: 673ms\n",
      "646:\tlearn: 0.4190249\ttotal: 1.23s\tremaining: 671ms\n",
      "647:\tlearn: 0.4185877\ttotal: 1.23s\tremaining: 669ms\n",
      "648:\tlearn: 0.4182979\ttotal: 1.23s\tremaining: 666ms\n",
      "649:\tlearn: 0.4182295\ttotal: 1.23s\tremaining: 664ms\n",
      "650:\tlearn: 0.4181099\ttotal: 1.23s\tremaining: 662ms\n",
      "651:\tlearn: 0.4178513\ttotal: 1.24s\tremaining: 660ms\n",
      "652:\tlearn: 0.4174875\ttotal: 1.24s\tremaining: 658ms\n",
      "653:\tlearn: 0.4174375\ttotal: 1.24s\tremaining: 656ms\n",
      "654:\tlearn: 0.4173894\ttotal: 1.24s\tremaining: 653ms\n",
      "655:\tlearn: 0.4172249\ttotal: 1.24s\tremaining: 652ms\n",
      "656:\tlearn: 0.4168974\ttotal: 1.24s\tremaining: 650ms\n",
      "657:\tlearn: 0.4167077\ttotal: 1.25s\tremaining: 648ms\n",
      "658:\tlearn: 0.4166100\ttotal: 1.25s\tremaining: 646ms\n",
      "659:\tlearn: 0.4163745\ttotal: 1.25s\tremaining: 644ms\n",
      "660:\tlearn: 0.4163031\ttotal: 1.25s\tremaining: 642ms\n",
      "661:\tlearn: 0.4160949\ttotal: 1.25s\tremaining: 640ms\n",
      "662:\tlearn: 0.4156747\ttotal: 1.25s\tremaining: 638ms\n",
      "663:\tlearn: 0.4156445\ttotal: 1.25s\tremaining: 635ms\n",
      "664:\tlearn: 0.4155166\ttotal: 1.26s\tremaining: 633ms\n",
      "665:\tlearn: 0.4150515\ttotal: 1.26s\tremaining: 631ms\n",
      "666:\tlearn: 0.4147642\ttotal: 1.26s\tremaining: 629ms\n",
      "667:\tlearn: 0.4145144\ttotal: 1.26s\tremaining: 627ms\n",
      "668:\tlearn: 0.4142832\ttotal: 1.26s\tremaining: 625ms\n",
      "669:\tlearn: 0.4142490\ttotal: 1.26s\tremaining: 623ms\n",
      "670:\tlearn: 0.4140845\ttotal: 1.27s\tremaining: 621ms\n",
      "671:\tlearn: 0.4139553\ttotal: 1.27s\tremaining: 619ms\n",
      "672:\tlearn: 0.4138046\ttotal: 1.27s\tremaining: 617ms\n",
      "673:\tlearn: 0.4134304\ttotal: 1.27s\tremaining: 615ms\n",
      "674:\tlearn: 0.4132887\ttotal: 1.27s\tremaining: 613ms\n",
      "675:\tlearn: 0.4129642\ttotal: 1.27s\tremaining: 611ms\n",
      "676:\tlearn: 0.4128080\ttotal: 1.28s\tremaining: 609ms\n",
      "677:\tlearn: 0.4127677\ttotal: 1.28s\tremaining: 607ms\n",
      "678:\tlearn: 0.4124440\ttotal: 1.28s\tremaining: 605ms\n",
      "679:\tlearn: 0.4121533\ttotal: 1.28s\tremaining: 603ms\n",
      "680:\tlearn: 0.4118614\ttotal: 1.28s\tremaining: 601ms\n",
      "681:\tlearn: 0.4118413\ttotal: 1.28s\tremaining: 599ms\n",
      "682:\tlearn: 0.4116962\ttotal: 1.28s\tremaining: 596ms\n",
      "683:\tlearn: 0.4114842\ttotal: 1.29s\tremaining: 594ms\n",
      "684:\tlearn: 0.4113972\ttotal: 1.29s\tremaining: 592ms\n",
      "685:\tlearn: 0.4110877\ttotal: 1.29s\tremaining: 590ms\n",
      "686:\tlearn: 0.4109281\ttotal: 1.29s\tremaining: 588ms\n",
      "687:\tlearn: 0.4106058\ttotal: 1.29s\tremaining: 586ms\n",
      "688:\tlearn: 0.4105923\ttotal: 1.29s\tremaining: 584ms\n",
      "689:\tlearn: 0.4104623\ttotal: 1.29s\tremaining: 582ms\n",
      "690:\tlearn: 0.4104063\ttotal: 1.3s\tremaining: 580ms\n",
      "691:\tlearn: 0.4101322\ttotal: 1.3s\tremaining: 578ms\n",
      "692:\tlearn: 0.4099228\ttotal: 1.3s\tremaining: 576ms\n",
      "693:\tlearn: 0.4097924\ttotal: 1.3s\tremaining: 574ms\n",
      "694:\tlearn: 0.4097837\ttotal: 1.3s\tremaining: 572ms\n",
      "695:\tlearn: 0.4095765\ttotal: 1.3s\tremaining: 570ms\n",
      "696:\tlearn: 0.4094073\ttotal: 1.3s\tremaining: 567ms\n",
      "697:\tlearn: 0.4093503\ttotal: 1.31s\tremaining: 565ms\n",
      "698:\tlearn: 0.4092456\ttotal: 1.31s\tremaining: 563ms\n",
      "699:\tlearn: 0.4090471\ttotal: 1.31s\tremaining: 561ms\n",
      "700:\tlearn: 0.4089819\ttotal: 1.31s\tremaining: 559ms\n",
      "701:\tlearn: 0.4088477\ttotal: 1.31s\tremaining: 557ms\n",
      "702:\tlearn: 0.4087421\ttotal: 1.31s\tremaining: 555ms\n",
      "703:\tlearn: 0.4086864\ttotal: 1.31s\tremaining: 553ms\n",
      "704:\tlearn: 0.4084025\ttotal: 1.32s\tremaining: 551ms\n",
      "705:\tlearn: 0.4081173\ttotal: 1.32s\tremaining: 549ms\n",
      "706:\tlearn: 0.4079249\ttotal: 1.32s\tremaining: 547ms\n",
      "707:\tlearn: 0.4077693\ttotal: 1.32s\tremaining: 545ms\n",
      "708:\tlearn: 0.4077660\ttotal: 1.32s\tremaining: 544ms\n",
      "709:\tlearn: 0.4077523\ttotal: 1.32s\tremaining: 541ms\n",
      "710:\tlearn: 0.4074363\ttotal: 1.33s\tremaining: 539ms\n",
      "711:\tlearn: 0.4070841\ttotal: 1.33s\tremaining: 538ms\n",
      "712:\tlearn: 0.4069559\ttotal: 1.33s\tremaining: 536ms\n",
      "713:\tlearn: 0.4069279\ttotal: 1.33s\tremaining: 533ms\n",
      "714:\tlearn: 0.4068522\ttotal: 1.33s\tremaining: 531ms\n",
      "715:\tlearn: 0.4068143\ttotal: 1.33s\tremaining: 529ms\n",
      "716:\tlearn: 0.4067276\ttotal: 1.34s\tremaining: 527ms\n",
      "717:\tlearn: 0.4063650\ttotal: 1.34s\tremaining: 525ms\n",
      "718:\tlearn: 0.4059494\ttotal: 1.34s\tremaining: 524ms\n",
      "719:\tlearn: 0.4055893\ttotal: 1.34s\tremaining: 522ms\n",
      "720:\tlearn: 0.4053595\ttotal: 1.34s\tremaining: 520ms\n",
      "721:\tlearn: 0.4053364\ttotal: 1.34s\tremaining: 518ms\n",
      "722:\tlearn: 0.4049705\ttotal: 1.35s\tremaining: 516ms\n",
      "723:\tlearn: 0.4048446\ttotal: 1.35s\tremaining: 514ms\n",
      "724:\tlearn: 0.4046432\ttotal: 1.35s\tremaining: 513ms\n",
      "725:\tlearn: 0.4045280\ttotal: 1.35s\tremaining: 511ms\n",
      "726:\tlearn: 0.4041897\ttotal: 1.35s\tremaining: 509ms\n",
      "727:\tlearn: 0.4041132\ttotal: 1.36s\tremaining: 507ms\n",
      "728:\tlearn: 0.4039782\ttotal: 1.36s\tremaining: 505ms\n",
      "729:\tlearn: 0.4037953\ttotal: 1.36s\tremaining: 503ms\n",
      "730:\tlearn: 0.4036648\ttotal: 1.36s\tremaining: 501ms\n",
      "731:\tlearn: 0.4035287\ttotal: 1.36s\tremaining: 499ms\n",
      "732:\tlearn: 0.4034872\ttotal: 1.36s\tremaining: 497ms\n",
      "733:\tlearn: 0.4032801\ttotal: 1.37s\tremaining: 495ms\n",
      "734:\tlearn: 0.4031755\ttotal: 1.37s\tremaining: 493ms\n",
      "735:\tlearn: 0.4029074\ttotal: 1.37s\tremaining: 491ms\n",
      "736:\tlearn: 0.4028971\ttotal: 1.37s\tremaining: 489ms\n",
      "737:\tlearn: 0.4028081\ttotal: 1.37s\tremaining: 487ms\n",
      "738:\tlearn: 0.4025787\ttotal: 1.37s\tremaining: 485ms\n",
      "739:\tlearn: 0.4023128\ttotal: 1.37s\tremaining: 483ms\n",
      "740:\tlearn: 0.4021803\ttotal: 1.38s\tremaining: 481ms\n",
      "741:\tlearn: 0.4021672\ttotal: 1.38s\tremaining: 479ms\n",
      "742:\tlearn: 0.4020609\ttotal: 1.38s\tremaining: 477ms\n",
      "743:\tlearn: 0.4018623\ttotal: 1.38s\tremaining: 475ms\n",
      "744:\tlearn: 0.4016744\ttotal: 1.38s\tremaining: 473ms\n",
      "745:\tlearn: 0.4016071\ttotal: 1.38s\tremaining: 471ms\n",
      "746:\tlearn: 0.4014326\ttotal: 1.39s\tremaining: 469ms\n",
      "747:\tlearn: 0.4012735\ttotal: 1.39s\tremaining: 467ms\n",
      "748:\tlearn: 0.4011458\ttotal: 1.39s\tremaining: 465ms\n",
      "749:\tlearn: 0.4010235\ttotal: 1.39s\tremaining: 463ms\n",
      "750:\tlearn: 0.4009049\ttotal: 1.39s\tremaining: 461ms\n",
      "751:\tlearn: 0.4006143\ttotal: 1.39s\tremaining: 460ms\n",
      "752:\tlearn: 0.4005143\ttotal: 1.39s\tremaining: 458ms\n",
      "753:\tlearn: 0.4003420\ttotal: 1.4s\tremaining: 456ms\n",
      "754:\tlearn: 0.4001161\ttotal: 1.4s\tremaining: 454ms\n",
      "755:\tlearn: 0.4000643\ttotal: 1.4s\tremaining: 452ms\n",
      "756:\tlearn: 0.4000481\ttotal: 1.4s\tremaining: 450ms\n",
      "757:\tlearn: 0.3997797\ttotal: 1.4s\tremaining: 448ms\n",
      "758:\tlearn: 0.3996627\ttotal: 1.4s\tremaining: 446ms\n",
      "759:\tlearn: 0.3995982\ttotal: 1.4s\tremaining: 444ms\n",
      "760:\tlearn: 0.3995816\ttotal: 1.41s\tremaining: 442ms\n",
      "761:\tlearn: 0.3993987\ttotal: 1.41s\tremaining: 440ms\n",
      "762:\tlearn: 0.3990337\ttotal: 1.41s\tremaining: 438ms\n",
      "763:\tlearn: 0.3988105\ttotal: 1.41s\tremaining: 436ms\n",
      "764:\tlearn: 0.3985820\ttotal: 1.41s\tremaining: 434ms\n",
      "765:\tlearn: 0.3985266\ttotal: 1.41s\tremaining: 432ms\n",
      "766:\tlearn: 0.3982192\ttotal: 1.42s\tremaining: 430ms\n",
      "767:\tlearn: 0.3982067\ttotal: 1.42s\tremaining: 428ms\n",
      "768:\tlearn: 0.3981867\ttotal: 1.42s\tremaining: 426ms\n",
      "769:\tlearn: 0.3979604\ttotal: 1.42s\tremaining: 424ms\n",
      "770:\tlearn: 0.3975827\ttotal: 1.42s\tremaining: 422ms\n",
      "771:\tlearn: 0.3975498\ttotal: 1.42s\tremaining: 420ms\n",
      "772:\tlearn: 0.3974003\ttotal: 1.42s\tremaining: 418ms\n",
      "773:\tlearn: 0.3972397\ttotal: 1.43s\tremaining: 416ms\n",
      "774:\tlearn: 0.3970053\ttotal: 1.43s\tremaining: 414ms\n",
      "775:\tlearn: 0.3968124\ttotal: 1.43s\tremaining: 412ms\n",
      "776:\tlearn: 0.3966890\ttotal: 1.43s\tremaining: 410ms\n",
      "777:\tlearn: 0.3966644\ttotal: 1.43s\tremaining: 408ms\n",
      "778:\tlearn: 0.3965809\ttotal: 1.43s\tremaining: 406ms\n",
      "779:\tlearn: 0.3964177\ttotal: 1.43s\tremaining: 404ms\n",
      "780:\tlearn: 0.3963939\ttotal: 1.44s\tremaining: 402ms\n",
      "781:\tlearn: 0.3961672\ttotal: 1.44s\tremaining: 401ms\n",
      "782:\tlearn: 0.3959165\ttotal: 1.44s\tremaining: 399ms\n",
      "783:\tlearn: 0.3957325\ttotal: 1.44s\tremaining: 397ms\n",
      "784:\tlearn: 0.3956326\ttotal: 1.44s\tremaining: 395ms\n",
      "785:\tlearn: 0.3955615\ttotal: 1.44s\tremaining: 393ms\n",
      "786:\tlearn: 0.3954395\ttotal: 1.44s\tremaining: 391ms\n",
      "787:\tlearn: 0.3951461\ttotal: 1.45s\tremaining: 389ms\n",
      "788:\tlearn: 0.3951238\ttotal: 1.45s\tremaining: 387ms\n",
      "789:\tlearn: 0.3948720\ttotal: 1.45s\tremaining: 385ms\n",
      "790:\tlearn: 0.3946268\ttotal: 1.45s\tremaining: 383ms\n",
      "791:\tlearn: 0.3945615\ttotal: 1.45s\tremaining: 381ms\n",
      "792:\tlearn: 0.3941475\ttotal: 1.45s\tremaining: 379ms\n",
      "793:\tlearn: 0.3941387\ttotal: 1.45s\tremaining: 377ms\n",
      "794:\tlearn: 0.3938939\ttotal: 1.46s\tremaining: 375ms\n",
      "795:\tlearn: 0.3936891\ttotal: 1.46s\tremaining: 373ms\n",
      "796:\tlearn: 0.3933230\ttotal: 1.46s\tremaining: 372ms\n",
      "797:\tlearn: 0.3930372\ttotal: 1.46s\tremaining: 370ms\n",
      "798:\tlearn: 0.3930145\ttotal: 1.46s\tremaining: 368ms\n",
      "799:\tlearn: 0.3927013\ttotal: 1.46s\tremaining: 366ms\n",
      "800:\tlearn: 0.3924455\ttotal: 1.46s\tremaining: 364ms\n",
      "801:\tlearn: 0.3922312\ttotal: 1.47s\tremaining: 362ms\n",
      "802:\tlearn: 0.3918946\ttotal: 1.47s\tremaining: 360ms\n",
      "803:\tlearn: 0.3915120\ttotal: 1.47s\tremaining: 358ms\n",
      "804:\tlearn: 0.3914422\ttotal: 1.47s\tremaining: 356ms\n",
      "805:\tlearn: 0.3911241\ttotal: 1.47s\tremaining: 354ms\n",
      "806:\tlearn: 0.3909076\ttotal: 1.47s\tremaining: 353ms\n",
      "807:\tlearn: 0.3907071\ttotal: 1.48s\tremaining: 351ms\n",
      "808:\tlearn: 0.3905752\ttotal: 1.48s\tremaining: 349ms\n",
      "809:\tlearn: 0.3903834\ttotal: 1.48s\tremaining: 347ms\n",
      "810:\tlearn: 0.3899993\ttotal: 1.48s\tremaining: 345ms\n",
      "811:\tlearn: 0.3898379\ttotal: 1.48s\tremaining: 343ms\n",
      "812:\tlearn: 0.3896609\ttotal: 1.48s\tremaining: 341ms\n",
      "813:\tlearn: 0.3895138\ttotal: 1.49s\tremaining: 339ms\n",
      "814:\tlearn: 0.3893603\ttotal: 1.49s\tremaining: 338ms\n",
      "815:\tlearn: 0.3893487\ttotal: 1.49s\tremaining: 336ms\n",
      "816:\tlearn: 0.3893360\ttotal: 1.49s\tremaining: 334ms\n",
      "817:\tlearn: 0.3890837\ttotal: 1.49s\tremaining: 332ms\n",
      "818:\tlearn: 0.3889108\ttotal: 1.49s\tremaining: 330ms\n",
      "819:\tlearn: 0.3886889\ttotal: 1.49s\tremaining: 328ms\n",
      "820:\tlearn: 0.3884284\ttotal: 1.5s\tremaining: 326ms\n",
      "821:\tlearn: 0.3881137\ttotal: 1.5s\tremaining: 324ms\n",
      "822:\tlearn: 0.3880946\ttotal: 1.5s\tremaining: 322ms\n",
      "823:\tlearn: 0.3879154\ttotal: 1.5s\tremaining: 321ms\n",
      "824:\tlearn: 0.3878270\ttotal: 1.5s\tremaining: 319ms\n",
      "825:\tlearn: 0.3877899\ttotal: 1.5s\tremaining: 317ms\n",
      "826:\tlearn: 0.3874916\ttotal: 1.51s\tremaining: 315ms\n",
      "827:\tlearn: 0.3872044\ttotal: 1.51s\tremaining: 313ms\n",
      "828:\tlearn: 0.3869957\ttotal: 1.51s\tremaining: 311ms\n",
      "829:\tlearn: 0.3869130\ttotal: 1.51s\tremaining: 310ms\n",
      "830:\tlearn: 0.3868943\ttotal: 1.51s\tremaining: 308ms\n",
      "831:\tlearn: 0.3866252\ttotal: 1.51s\tremaining: 306ms\n",
      "832:\tlearn: 0.3864459\ttotal: 1.52s\tremaining: 304ms\n",
      "833:\tlearn: 0.3863733\ttotal: 1.52s\tremaining: 302ms\n",
      "834:\tlearn: 0.3860248\ttotal: 1.52s\tremaining: 301ms\n",
      "835:\tlearn: 0.3860038\ttotal: 1.52s\tremaining: 299ms\n",
      "836:\tlearn: 0.3857932\ttotal: 1.52s\tremaining: 297ms\n",
      "837:\tlearn: 0.3857295\ttotal: 1.52s\tremaining: 295ms\n",
      "838:\tlearn: 0.3854169\ttotal: 1.53s\tremaining: 293ms\n",
      "839:\tlearn: 0.3852997\ttotal: 1.53s\tremaining: 291ms\n",
      "840:\tlearn: 0.3851949\ttotal: 1.53s\tremaining: 289ms\n",
      "841:\tlearn: 0.3850999\ttotal: 1.53s\tremaining: 288ms\n",
      "842:\tlearn: 0.3848533\ttotal: 1.53s\tremaining: 286ms\n",
      "843:\tlearn: 0.3846581\ttotal: 1.54s\tremaining: 284ms\n",
      "844:\tlearn: 0.3845373\ttotal: 1.54s\tremaining: 282ms\n",
      "845:\tlearn: 0.3843414\ttotal: 1.54s\tremaining: 280ms\n",
      "846:\tlearn: 0.3842911\ttotal: 1.54s\tremaining: 278ms\n",
      "847:\tlearn: 0.3842318\ttotal: 1.54s\tremaining: 277ms\n",
      "848:\tlearn: 0.3842204\ttotal: 1.54s\tremaining: 275ms\n",
      "849:\tlearn: 0.3839506\ttotal: 1.55s\tremaining: 273ms\n",
      "850:\tlearn: 0.3838867\ttotal: 1.55s\tremaining: 271ms\n",
      "851:\tlearn: 0.3837651\ttotal: 1.55s\tremaining: 269ms\n",
      "852:\tlearn: 0.3837240\ttotal: 1.55s\tremaining: 267ms\n",
      "853:\tlearn: 0.3834988\ttotal: 1.55s\tremaining: 265ms\n",
      "854:\tlearn: 0.3834091\ttotal: 1.55s\tremaining: 264ms\n",
      "855:\tlearn: 0.3832037\ttotal: 1.55s\tremaining: 262ms\n",
      "856:\tlearn: 0.3831768\ttotal: 1.56s\tremaining: 260ms\n",
      "857:\tlearn: 0.3829068\ttotal: 1.56s\tremaining: 258ms\n",
      "858:\tlearn: 0.3825281\ttotal: 1.56s\tremaining: 256ms\n",
      "859:\tlearn: 0.3823568\ttotal: 1.56s\tremaining: 254ms\n",
      "860:\tlearn: 0.3821913\ttotal: 1.56s\tremaining: 253ms\n",
      "861:\tlearn: 0.3820240\ttotal: 1.57s\tremaining: 251ms\n",
      "862:\tlearn: 0.3819799\ttotal: 1.57s\tremaining: 249ms\n",
      "863:\tlearn: 0.3818171\ttotal: 1.57s\tremaining: 247ms\n",
      "864:\tlearn: 0.3816106\ttotal: 1.57s\tremaining: 245ms\n",
      "865:\tlearn: 0.3816090\ttotal: 1.57s\tremaining: 243ms\n",
      "866:\tlearn: 0.3814799\ttotal: 1.57s\tremaining: 241ms\n",
      "867:\tlearn: 0.3813712\ttotal: 1.57s\tremaining: 240ms\n",
      "868:\tlearn: 0.3811926\ttotal: 1.58s\tremaining: 238ms\n",
      "869:\tlearn: 0.3811690\ttotal: 1.58s\tremaining: 236ms\n",
      "870:\tlearn: 0.3808669\ttotal: 1.58s\tremaining: 234ms\n",
      "871:\tlearn: 0.3807813\ttotal: 1.58s\tremaining: 232ms\n",
      "872:\tlearn: 0.3807568\ttotal: 1.58s\tremaining: 230ms\n",
      "873:\tlearn: 0.3804224\ttotal: 1.58s\tremaining: 229ms\n",
      "874:\tlearn: 0.3802743\ttotal: 1.59s\tremaining: 227ms\n",
      "875:\tlearn: 0.3801054\ttotal: 1.59s\tremaining: 225ms\n",
      "876:\tlearn: 0.3799343\ttotal: 1.59s\tremaining: 223ms\n",
      "877:\tlearn: 0.3798061\ttotal: 1.59s\tremaining: 221ms\n",
      "878:\tlearn: 0.3796936\ttotal: 1.59s\tremaining: 220ms\n",
      "879:\tlearn: 0.3794773\ttotal: 1.6s\tremaining: 218ms\n",
      "880:\tlearn: 0.3792477\ttotal: 1.6s\tremaining: 216ms\n",
      "881:\tlearn: 0.3790654\ttotal: 1.6s\tremaining: 214ms\n",
      "882:\tlearn: 0.3788954\ttotal: 1.6s\tremaining: 212ms\n",
      "883:\tlearn: 0.3786721\ttotal: 1.6s\tremaining: 210ms\n",
      "884:\tlearn: 0.3786068\ttotal: 1.6s\tremaining: 208ms\n",
      "885:\tlearn: 0.3784558\ttotal: 1.6s\tremaining: 207ms\n",
      "886:\tlearn: 0.3783202\ttotal: 1.61s\tremaining: 205ms\n",
      "887:\tlearn: 0.3780509\ttotal: 1.61s\tremaining: 203ms\n",
      "888:\tlearn: 0.3778617\ttotal: 1.61s\tremaining: 201ms\n",
      "889:\tlearn: 0.3777987\ttotal: 1.61s\tremaining: 199ms\n",
      "890:\tlearn: 0.3777251\ttotal: 1.61s\tremaining: 197ms\n",
      "891:\tlearn: 0.3775229\ttotal: 1.62s\tremaining: 196ms\n",
      "892:\tlearn: 0.3773378\ttotal: 1.62s\tremaining: 194ms\n",
      "893:\tlearn: 0.3771707\ttotal: 1.62s\tremaining: 192ms\n",
      "894:\tlearn: 0.3769656\ttotal: 1.62s\tremaining: 190ms\n",
      "895:\tlearn: 0.3768129\ttotal: 1.62s\tremaining: 188ms\n",
      "896:\tlearn: 0.3765587\ttotal: 1.62s\tremaining: 186ms\n",
      "897:\tlearn: 0.3762770\ttotal: 1.63s\tremaining: 185ms\n",
      "898:\tlearn: 0.3760078\ttotal: 1.63s\tremaining: 183ms\n",
      "899:\tlearn: 0.3758962\ttotal: 1.63s\tremaining: 181ms\n",
      "900:\tlearn: 0.3756464\ttotal: 1.63s\tremaining: 179ms\n",
      "901:\tlearn: 0.3756354\ttotal: 1.63s\tremaining: 177ms\n",
      "902:\tlearn: 0.3754794\ttotal: 1.63s\tremaining: 175ms\n",
      "903:\tlearn: 0.3753259\ttotal: 1.63s\tremaining: 174ms\n",
      "904:\tlearn: 0.3753159\ttotal: 1.64s\tremaining: 172ms\n",
      "905:\tlearn: 0.3751416\ttotal: 1.64s\tremaining: 170ms\n",
      "906:\tlearn: 0.3749485\ttotal: 1.64s\tremaining: 168ms\n",
      "907:\tlearn: 0.3748357\ttotal: 1.64s\tremaining: 166ms\n",
      "908:\tlearn: 0.3747117\ttotal: 1.64s\tremaining: 164ms\n",
      "909:\tlearn: 0.3746131\ttotal: 1.64s\tremaining: 163ms\n",
      "910:\tlearn: 0.3744192\ttotal: 1.64s\tremaining: 161ms\n",
      "911:\tlearn: 0.3742765\ttotal: 1.65s\tremaining: 159ms\n",
      "912:\tlearn: 0.3740344\ttotal: 1.65s\tremaining: 157ms\n",
      "913:\tlearn: 0.3738175\ttotal: 1.65s\tremaining: 155ms\n",
      "914:\tlearn: 0.3738047\ttotal: 1.65s\tremaining: 153ms\n",
      "915:\tlearn: 0.3736044\ttotal: 1.65s\tremaining: 151ms\n",
      "916:\tlearn: 0.3733314\ttotal: 1.65s\tremaining: 150ms\n",
      "917:\tlearn: 0.3733008\ttotal: 1.65s\tremaining: 148ms\n",
      "918:\tlearn: 0.3731690\ttotal: 1.66s\tremaining: 146ms\n",
      "919:\tlearn: 0.3731534\ttotal: 1.66s\tremaining: 144ms\n",
      "920:\tlearn: 0.3731306\ttotal: 1.66s\tremaining: 142ms\n",
      "921:\tlearn: 0.3731014\ttotal: 1.66s\tremaining: 141ms\n",
      "922:\tlearn: 0.3727333\ttotal: 1.66s\tremaining: 139ms\n",
      "923:\tlearn: 0.3725689\ttotal: 1.66s\tremaining: 137ms\n",
      "924:\tlearn: 0.3724004\ttotal: 1.67s\tremaining: 135ms\n",
      "925:\tlearn: 0.3723873\ttotal: 1.67s\tremaining: 133ms\n",
      "926:\tlearn: 0.3721613\ttotal: 1.67s\tremaining: 131ms\n",
      "927:\tlearn: 0.3718667\ttotal: 1.67s\tremaining: 130ms\n",
      "928:\tlearn: 0.3718541\ttotal: 1.67s\tremaining: 128ms\n",
      "929:\tlearn: 0.3716494\ttotal: 1.67s\tremaining: 126ms\n",
      "930:\tlearn: 0.3713797\ttotal: 1.67s\tremaining: 124ms\n",
      "931:\tlearn: 0.3711074\ttotal: 1.68s\tremaining: 122ms\n",
      "932:\tlearn: 0.3708762\ttotal: 1.68s\tremaining: 120ms\n",
      "933:\tlearn: 0.3707657\ttotal: 1.68s\tremaining: 119ms\n",
      "934:\tlearn: 0.3707239\ttotal: 1.68s\tremaining: 117ms\n",
      "935:\tlearn: 0.3706046\ttotal: 1.68s\tremaining: 115ms\n",
      "936:\tlearn: 0.3703731\ttotal: 1.68s\tremaining: 113ms\n",
      "937:\tlearn: 0.3701112\ttotal: 1.68s\tremaining: 111ms\n",
      "938:\tlearn: 0.3698510\ttotal: 1.69s\tremaining: 110ms\n",
      "939:\tlearn: 0.3695825\ttotal: 1.69s\tremaining: 108ms\n",
      "940:\tlearn: 0.3693641\ttotal: 1.69s\tremaining: 106ms\n",
      "941:\tlearn: 0.3690509\ttotal: 1.69s\tremaining: 104ms\n",
      "942:\tlearn: 0.3687906\ttotal: 1.69s\tremaining: 102ms\n",
      "943:\tlearn: 0.3687840\ttotal: 1.69s\tremaining: 100ms\n",
      "944:\tlearn: 0.3687747\ttotal: 1.69s\tremaining: 98.6ms\n",
      "945:\tlearn: 0.3686008\ttotal: 1.7s\tremaining: 96.8ms\n",
      "946:\tlearn: 0.3685709\ttotal: 1.7s\tremaining: 95ms\n",
      "947:\tlearn: 0.3684151\ttotal: 1.7s\tremaining: 93.2ms\n",
      "948:\tlearn: 0.3682915\ttotal: 1.7s\tremaining: 91.4ms\n",
      "949:\tlearn: 0.3681144\ttotal: 1.7s\tremaining: 89.6ms\n",
      "950:\tlearn: 0.3678681\ttotal: 1.7s\tremaining: 87.8ms\n",
      "951:\tlearn: 0.3676218\ttotal: 1.71s\tremaining: 86ms\n",
      "952:\tlearn: 0.3673714\ttotal: 1.71s\tremaining: 84.2ms\n",
      "953:\tlearn: 0.3671646\ttotal: 1.71s\tremaining: 82.4ms\n",
      "954:\tlearn: 0.3669912\ttotal: 1.71s\tremaining: 80.6ms\n",
      "955:\tlearn: 0.3669273\ttotal: 1.71s\tremaining: 78.8ms\n",
      "956:\tlearn: 0.3666956\ttotal: 1.71s\tremaining: 77ms\n",
      "957:\tlearn: 0.3665402\ttotal: 1.71s\tremaining: 75.2ms\n",
      "958:\tlearn: 0.3665159\ttotal: 1.72s\tremaining: 73.4ms\n",
      "959:\tlearn: 0.3663430\ttotal: 1.72s\tremaining: 71.6ms\n",
      "960:\tlearn: 0.3662566\ttotal: 1.72s\tremaining: 69.8ms\n",
      "961:\tlearn: 0.3660832\ttotal: 1.72s\tremaining: 68ms\n",
      "962:\tlearn: 0.3660386\ttotal: 1.72s\tremaining: 66.2ms\n",
      "963:\tlearn: 0.3658111\ttotal: 1.72s\tremaining: 64.4ms\n",
      "964:\tlearn: 0.3656481\ttotal: 1.73s\tremaining: 62.6ms\n",
      "965:\tlearn: 0.3655684\ttotal: 1.73s\tremaining: 60.8ms\n",
      "966:\tlearn: 0.3652311\ttotal: 1.73s\tremaining: 59ms\n",
      "967:\tlearn: 0.3651283\ttotal: 1.73s\tremaining: 57.2ms\n",
      "968:\tlearn: 0.3649198\ttotal: 1.73s\tremaining: 55.4ms\n",
      "969:\tlearn: 0.3647881\ttotal: 1.73s\tremaining: 53.6ms\n",
      "970:\tlearn: 0.3645159\ttotal: 1.73s\tremaining: 51.8ms\n",
      "971:\tlearn: 0.3641836\ttotal: 1.74s\tremaining: 50ms\n",
      "972:\tlearn: 0.3639863\ttotal: 1.74s\tremaining: 48.2ms\n",
      "973:\tlearn: 0.3637365\ttotal: 1.74s\tremaining: 46.4ms\n",
      "974:\tlearn: 0.3635126\ttotal: 1.74s\tremaining: 44.6ms\n",
      "975:\tlearn: 0.3633597\ttotal: 1.74s\tremaining: 42.8ms\n",
      "976:\tlearn: 0.3631265\ttotal: 1.74s\tremaining: 41ms\n",
      "977:\tlearn: 0.3628733\ttotal: 1.75s\tremaining: 39.3ms\n",
      "978:\tlearn: 0.3628633\ttotal: 1.75s\tremaining: 37.5ms\n",
      "979:\tlearn: 0.3627248\ttotal: 1.75s\tremaining: 35.7ms\n",
      "980:\tlearn: 0.3626489\ttotal: 1.75s\tremaining: 33.9ms\n",
      "981:\tlearn: 0.3623235\ttotal: 1.75s\tremaining: 32.1ms\n",
      "982:\tlearn: 0.3621373\ttotal: 1.75s\tremaining: 30.3ms\n",
      "983:\tlearn: 0.3619845\ttotal: 1.75s\tremaining: 28.5ms\n",
      "984:\tlearn: 0.3619761\ttotal: 1.75s\tremaining: 26.7ms\n",
      "985:\tlearn: 0.3617319\ttotal: 1.76s\tremaining: 25ms\n",
      "986:\tlearn: 0.3615863\ttotal: 1.76s\tremaining: 23.2ms\n",
      "987:\tlearn: 0.3614176\ttotal: 1.76s\tremaining: 21.4ms\n",
      "988:\tlearn: 0.3612748\ttotal: 1.76s\tremaining: 19.6ms\n",
      "989:\tlearn: 0.3609607\ttotal: 1.76s\tremaining: 17.8ms\n",
      "990:\tlearn: 0.3608389\ttotal: 1.76s\tremaining: 16ms\n",
      "991:\tlearn: 0.3607937\ttotal: 1.77s\tremaining: 14.2ms\n",
      "992:\tlearn: 0.3606655\ttotal: 1.77s\tremaining: 12.5ms\n",
      "993:\tlearn: 0.3606371\ttotal: 1.77s\tremaining: 10.7ms\n",
      "994:\tlearn: 0.3604584\ttotal: 1.77s\tremaining: 8.9ms\n",
      "995:\tlearn: 0.3603549\ttotal: 1.77s\tremaining: 7.12ms\n",
      "996:\tlearn: 0.3601595\ttotal: 1.77s\tremaining: 5.34ms\n",
      "997:\tlearn: 0.3601502\ttotal: 1.77s\tremaining: 3.56ms\n",
      "998:\tlearn: 0.3599955\ttotal: 1.78s\tremaining: 1.78ms\n",
      "999:\tlearn: 0.3597591\ttotal: 1.78s\tremaining: 0us\n"
     ]
    }
   ],
   "source": [
    "cat_model = CatBoostClassifier().fit(X_train,y_train)"
   ]
  },
  {
   "cell_type": "code",
   "execution_count": 202,
   "metadata": {},
   "outputs": [
    {
     "data": {
      "text/plain": [
       "0.5526315789473685"
      ]
     },
     "execution_count": 202,
     "metadata": {},
     "output_type": "execute_result"
    }
   ],
   "source": [
    "y_pred = cat_model.predict(X_test)\n",
    "accuracy_score(y_test,y_pred)"
   ]
  },
  {
   "cell_type": "markdown",
   "metadata": {},
   "source": [
    "## Model Tuning"
   ]
  },
  {
   "cell_type": "code",
   "execution_count": 203,
   "metadata": {},
   "outputs": [],
   "source": [
    "catb_params = {\n",
    "    \"iterations\":[200,500],\n",
    "    \"learning_rate\":[0.01,0.05,0.1],\n",
    "    \"depth\":[3,5,8]\n",
    "}"
   ]
  },
  {
   "cell_type": "code",
   "execution_count": 204,
   "metadata": {
    "collapsed": true,
    "jupyter": {
     "outputs_hidden": true
    }
   },
   "outputs": [
    {
     "name": "stdout",
     "output_type": "stream",
     "text": [
      "Fitting 5 folds for each of 18 candidates, totalling 90 fits\n"
     ]
    },
    {
     "name": "stderr",
     "output_type": "stream",
     "text": [
      "[Parallel(n_jobs=-1)]: Using backend LokyBackend with 4 concurrent workers.\n",
      "[Parallel(n_jobs=-1)]: Done  33 tasks      | elapsed:   11.7s\n",
      "[Parallel(n_jobs=-1)]: Done  90 out of  90 | elapsed:  1.0min finished\n"
     ]
    },
    {
     "name": "stdout",
     "output_type": "stream",
     "text": [
      "0:\tlearn: 0.6926095\ttotal: 2.07ms\tremaining: 1.03s\n",
      "1:\tlearn: 0.6910499\ttotal: 4.11ms\tremaining: 1.02s\n",
      "2:\tlearn: 0.6890495\ttotal: 6.09ms\tremaining: 1.01s\n",
      "3:\tlearn: 0.6868838\ttotal: 8.29ms\tremaining: 1.03s\n",
      "4:\tlearn: 0.6847375\ttotal: 11.4ms\tremaining: 1.13s\n",
      "5:\tlearn: 0.6830936\ttotal: 13.3ms\tremaining: 1.1s\n",
      "6:\tlearn: 0.6814418\ttotal: 15.3ms\tremaining: 1.07s\n",
      "7:\tlearn: 0.6799852\ttotal: 17.5ms\tremaining: 1.08s\n",
      "8:\tlearn: 0.6784546\ttotal: 19.4ms\tremaining: 1.06s\n",
      "9:\tlearn: 0.6772159\ttotal: 21.4ms\tremaining: 1.05s\n",
      "10:\tlearn: 0.6758391\ttotal: 23.3ms\tremaining: 1.04s\n",
      "11:\tlearn: 0.6734456\ttotal: 25.4ms\tremaining: 1.03s\n",
      "12:\tlearn: 0.6718626\ttotal: 27.3ms\tremaining: 1.02s\n",
      "13:\tlearn: 0.6703995\ttotal: 29.3ms\tremaining: 1.02s\n",
      "14:\tlearn: 0.6684237\ttotal: 31.3ms\tremaining: 1.01s\n",
      "15:\tlearn: 0.6664584\ttotal: 33.3ms\tremaining: 1.01s\n",
      "16:\tlearn: 0.6652778\ttotal: 35.2ms\tremaining: 1s\n",
      "17:\tlearn: 0.6639824\ttotal: 37.1ms\tremaining: 993ms\n",
      "18:\tlearn: 0.6628263\ttotal: 39.4ms\tremaining: 998ms\n",
      "19:\tlearn: 0.6609841\ttotal: 41.3ms\tremaining: 992ms\n",
      "20:\tlearn: 0.6591502\ttotal: 43.4ms\tremaining: 991ms\n",
      "21:\tlearn: 0.6578456\ttotal: 45.4ms\tremaining: 987ms\n",
      "22:\tlearn: 0.6564908\ttotal: 47.4ms\tremaining: 983ms\n",
      "23:\tlearn: 0.6553019\ttotal: 49.4ms\tremaining: 979ms\n",
      "24:\tlearn: 0.6533310\ttotal: 51.3ms\tremaining: 975ms\n",
      "25:\tlearn: 0.6518909\ttotal: 53.3ms\tremaining: 972ms\n",
      "26:\tlearn: 0.6502374\ttotal: 55.3ms\tremaining: 969ms\n",
      "27:\tlearn: 0.6489723\ttotal: 57.4ms\tremaining: 968ms\n",
      "28:\tlearn: 0.6479712\ttotal: 59.4ms\tremaining: 965ms\n",
      "29:\tlearn: 0.6459626\ttotal: 61.5ms\tremaining: 963ms\n",
      "30:\tlearn: 0.6450602\ttotal: 63.4ms\tremaining: 960ms\n",
      "31:\tlearn: 0.6433333\ttotal: 65.4ms\tremaining: 957ms\n",
      "32:\tlearn: 0.6423704\ttotal: 67.4ms\tremaining: 953ms\n",
      "33:\tlearn: 0.6414592\ttotal: 69.3ms\tremaining: 950ms\n",
      "34:\tlearn: 0.6401214\ttotal: 71.3ms\tremaining: 947ms\n",
      "35:\tlearn: 0.6386368\ttotal: 73.2ms\tremaining: 944ms\n",
      "36:\tlearn: 0.6369772\ttotal: 75.5ms\tremaining: 945ms\n",
      "37:\tlearn: 0.6351545\ttotal: 77.5ms\tremaining: 942ms\n",
      "38:\tlearn: 0.6347139\ttotal: 79.4ms\tremaining: 938ms\n",
      "39:\tlearn: 0.6332840\ttotal: 81.3ms\tremaining: 935ms\n",
      "40:\tlearn: 0.6319820\ttotal: 83.2ms\tremaining: 931ms\n",
      "41:\tlearn: 0.6303966\ttotal: 85.1ms\tremaining: 929ms\n",
      "42:\tlearn: 0.6289498\ttotal: 87.1ms\tremaining: 926ms\n",
      "43:\tlearn: 0.6284598\ttotal: 89.1ms\tremaining: 923ms\n",
      "44:\tlearn: 0.6278060\ttotal: 91.1ms\tremaining: 921ms\n",
      "45:\tlearn: 0.6261736\ttotal: 93.2ms\tremaining: 920ms\n",
      "46:\tlearn: 0.6250619\ttotal: 95.1ms\tremaining: 917ms\n",
      "47:\tlearn: 0.6243107\ttotal: 96.9ms\tremaining: 913ms\n",
      "48:\tlearn: 0.6237246\ttotal: 98.8ms\tremaining: 910ms\n",
      "49:\tlearn: 0.6224593\ttotal: 101ms\tremaining: 906ms\n",
      "50:\tlearn: 0.6209015\ttotal: 103ms\tremaining: 904ms\n",
      "51:\tlearn: 0.6205943\ttotal: 105ms\tremaining: 901ms\n",
      "52:\tlearn: 0.6199136\ttotal: 107ms\tremaining: 899ms\n",
      "53:\tlearn: 0.6187031\ttotal: 109ms\tremaining: 896ms\n",
      "54:\tlearn: 0.6182896\ttotal: 112ms\tremaining: 907ms\n",
      "55:\tlearn: 0.6170935\ttotal: 114ms\tremaining: 904ms\n",
      "56:\tlearn: 0.6163367\ttotal: 116ms\tremaining: 901ms\n",
      "57:\tlearn: 0.6149425\ttotal: 118ms\tremaining: 898ms\n",
      "58:\tlearn: 0.6135772\ttotal: 120ms\tremaining: 894ms\n",
      "59:\tlearn: 0.6124538\ttotal: 122ms\tremaining: 891ms\n",
      "60:\tlearn: 0.6115410\ttotal: 123ms\tremaining: 888ms\n",
      "61:\tlearn: 0.6112851\ttotal: 125ms\tremaining: 886ms\n",
      "62:\tlearn: 0.6110726\ttotal: 127ms\tremaining: 884ms\n",
      "63:\tlearn: 0.6098399\ttotal: 130ms\tremaining: 884ms\n",
      "64:\tlearn: 0.6093360\ttotal: 132ms\tremaining: 881ms\n",
      "65:\tlearn: 0.6080737\ttotal: 134ms\tremaining: 883ms\n",
      "66:\tlearn: 0.6069984\ttotal: 136ms\tremaining: 880ms\n",
      "67:\tlearn: 0.6066343\ttotal: 138ms\tremaining: 876ms\n",
      "68:\tlearn: 0.6056244\ttotal: 140ms\tremaining: 873ms\n",
      "69:\tlearn: 0.6053562\ttotal: 141ms\tremaining: 869ms\n",
      "70:\tlearn: 0.6049009\ttotal: 143ms\tremaining: 866ms\n",
      "71:\tlearn: 0.6034376\ttotal: 145ms\tremaining: 864ms\n",
      "72:\tlearn: 0.6028216\ttotal: 147ms\tremaining: 861ms\n",
      "73:\tlearn: 0.6015241\ttotal: 149ms\tremaining: 858ms\n",
      "74:\tlearn: 0.6005945\ttotal: 151ms\tremaining: 855ms\n",
      "75:\tlearn: 0.5999563\ttotal: 153ms\tremaining: 853ms\n",
      "76:\tlearn: 0.5989008\ttotal: 155ms\tremaining: 850ms\n",
      "77:\tlearn: 0.5982580\ttotal: 157ms\tremaining: 848ms\n",
      "78:\tlearn: 0.5979482\ttotal: 159ms\tremaining: 845ms\n",
      "79:\tlearn: 0.5972521\ttotal: 160ms\tremaining: 842ms\n",
      "80:\tlearn: 0.5964328\ttotal: 162ms\tremaining: 839ms\n",
      "81:\tlearn: 0.5958732\ttotal: 164ms\tremaining: 837ms\n",
      "82:\tlearn: 0.5948445\ttotal: 166ms\tremaining: 834ms\n",
      "83:\tlearn: 0.5944441\ttotal: 168ms\tremaining: 832ms\n",
      "84:\tlearn: 0.5941320\ttotal: 170ms\tremaining: 829ms\n",
      "85:\tlearn: 0.5934646\ttotal: 172ms\tremaining: 826ms\n",
      "86:\tlearn: 0.5928147\ttotal: 174ms\tremaining: 824ms\n",
      "87:\tlearn: 0.5921659\ttotal: 175ms\tremaining: 821ms\n",
      "88:\tlearn: 0.5914204\ttotal: 177ms\tremaining: 818ms\n",
      "89:\tlearn: 0.5900642\ttotal: 179ms\tremaining: 816ms\n",
      "90:\tlearn: 0.5894785\ttotal: 181ms\tremaining: 813ms\n",
      "91:\tlearn: 0.5888293\ttotal: 183ms\tremaining: 810ms\n",
      "92:\tlearn: 0.5876527\ttotal: 184ms\tremaining: 807ms\n",
      "93:\tlearn: 0.5870249\ttotal: 186ms\tremaining: 804ms\n",
      "94:\tlearn: 0.5866270\ttotal: 188ms\tremaining: 801ms\n",
      "95:\tlearn: 0.5861009\ttotal: 190ms\tremaining: 798ms\n",
      "96:\tlearn: 0.5854747\ttotal: 191ms\tremaining: 795ms\n",
      "97:\tlearn: 0.5850274\ttotal: 193ms\tremaining: 793ms\n",
      "98:\tlearn: 0.5839364\ttotal: 195ms\tremaining: 790ms\n",
      "99:\tlearn: 0.5838885\ttotal: 197ms\tremaining: 789ms\n",
      "100:\tlearn: 0.5836260\ttotal: 199ms\tremaining: 787ms\n",
      "101:\tlearn: 0.5827836\ttotal: 201ms\tremaining: 785ms\n",
      "102:\tlearn: 0.5815773\ttotal: 203ms\tremaining: 784ms\n",
      "103:\tlearn: 0.5808425\ttotal: 205ms\tremaining: 781ms\n",
      "104:\tlearn: 0.5800440\ttotal: 208ms\tremaining: 783ms\n",
      "105:\tlearn: 0.5792172\ttotal: 210ms\tremaining: 780ms\n",
      "106:\tlearn: 0.5781836\ttotal: 212ms\tremaining: 778ms\n",
      "107:\tlearn: 0.5776989\ttotal: 214ms\tremaining: 776ms\n",
      "108:\tlearn: 0.5770437\ttotal: 216ms\tremaining: 774ms\n",
      "109:\tlearn: 0.5764074\ttotal: 218ms\tremaining: 773ms\n",
      "110:\tlearn: 0.5762124\ttotal: 220ms\tremaining: 770ms\n",
      "111:\tlearn: 0.5756969\ttotal: 222ms\tremaining: 768ms\n",
      "112:\tlearn: 0.5747174\ttotal: 223ms\tremaining: 765ms\n",
      "113:\tlearn: 0.5744084\ttotal: 225ms\tremaining: 763ms\n",
      "114:\tlearn: 0.5740391\ttotal: 227ms\tremaining: 761ms\n",
      "115:\tlearn: 0.5738119\ttotal: 229ms\tremaining: 759ms\n",
      "116:\tlearn: 0.5730716\ttotal: 231ms\tremaining: 756ms\n",
      "117:\tlearn: 0.5721386\ttotal: 233ms\tremaining: 754ms\n",
      "118:\tlearn: 0.5716410\ttotal: 235ms\tremaining: 752ms\n",
      "119:\tlearn: 0.5709782\ttotal: 237ms\tremaining: 750ms\n",
      "120:\tlearn: 0.5705984\ttotal: 239ms\tremaining: 747ms\n",
      "121:\tlearn: 0.5704280\ttotal: 240ms\tremaining: 745ms\n",
      "122:\tlearn: 0.5696692\ttotal: 242ms\tremaining: 743ms\n",
      "123:\tlearn: 0.5694076\ttotal: 244ms\tremaining: 740ms\n",
      "124:\tlearn: 0.5690177\ttotal: 246ms\tremaining: 738ms\n",
      "125:\tlearn: 0.5681741\ttotal: 248ms\tremaining: 735ms\n",
      "126:\tlearn: 0.5675717\ttotal: 250ms\tremaining: 733ms\n",
      "127:\tlearn: 0.5670234\ttotal: 252ms\tremaining: 732ms\n",
      "128:\tlearn: 0.5662956\ttotal: 254ms\tremaining: 729ms\n",
      "129:\tlearn: 0.5662035\ttotal: 255ms\tremaining: 727ms\n",
      "130:\tlearn: 0.5648348\ttotal: 257ms\tremaining: 725ms\n",
      "131:\tlearn: 0.5646756\ttotal: 259ms\tremaining: 722ms\n",
      "132:\tlearn: 0.5642465\ttotal: 261ms\tremaining: 720ms\n",
      "133:\tlearn: 0.5633204\ttotal: 263ms\tremaining: 718ms\n",
      "134:\tlearn: 0.5631337\ttotal: 265ms\tremaining: 716ms\n",
      "135:\tlearn: 0.5628894\ttotal: 267ms\tremaining: 716ms\n",
      "136:\tlearn: 0.5622888\ttotal: 269ms\tremaining: 714ms\n",
      "137:\tlearn: 0.5621277\ttotal: 272ms\tremaining: 712ms\n",
      "138:\tlearn: 0.5616740\ttotal: 274ms\tremaining: 710ms\n",
      "139:\tlearn: 0.5613788\ttotal: 275ms\tremaining: 708ms\n",
      "140:\tlearn: 0.5607520\ttotal: 277ms\tremaining: 706ms\n",
      "141:\tlearn: 0.5598057\ttotal: 279ms\tremaining: 704ms\n",
      "142:\tlearn: 0.5595408\ttotal: 281ms\tremaining: 702ms\n",
      "143:\tlearn: 0.5588552\ttotal: 283ms\tremaining: 700ms\n",
      "144:\tlearn: 0.5579316\ttotal: 300ms\tremaining: 735ms\n",
      "145:\tlearn: 0.5575187\ttotal: 303ms\tremaining: 736ms\n",
      "146:\tlearn: 0.5571476\ttotal: 307ms\tremaining: 737ms\n",
      "147:\tlearn: 0.5568556\ttotal: 309ms\tremaining: 735ms\n",
      "148:\tlearn: 0.5567754\ttotal: 311ms\tremaining: 733ms\n",
      "149:\tlearn: 0.5565048\ttotal: 314ms\tremaining: 732ms\n",
      "150:\tlearn: 0.5564281\ttotal: 316ms\tremaining: 730ms\n",
      "151:\tlearn: 0.5562623\ttotal: 318ms\tremaining: 728ms\n",
      "152:\tlearn: 0.5557639\ttotal: 320ms\tremaining: 725ms\n",
      "153:\tlearn: 0.5554530\ttotal: 322ms\tremaining: 723ms\n",
      "154:\tlearn: 0.5545135\ttotal: 323ms\tremaining: 720ms\n",
      "155:\tlearn: 0.5536788\ttotal: 325ms\tremaining: 717ms\n",
      "156:\tlearn: 0.5531736\ttotal: 327ms\tremaining: 715ms\n",
      "157:\tlearn: 0.5527506\ttotal: 329ms\tremaining: 712ms\n",
      "158:\tlearn: 0.5522083\ttotal: 331ms\tremaining: 709ms\n",
      "159:\tlearn: 0.5519512\ttotal: 333ms\tremaining: 707ms\n",
      "160:\tlearn: 0.5517962\ttotal: 334ms\tremaining: 704ms\n",
      "161:\tlearn: 0.5514947\ttotal: 336ms\tremaining: 702ms\n",
      "162:\tlearn: 0.5506784\ttotal: 338ms\tremaining: 699ms\n",
      "163:\tlearn: 0.5500147\ttotal: 340ms\tremaining: 697ms\n",
      "164:\tlearn: 0.5494106\ttotal: 342ms\tremaining: 694ms\n",
      "165:\tlearn: 0.5489516\ttotal: 344ms\tremaining: 692ms\n",
      "166:\tlearn: 0.5481552\ttotal: 346ms\tremaining: 689ms\n",
      "167:\tlearn: 0.5477174\ttotal: 348ms\tremaining: 688ms\n",
      "168:\tlearn: 0.5474275\ttotal: 350ms\tremaining: 686ms\n",
      "169:\tlearn: 0.5472069\ttotal: 352ms\tremaining: 684ms\n",
      "170:\tlearn: 0.5467406\ttotal: 355ms\tremaining: 683ms\n",
      "171:\tlearn: 0.5466834\ttotal: 357ms\tremaining: 680ms\n",
      "172:\tlearn: 0.5462667\ttotal: 359ms\tremaining: 678ms\n",
      "173:\tlearn: 0.5455048\ttotal: 361ms\tremaining: 676ms\n",
      "174:\tlearn: 0.5454174\ttotal: 362ms\tremaining: 673ms\n",
      "175:\tlearn: 0.5453106\ttotal: 364ms\tremaining: 671ms\n",
      "176:\tlearn: 0.5448581\ttotal: 366ms\tremaining: 669ms\n",
      "177:\tlearn: 0.5443172\ttotal: 368ms\tremaining: 666ms\n",
      "178:\tlearn: 0.5439316\ttotal: 371ms\tremaining: 665ms\n",
      "179:\tlearn: 0.5437529\ttotal: 373ms\tremaining: 663ms\n",
      "180:\tlearn: 0.5431770\ttotal: 375ms\tremaining: 661ms\n",
      "181:\tlearn: 0.5430140\ttotal: 377ms\tremaining: 659ms\n",
      "182:\tlearn: 0.5427213\ttotal: 379ms\tremaining: 657ms\n",
      "183:\tlearn: 0.5425363\ttotal: 381ms\tremaining: 655ms\n",
      "184:\tlearn: 0.5421181\ttotal: 383ms\tremaining: 653ms\n",
      "185:\tlearn: 0.5418411\ttotal: 385ms\tremaining: 651ms\n",
      "186:\tlearn: 0.5416220\ttotal: 387ms\tremaining: 648ms\n",
      "187:\tlearn: 0.5410008\ttotal: 389ms\tremaining: 646ms\n",
      "188:\tlearn: 0.5407867\ttotal: 391ms\tremaining: 643ms\n",
      "189:\tlearn: 0.5403605\ttotal: 393ms\tremaining: 641ms\n",
      "190:\tlearn: 0.5399674\ttotal: 395ms\tremaining: 639ms\n",
      "191:\tlearn: 0.5392401\ttotal: 397ms\tremaining: 636ms\n",
      "192:\tlearn: 0.5388932\ttotal: 399ms\tremaining: 634ms\n",
      "193:\tlearn: 0.5386375\ttotal: 401ms\tremaining: 632ms\n",
      "194:\tlearn: 0.5385404\ttotal: 402ms\tremaining: 629ms\n",
      "195:\tlearn: 0.5380188\ttotal: 404ms\tremaining: 627ms\n",
      "196:\tlearn: 0.5377665\ttotal: 408ms\tremaining: 627ms\n",
      "197:\tlearn: 0.5374153\ttotal: 410ms\tremaining: 625ms\n",
      "198:\tlearn: 0.5371343\ttotal: 412ms\tremaining: 622ms\n",
      "199:\tlearn: 0.5363405\ttotal: 413ms\tremaining: 620ms\n",
      "200:\tlearn: 0.5358291\ttotal: 415ms\tremaining: 618ms\n",
      "201:\tlearn: 0.5354562\ttotal: 417ms\tremaining: 616ms\n",
      "202:\tlearn: 0.5353359\ttotal: 419ms\tremaining: 613ms\n",
      "203:\tlearn: 0.5351343\ttotal: 421ms\tremaining: 611ms\n",
      "204:\tlearn: 0.5350134\ttotal: 423ms\tremaining: 609ms\n",
      "205:\tlearn: 0.5348249\ttotal: 425ms\tremaining: 606ms\n",
      "206:\tlearn: 0.5340510\ttotal: 426ms\tremaining: 604ms\n",
      "207:\tlearn: 0.5339289\ttotal: 428ms\tremaining: 601ms\n",
      "208:\tlearn: 0.5338822\ttotal: 430ms\tremaining: 599ms\n",
      "209:\tlearn: 0.5335570\ttotal: 432ms\tremaining: 597ms\n",
      "210:\tlearn: 0.5332738\ttotal: 434ms\tremaining: 594ms\n",
      "211:\tlearn: 0.5331381\ttotal: 436ms\tremaining: 592ms\n",
      "212:\tlearn: 0.5329758\ttotal: 438ms\tremaining: 590ms\n",
      "213:\tlearn: 0.5325660\ttotal: 440ms\tremaining: 588ms\n",
      "214:\tlearn: 0.5323449\ttotal: 442ms\tremaining: 585ms\n",
      "215:\tlearn: 0.5321683\ttotal: 444ms\tremaining: 583ms\n",
      "216:\tlearn: 0.5318518\ttotal: 446ms\tremaining: 581ms\n",
      "217:\tlearn: 0.5316496\ttotal: 447ms\tremaining: 579ms\n",
      "218:\tlearn: 0.5313515\ttotal: 449ms\tremaining: 577ms\n",
      "219:\tlearn: 0.5309660\ttotal: 451ms\tremaining: 574ms\n",
      "220:\tlearn: 0.5305780\ttotal: 453ms\tremaining: 572ms\n",
      "221:\tlearn: 0.5302685\ttotal: 455ms\tremaining: 570ms\n",
      "222:\tlearn: 0.5295913\ttotal: 457ms\tremaining: 568ms\n",
      "223:\tlearn: 0.5293706\ttotal: 459ms\tremaining: 566ms\n",
      "224:\tlearn: 0.5290366\ttotal: 461ms\tremaining: 563ms\n",
      "225:\tlearn: 0.5288255\ttotal: 463ms\tremaining: 561ms\n",
      "226:\tlearn: 0.5283412\ttotal: 465ms\tremaining: 559ms\n",
      "227:\tlearn: 0.5277675\ttotal: 466ms\tremaining: 556ms\n",
      "228:\tlearn: 0.5274928\ttotal: 468ms\tremaining: 554ms\n",
      "229:\tlearn: 0.5268389\ttotal: 470ms\tremaining: 552ms\n",
      "230:\tlearn: 0.5264332\ttotal: 472ms\tremaining: 550ms\n",
      "231:\tlearn: 0.5262702\ttotal: 474ms\tremaining: 548ms\n",
      "232:\tlearn: 0.5259481\ttotal: 477ms\tremaining: 546ms\n",
      "233:\tlearn: 0.5253083\ttotal: 480ms\tremaining: 546ms\n",
      "234:\tlearn: 0.5251747\ttotal: 482ms\tremaining: 544ms\n",
      "235:\tlearn: 0.5245561\ttotal: 510ms\tremaining: 570ms\n",
      "236:\tlearn: 0.5244067\ttotal: 513ms\tremaining: 569ms\n",
      "237:\tlearn: 0.5242055\ttotal: 516ms\tremaining: 568ms\n",
      "238:\tlearn: 0.5238027\ttotal: 520ms\tremaining: 568ms\n",
      "239:\tlearn: 0.5236086\ttotal: 523ms\tremaining: 566ms\n",
      "240:\tlearn: 0.5229921\ttotal: 525ms\tremaining: 564ms\n",
      "241:\tlearn: 0.5228653\ttotal: 527ms\tremaining: 561ms\n",
      "242:\tlearn: 0.5227071\ttotal: 528ms\tremaining: 559ms\n",
      "243:\tlearn: 0.5223519\ttotal: 530ms\tremaining: 556ms\n",
      "244:\tlearn: 0.5221359\ttotal: 532ms\tremaining: 554ms\n",
      "245:\tlearn: 0.5216360\ttotal: 534ms\tremaining: 552ms\n",
      "246:\tlearn: 0.5213162\ttotal: 536ms\tremaining: 549ms\n",
      "247:\tlearn: 0.5211985\ttotal: 538ms\tremaining: 547ms\n",
      "248:\tlearn: 0.5207722\ttotal: 540ms\tremaining: 544ms\n",
      "249:\tlearn: 0.5207217\ttotal: 542ms\tremaining: 542ms\n",
      "250:\tlearn: 0.5205697\ttotal: 544ms\tremaining: 539ms\n",
      "251:\tlearn: 0.5203651\ttotal: 546ms\tremaining: 538ms\n",
      "252:\tlearn: 0.5201191\ttotal: 548ms\tremaining: 535ms\n",
      "253:\tlearn: 0.5198516\ttotal: 550ms\tremaining: 533ms\n",
      "254:\tlearn: 0.5194211\ttotal: 552ms\tremaining: 531ms\n",
      "255:\tlearn: 0.5187277\ttotal: 554ms\tremaining: 528ms\n",
      "256:\tlearn: 0.5183512\ttotal: 556ms\tremaining: 526ms\n",
      "257:\tlearn: 0.5180481\ttotal: 558ms\tremaining: 523ms\n",
      "258:\tlearn: 0.5178774\ttotal: 560ms\tremaining: 521ms\n",
      "259:\tlearn: 0.5172127\ttotal: 562ms\tremaining: 518ms\n",
      "260:\tlearn: 0.5170391\ttotal: 563ms\tremaining: 516ms\n",
      "261:\tlearn: 0.5166139\ttotal: 565ms\tremaining: 513ms\n",
      "262:\tlearn: 0.5165773\ttotal: 567ms\tremaining: 511ms\n",
      "263:\tlearn: 0.5164969\ttotal: 569ms\tremaining: 509ms\n",
      "264:\tlearn: 0.5162357\ttotal: 571ms\tremaining: 506ms\n",
      "265:\tlearn: 0.5160021\ttotal: 573ms\tremaining: 504ms\n",
      "266:\tlearn: 0.5159312\ttotal: 575ms\tremaining: 501ms\n",
      "267:\tlearn: 0.5153266\ttotal: 576ms\tremaining: 499ms\n",
      "268:\tlearn: 0.5150561\ttotal: 578ms\tremaining: 497ms\n",
      "269:\tlearn: 0.5147375\ttotal: 580ms\tremaining: 494ms\n",
      "270:\tlearn: 0.5144401\ttotal: 582ms\tremaining: 492ms\n",
      "271:\tlearn: 0.5140688\ttotal: 584ms\tremaining: 490ms\n",
      "272:\tlearn: 0.5139020\ttotal: 586ms\tremaining: 487ms\n",
      "273:\tlearn: 0.5138458\ttotal: 587ms\tremaining: 485ms\n",
      "274:\tlearn: 0.5135084\ttotal: 589ms\tremaining: 482ms\n",
      "275:\tlearn: 0.5134593\ttotal: 591ms\tremaining: 480ms\n",
      "276:\tlearn: 0.5124682\ttotal: 593ms\tremaining: 478ms\n",
      "277:\tlearn: 0.5123081\ttotal: 595ms\tremaining: 475ms\n",
      "278:\tlearn: 0.5120794\ttotal: 597ms\tremaining: 473ms\n",
      "279:\tlearn: 0.5115678\ttotal: 599ms\tremaining: 471ms\n",
      "280:\tlearn: 0.5113227\ttotal: 601ms\tremaining: 468ms\n",
      "281:\tlearn: 0.5109078\ttotal: 603ms\tremaining: 466ms\n",
      "282:\tlearn: 0.5099319\ttotal: 605ms\tremaining: 464ms\n",
      "283:\tlearn: 0.5095123\ttotal: 606ms\tremaining: 461ms\n",
      "284:\tlearn: 0.5092967\ttotal: 609ms\tremaining: 459ms\n",
      "285:\tlearn: 0.5091021\ttotal: 610ms\tremaining: 457ms\n",
      "286:\tlearn: 0.5086138\ttotal: 612ms\tremaining: 454ms\n",
      "287:\tlearn: 0.5082184\ttotal: 614ms\tremaining: 452ms\n",
      "288:\tlearn: 0.5080546\ttotal: 616ms\tremaining: 450ms\n",
      "289:\tlearn: 0.5078924\ttotal: 619ms\tremaining: 448ms\n",
      "290:\tlearn: 0.5076797\ttotal: 621ms\tremaining: 446ms\n",
      "291:\tlearn: 0.5071119\ttotal: 623ms\tremaining: 444ms\n",
      "292:\tlearn: 0.5067808\ttotal: 626ms\tremaining: 442ms\n",
      "293:\tlearn: 0.5067213\ttotal: 628ms\tremaining: 440ms\n",
      "294:\tlearn: 0.5066735\ttotal: 630ms\tremaining: 438ms\n",
      "295:\tlearn: 0.5062789\ttotal: 632ms\tremaining: 436ms\n",
      "296:\tlearn: 0.5058082\ttotal: 634ms\tremaining: 433ms\n",
      "297:\tlearn: 0.5052698\ttotal: 636ms\tremaining: 431ms\n",
      "298:\tlearn: 0.5046067\ttotal: 638ms\tremaining: 429ms\n",
      "299:\tlearn: 0.5040387\ttotal: 641ms\tremaining: 427ms\n",
      "300:\tlearn: 0.5037958\ttotal: 643ms\tremaining: 425ms\n",
      "301:\tlearn: 0.5036133\ttotal: 645ms\tremaining: 423ms\n",
      "302:\tlearn: 0.5034308\ttotal: 647ms\tremaining: 421ms\n",
      "303:\tlearn: 0.5030531\ttotal: 649ms\tremaining: 418ms\n",
      "304:\tlearn: 0.5026021\ttotal: 651ms\tremaining: 416ms\n",
      "305:\tlearn: 0.5020777\ttotal: 653ms\tremaining: 414ms\n",
      "306:\tlearn: 0.5011791\ttotal: 655ms\tremaining: 412ms\n",
      "307:\tlearn: 0.5005652\ttotal: 657ms\tremaining: 409ms\n",
      "308:\tlearn: 0.5004988\ttotal: 658ms\tremaining: 407ms\n",
      "309:\tlearn: 0.5002681\ttotal: 660ms\tremaining: 405ms\n",
      "310:\tlearn: 0.5000234\ttotal: 662ms\tremaining: 402ms\n",
      "311:\tlearn: 0.4997041\ttotal: 664ms\tremaining: 400ms\n",
      "312:\tlearn: 0.4994681\ttotal: 666ms\tremaining: 398ms\n",
      "313:\tlearn: 0.4991175\ttotal: 668ms\tremaining: 396ms\n",
      "314:\tlearn: 0.4988074\ttotal: 670ms\tremaining: 393ms\n",
      "315:\tlearn: 0.4986467\ttotal: 672ms\tremaining: 391ms\n",
      "316:\tlearn: 0.4981798\ttotal: 674ms\tremaining: 389ms\n",
      "317:\tlearn: 0.4977079\ttotal: 676ms\tremaining: 387ms\n",
      "318:\tlearn: 0.4976261\ttotal: 678ms\tremaining: 385ms\n",
      "319:\tlearn: 0.4973633\ttotal: 681ms\tremaining: 383ms\n",
      "320:\tlearn: 0.4969881\ttotal: 683ms\tremaining: 381ms\n",
      "321:\tlearn: 0.4964475\ttotal: 684ms\tremaining: 378ms\n",
      "322:\tlearn: 0.4957912\ttotal: 686ms\tremaining: 376ms\n",
      "323:\tlearn: 0.4957486\ttotal: 688ms\tremaining: 374ms\n",
      "324:\tlearn: 0.4955709\ttotal: 690ms\tremaining: 372ms\n",
      "325:\tlearn: 0.4955394\ttotal: 692ms\tremaining: 369ms\n",
      "326:\tlearn: 0.4954074\ttotal: 694ms\tremaining: 367ms\n",
      "327:\tlearn: 0.4951662\ttotal: 697ms\tremaining: 365ms\n",
      "328:\tlearn: 0.4949583\ttotal: 699ms\tremaining: 364ms\n",
      "329:\tlearn: 0.4947496\ttotal: 704ms\tremaining: 363ms\n",
      "330:\tlearn: 0.4945742\ttotal: 713ms\tremaining: 364ms\n",
      "331:\tlearn: 0.4941664\ttotal: 715ms\tremaining: 362ms\n",
      "332:\tlearn: 0.4937194\ttotal: 717ms\tremaining: 360ms\n",
      "333:\tlearn: 0.4937109\ttotal: 719ms\tremaining: 357ms\n",
      "334:\tlearn: 0.4934388\ttotal: 721ms\tremaining: 355ms\n",
      "335:\tlearn: 0.4933743\ttotal: 723ms\tremaining: 353ms\n",
      "336:\tlearn: 0.4932924\ttotal: 725ms\tremaining: 351ms\n",
      "337:\tlearn: 0.4931798\ttotal: 729ms\tremaining: 349ms\n",
      "338:\tlearn: 0.4929451\ttotal: 731ms\tremaining: 347ms\n",
      "339:\tlearn: 0.4927252\ttotal: 734ms\tremaining: 345ms\n",
      "340:\tlearn: 0.4924203\ttotal: 737ms\tremaining: 344ms\n",
      "341:\tlearn: 0.4923203\ttotal: 740ms\tremaining: 342ms\n",
      "342:\tlearn: 0.4921929\ttotal: 742ms\tremaining: 340ms\n",
      "343:\tlearn: 0.4912714\ttotal: 744ms\tremaining: 338ms\n",
      "344:\tlearn: 0.4909422\ttotal: 747ms\tremaining: 335ms\n",
      "345:\tlearn: 0.4906945\ttotal: 748ms\tremaining: 333ms\n",
      "346:\tlearn: 0.4905970\ttotal: 750ms\tremaining: 331ms\n",
      "347:\tlearn: 0.4901070\ttotal: 752ms\tremaining: 329ms\n",
      "348:\tlearn: 0.4896782\ttotal: 754ms\tremaining: 326ms\n",
      "349:\tlearn: 0.4894362\ttotal: 756ms\tremaining: 324ms\n",
      "350:\tlearn: 0.4891883\ttotal: 758ms\tremaining: 322ms\n",
      "351:\tlearn: 0.4890743\ttotal: 760ms\tremaining: 319ms\n",
      "352:\tlearn: 0.4887158\ttotal: 761ms\tremaining: 317ms\n",
      "353:\tlearn: 0.4884991\ttotal: 763ms\tremaining: 315ms\n",
      "354:\tlearn: 0.4879248\ttotal: 766ms\tremaining: 313ms\n",
      "355:\tlearn: 0.4876812\ttotal: 768ms\tremaining: 311ms\n",
      "356:\tlearn: 0.4873292\ttotal: 770ms\tremaining: 308ms\n",
      "357:\tlearn: 0.4872777\ttotal: 772ms\tremaining: 306ms\n",
      "358:\tlearn: 0.4864675\ttotal: 774ms\tremaining: 304ms\n",
      "359:\tlearn: 0.4863702\ttotal: 776ms\tremaining: 302ms\n",
      "360:\tlearn: 0.4859293\ttotal: 778ms\tremaining: 299ms\n",
      "361:\tlearn: 0.4853741\ttotal: 779ms\tremaining: 297ms\n",
      "362:\tlearn: 0.4847723\ttotal: 781ms\tremaining: 295ms\n",
      "363:\tlearn: 0.4844779\ttotal: 783ms\tremaining: 293ms\n",
      "364:\tlearn: 0.4843542\ttotal: 785ms\tremaining: 290ms\n",
      "365:\tlearn: 0.4842008\ttotal: 787ms\tremaining: 288ms\n",
      "366:\tlearn: 0.4839014\ttotal: 788ms\tremaining: 286ms\n",
      "367:\tlearn: 0.4837000\ttotal: 791ms\tremaining: 284ms\n",
      "368:\tlearn: 0.4835087\ttotal: 793ms\tremaining: 281ms\n",
      "369:\tlearn: 0.4832268\ttotal: 794ms\tremaining: 279ms\n",
      "370:\tlearn: 0.4830648\ttotal: 796ms\tremaining: 277ms\n",
      "371:\tlearn: 0.4828324\ttotal: 798ms\tremaining: 275ms\n",
      "372:\tlearn: 0.4827379\ttotal: 801ms\tremaining: 273ms\n",
      "373:\tlearn: 0.4824619\ttotal: 803ms\tremaining: 270ms\n",
      "374:\tlearn: 0.4821813\ttotal: 805ms\tremaining: 268ms\n",
      "375:\tlearn: 0.4821255\ttotal: 806ms\tremaining: 266ms\n",
      "376:\tlearn: 0.4818959\ttotal: 809ms\tremaining: 264ms\n",
      "377:\tlearn: 0.4816305\ttotal: 811ms\tremaining: 262ms\n",
      "378:\tlearn: 0.4814212\ttotal: 813ms\tremaining: 260ms\n",
      "379:\tlearn: 0.4812527\ttotal: 815ms\tremaining: 257ms\n",
      "380:\tlearn: 0.4811476\ttotal: 821ms\tremaining: 257ms\n",
      "381:\tlearn: 0.4808611\ttotal: 827ms\tremaining: 256ms\n",
      "382:\tlearn: 0.4806659\ttotal: 829ms\tremaining: 253ms\n",
      "383:\tlearn: 0.4805642\ttotal: 831ms\tremaining: 251ms\n",
      "384:\tlearn: 0.4803397\ttotal: 833ms\tremaining: 249ms\n",
      "385:\tlearn: 0.4800561\ttotal: 835ms\tremaining: 247ms\n",
      "386:\tlearn: 0.4798483\ttotal: 837ms\tremaining: 244ms\n",
      "387:\tlearn: 0.4792608\ttotal: 839ms\tremaining: 242ms\n",
      "388:\tlearn: 0.4792234\ttotal: 841ms\tremaining: 240ms\n",
      "389:\tlearn: 0.4790242\ttotal: 843ms\tremaining: 238ms\n",
      "390:\tlearn: 0.4789262\ttotal: 845ms\tremaining: 236ms\n",
      "391:\tlearn: 0.4786168\ttotal: 847ms\tremaining: 233ms\n",
      "392:\tlearn: 0.4784791\ttotal: 849ms\tremaining: 231ms\n",
      "393:\tlearn: 0.4783713\ttotal: 851ms\tremaining: 229ms\n",
      "394:\tlearn: 0.4780942\ttotal: 853ms\tremaining: 227ms\n",
      "395:\tlearn: 0.4777486\ttotal: 855ms\tremaining: 225ms\n",
      "396:\tlearn: 0.4776025\ttotal: 857ms\tremaining: 222ms\n",
      "397:\tlearn: 0.4773770\ttotal: 859ms\tremaining: 220ms\n",
      "398:\tlearn: 0.4770587\ttotal: 861ms\tremaining: 218ms\n",
      "399:\tlearn: 0.4769635\ttotal: 863ms\tremaining: 216ms\n",
      "400:\tlearn: 0.4766340\ttotal: 865ms\tremaining: 214ms\n",
      "401:\tlearn: 0.4761427\ttotal: 867ms\tremaining: 211ms\n",
      "402:\tlearn: 0.4758839\ttotal: 869ms\tremaining: 209ms\n",
      "403:\tlearn: 0.4757225\ttotal: 871ms\tremaining: 207ms\n",
      "404:\tlearn: 0.4756753\ttotal: 873ms\tremaining: 205ms\n",
      "405:\tlearn: 0.4754589\ttotal: 875ms\tremaining: 203ms\n",
      "406:\tlearn: 0.4752683\ttotal: 877ms\tremaining: 200ms\n",
      "407:\tlearn: 0.4751863\ttotal: 879ms\tremaining: 198ms\n",
      "408:\tlearn: 0.4748059\ttotal: 881ms\tremaining: 196ms\n",
      "409:\tlearn: 0.4746667\ttotal: 882ms\tremaining: 194ms\n",
      "410:\tlearn: 0.4743366\ttotal: 885ms\tremaining: 192ms\n",
      "411:\tlearn: 0.4740306\ttotal: 886ms\tremaining: 189ms\n",
      "412:\tlearn: 0.4739893\ttotal: 888ms\tremaining: 187ms\n",
      "413:\tlearn: 0.4734731\ttotal: 890ms\tremaining: 185ms\n",
      "414:\tlearn: 0.4730523\ttotal: 892ms\tremaining: 183ms\n",
      "415:\tlearn: 0.4728688\ttotal: 894ms\tremaining: 180ms\n",
      "416:\tlearn: 0.4725167\ttotal: 896ms\tremaining: 178ms\n",
      "417:\tlearn: 0.4724576\ttotal: 898ms\tremaining: 176ms\n",
      "418:\tlearn: 0.4723373\ttotal: 899ms\tremaining: 174ms\n",
      "419:\tlearn: 0.4719433\ttotal: 901ms\tremaining: 172ms\n",
      "420:\tlearn: 0.4718645\ttotal: 903ms\tremaining: 169ms\n",
      "421:\tlearn: 0.4713599\ttotal: 905ms\tremaining: 167ms\n",
      "422:\tlearn: 0.4711536\ttotal: 907ms\tremaining: 165ms\n",
      "423:\tlearn: 0.4708298\ttotal: 909ms\tremaining: 163ms\n",
      "424:\tlearn: 0.4703320\ttotal: 911ms\tremaining: 161ms\n",
      "425:\tlearn: 0.4703127\ttotal: 913ms\tremaining: 159ms\n",
      "426:\tlearn: 0.4701839\ttotal: 915ms\tremaining: 156ms\n",
      "427:\tlearn: 0.4697945\ttotal: 917ms\tremaining: 154ms\n",
      "428:\tlearn: 0.4696616\ttotal: 918ms\tremaining: 152ms\n",
      "429:\tlearn: 0.4694701\ttotal: 920ms\tremaining: 150ms\n",
      "430:\tlearn: 0.4691442\ttotal: 922ms\tremaining: 148ms\n",
      "431:\tlearn: 0.4686581\ttotal: 924ms\tremaining: 145ms\n",
      "432:\tlearn: 0.4684980\ttotal: 926ms\tremaining: 143ms\n",
      "433:\tlearn: 0.4681638\ttotal: 928ms\tremaining: 141ms\n",
      "434:\tlearn: 0.4679464\ttotal: 930ms\tremaining: 139ms\n",
      "435:\tlearn: 0.4676344\ttotal: 932ms\tremaining: 137ms\n",
      "436:\tlearn: 0.4675444\ttotal: 934ms\tremaining: 135ms\n",
      "437:\tlearn: 0.4674865\ttotal: 936ms\tremaining: 132ms\n",
      "438:\tlearn: 0.4667963\ttotal: 938ms\tremaining: 130ms\n",
      "439:\tlearn: 0.4666965\ttotal: 939ms\tremaining: 128ms\n",
      "440:\tlearn: 0.4666248\ttotal: 941ms\tremaining: 126ms\n",
      "441:\tlearn: 0.4665605\ttotal: 943ms\tremaining: 124ms\n",
      "442:\tlearn: 0.4663909\ttotal: 945ms\tremaining: 122ms\n",
      "443:\tlearn: 0.4660630\ttotal: 947ms\tremaining: 119ms\n",
      "444:\tlearn: 0.4659402\ttotal: 949ms\tremaining: 117ms\n",
      "445:\tlearn: 0.4656645\ttotal: 951ms\tremaining: 115ms\n",
      "446:\tlearn: 0.4653662\ttotal: 954ms\tremaining: 113ms\n",
      "447:\tlearn: 0.4649734\ttotal: 956ms\tremaining: 111ms\n",
      "448:\tlearn: 0.4647798\ttotal: 958ms\tremaining: 109ms\n",
      "449:\tlearn: 0.4646843\ttotal: 960ms\tremaining: 107ms\n",
      "450:\tlearn: 0.4642943\ttotal: 962ms\tremaining: 104ms\n",
      "451:\tlearn: 0.4642313\ttotal: 964ms\tremaining: 102ms\n",
      "452:\tlearn: 0.4641188\ttotal: 966ms\tremaining: 100ms\n",
      "453:\tlearn: 0.4636905\ttotal: 968ms\tremaining: 98.1ms\n",
      "454:\tlearn: 0.4636079\ttotal: 970ms\tremaining: 95.9ms\n",
      "455:\tlearn: 0.4635163\ttotal: 972ms\tremaining: 93.8ms\n",
      "456:\tlearn: 0.4632557\ttotal: 974ms\tremaining: 91.6ms\n",
      "457:\tlearn: 0.4628367\ttotal: 976ms\tremaining: 89.5ms\n",
      "458:\tlearn: 0.4622514\ttotal: 978ms\tremaining: 87.4ms\n",
      "459:\tlearn: 0.4620889\ttotal: 980ms\tremaining: 85.2ms\n",
      "460:\tlearn: 0.4615993\ttotal: 983ms\tremaining: 83.1ms\n",
      "461:\tlearn: 0.4613084\ttotal: 985ms\tremaining: 81ms\n",
      "462:\tlearn: 0.4608066\ttotal: 987ms\tremaining: 78.9ms\n",
      "463:\tlearn: 0.4607783\ttotal: 989ms\tremaining: 76.7ms\n",
      "464:\tlearn: 0.4604563\ttotal: 991ms\tremaining: 74.6ms\n",
      "465:\tlearn: 0.4603647\ttotal: 993ms\tremaining: 72.5ms\n",
      "466:\tlearn: 0.4603229\ttotal: 995ms\tremaining: 70.3ms\n",
      "467:\tlearn: 0.4601431\ttotal: 997ms\tremaining: 68.2ms\n",
      "468:\tlearn: 0.4598801\ttotal: 1s\tremaining: 66.1ms\n",
      "469:\tlearn: 0.4598188\ttotal: 1s\tremaining: 64ms\n",
      "470:\tlearn: 0.4595637\ttotal: 1s\tremaining: 61.8ms\n",
      "471:\tlearn: 0.4591842\ttotal: 1.01s\tremaining: 59.7ms\n",
      "472:\tlearn: 0.4587731\ttotal: 1.01s\tremaining: 57.5ms\n",
      "473:\tlearn: 0.4583674\ttotal: 1.01s\tremaining: 55.4ms\n",
      "474:\tlearn: 0.4580272\ttotal: 1.01s\tremaining: 53.3ms\n",
      "475:\tlearn: 0.4575834\ttotal: 1.01s\tremaining: 51.1ms\n",
      "476:\tlearn: 0.4569539\ttotal: 1.01s\tremaining: 49ms\n",
      "477:\tlearn: 0.4567251\ttotal: 1.02s\tremaining: 46.8ms\n",
      "478:\tlearn: 0.4563582\ttotal: 1.02s\tremaining: 44.7ms\n",
      "479:\tlearn: 0.4561509\ttotal: 1.02s\tremaining: 42.6ms\n",
      "480:\tlearn: 0.4556452\ttotal: 1.02s\tremaining: 40.4ms\n",
      "481:\tlearn: 0.4552197\ttotal: 1.03s\tremaining: 38.3ms\n",
      "482:\tlearn: 0.4548728\ttotal: 1.03s\tremaining: 36.2ms\n",
      "483:\tlearn: 0.4547111\ttotal: 1.03s\tremaining: 34ms\n",
      "484:\tlearn: 0.4546160\ttotal: 1.03s\tremaining: 31.9ms\n",
      "485:\tlearn: 0.4544111\ttotal: 1.03s\tremaining: 29.8ms\n",
      "486:\tlearn: 0.4538043\ttotal: 1.03s\tremaining: 27.6ms\n",
      "487:\tlearn: 0.4531961\ttotal: 1.04s\tremaining: 25.5ms\n",
      "488:\tlearn: 0.4528388\ttotal: 1.04s\tremaining: 23.4ms\n",
      "489:\tlearn: 0.4523248\ttotal: 1.04s\tremaining: 21.2ms\n",
      "490:\tlearn: 0.4519891\ttotal: 1.04s\tremaining: 19.1ms\n",
      "491:\tlearn: 0.4515051\ttotal: 1.04s\tremaining: 17ms\n",
      "492:\tlearn: 0.4514384\ttotal: 1.05s\tremaining: 14.9ms\n",
      "493:\tlearn: 0.4512417\ttotal: 1.05s\tremaining: 12.7ms\n",
      "494:\tlearn: 0.4508253\ttotal: 1.05s\tremaining: 10.6ms\n",
      "495:\tlearn: 0.4506408\ttotal: 1.05s\tremaining: 8.49ms\n",
      "496:\tlearn: 0.4504366\ttotal: 1.05s\tremaining: 6.37ms\n",
      "497:\tlearn: 0.4501450\ttotal: 1.06s\tremaining: 4.24ms\n",
      "498:\tlearn: 0.4495574\ttotal: 1.06s\tremaining: 2.12ms\n",
      "499:\tlearn: 0.4493878\ttotal: 1.06s\tremaining: 0us\n"
     ]
    },
    {
     "data": {
      "text/plain": [
       "{'depth': 3, 'iterations': 500, 'learning_rate': 0.01}"
      ]
     },
     "execution_count": 204,
     "metadata": {},
     "output_type": "execute_result"
    }
   ],
   "source": [
    "catb = CatBoostClassifier()\n",
    "catb_cv_model = GridSearchCV(catb,catb_params,cv=5,n_jobs=-1,verbose=2)\n",
    "catb_cv_model.fit(X_train,y_train)\n",
    "catb_cv_model.best_params_"
   ]
  },
  {
   "cell_type": "code",
   "execution_count": 205,
   "metadata": {
    "collapsed": true,
    "jupyter": {
     "outputs_hidden": true
    }
   },
   "outputs": [
    {
     "name": "stdout",
     "output_type": "stream",
     "text": [
      "0:\tlearn: 0.6926095\ttotal: 1.93ms\tremaining: 961ms\n",
      "1:\tlearn: 0.6910499\ttotal: 3.93ms\tremaining: 978ms\n",
      "2:\tlearn: 0.6890495\ttotal: 5.69ms\tremaining: 943ms\n",
      "3:\tlearn: 0.6868838\ttotal: 7.57ms\tremaining: 939ms\n",
      "4:\tlearn: 0.6847375\ttotal: 9.45ms\tremaining: 936ms\n",
      "5:\tlearn: 0.6830936\ttotal: 11.4ms\tremaining: 936ms\n",
      "6:\tlearn: 0.6814418\ttotal: 13.3ms\tremaining: 938ms\n",
      "7:\tlearn: 0.6799852\ttotal: 15.2ms\tremaining: 933ms\n",
      "8:\tlearn: 0.6784546\ttotal: 17ms\tremaining: 926ms\n",
      "9:\tlearn: 0.6772159\ttotal: 18.8ms\tremaining: 922ms\n",
      "10:\tlearn: 0.6758391\ttotal: 20.8ms\tremaining: 924ms\n",
      "11:\tlearn: 0.6734456\ttotal: 22.8ms\tremaining: 926ms\n",
      "12:\tlearn: 0.6718626\ttotal: 24.8ms\tremaining: 929ms\n",
      "13:\tlearn: 0.6703995\ttotal: 26.9ms\tremaining: 933ms\n",
      "14:\tlearn: 0.6684237\ttotal: 28.8ms\tremaining: 931ms\n",
      "15:\tlearn: 0.6664584\ttotal: 30.7ms\tremaining: 928ms\n",
      "16:\tlearn: 0.6652778\ttotal: 32.6ms\tremaining: 926ms\n",
      "17:\tlearn: 0.6639824\ttotal: 34.5ms\tremaining: 925ms\n",
      "18:\tlearn: 0.6628263\ttotal: 36.7ms\tremaining: 928ms\n",
      "19:\tlearn: 0.6609841\ttotal: 38.5ms\tremaining: 924ms\n",
      "20:\tlearn: 0.6591502\ttotal: 40.4ms\tremaining: 923ms\n",
      "21:\tlearn: 0.6578456\ttotal: 42.3ms\tremaining: 919ms\n",
      "22:\tlearn: 0.6564908\ttotal: 44.1ms\tremaining: 916ms\n",
      "23:\tlearn: 0.6553019\ttotal: 46ms\tremaining: 912ms\n",
      "24:\tlearn: 0.6533310\ttotal: 49.2ms\tremaining: 935ms\n",
      "25:\tlearn: 0.6518909\ttotal: 52.3ms\tremaining: 953ms\n",
      "26:\tlearn: 0.6502374\ttotal: 54.2ms\tremaining: 949ms\n",
      "27:\tlearn: 0.6489723\ttotal: 56ms\tremaining: 943ms\n",
      "28:\tlearn: 0.6479712\ttotal: 57.8ms\tremaining: 939ms\n",
      "29:\tlearn: 0.6459626\ttotal: 59.7ms\tremaining: 935ms\n",
      "30:\tlearn: 0.6450602\ttotal: 61.6ms\tremaining: 932ms\n",
      "31:\tlearn: 0.6433333\ttotal: 63.7ms\tremaining: 931ms\n",
      "32:\tlearn: 0.6423704\ttotal: 65.6ms\tremaining: 928ms\n",
      "33:\tlearn: 0.6414592\ttotal: 67.3ms\tremaining: 923ms\n",
      "34:\tlearn: 0.6401214\ttotal: 69.3ms\tremaining: 921ms\n",
      "35:\tlearn: 0.6386368\ttotal: 71.3ms\tremaining: 919ms\n",
      "36:\tlearn: 0.6369772\ttotal: 73.3ms\tremaining: 917ms\n",
      "37:\tlearn: 0.6351545\ttotal: 75.3ms\tremaining: 915ms\n",
      "38:\tlearn: 0.6347139\ttotal: 77.2ms\tremaining: 912ms\n",
      "39:\tlearn: 0.6332840\ttotal: 79.1ms\tremaining: 909ms\n",
      "40:\tlearn: 0.6319820\ttotal: 80.9ms\tremaining: 906ms\n",
      "41:\tlearn: 0.6303966\ttotal: 82.8ms\tremaining: 902ms\n",
      "42:\tlearn: 0.6289498\ttotal: 84.5ms\tremaining: 898ms\n",
      "43:\tlearn: 0.6284598\ttotal: 86.5ms\tremaining: 896ms\n",
      "44:\tlearn: 0.6278060\ttotal: 89ms\tremaining: 900ms\n",
      "45:\tlearn: 0.6261736\ttotal: 91ms\tremaining: 898ms\n",
      "46:\tlearn: 0.6250619\ttotal: 93.1ms\tremaining: 897ms\n",
      "47:\tlearn: 0.6243107\ttotal: 95.3ms\tremaining: 897ms\n",
      "48:\tlearn: 0.6237246\ttotal: 98.9ms\tremaining: 910ms\n",
      "49:\tlearn: 0.6224593\ttotal: 105ms\tremaining: 942ms\n",
      "50:\tlearn: 0.6209015\ttotal: 107ms\tremaining: 941ms\n",
      "51:\tlearn: 0.6205943\ttotal: 109ms\tremaining: 938ms\n",
      "52:\tlearn: 0.6199136\ttotal: 111ms\tremaining: 933ms\n",
      "53:\tlearn: 0.6187031\ttotal: 112ms\tremaining: 929ms\n",
      "54:\tlearn: 0.6182896\ttotal: 114ms\tremaining: 924ms\n",
      "55:\tlearn: 0.6170935\ttotal: 116ms\tremaining: 920ms\n",
      "56:\tlearn: 0.6163367\ttotal: 118ms\tremaining: 917ms\n",
      "57:\tlearn: 0.6149425\ttotal: 120ms\tremaining: 915ms\n",
      "58:\tlearn: 0.6135772\ttotal: 122ms\tremaining: 913ms\n",
      "59:\tlearn: 0.6124538\ttotal: 124ms\tremaining: 911ms\n",
      "60:\tlearn: 0.6115410\ttotal: 126ms\tremaining: 909ms\n",
      "61:\tlearn: 0.6112851\ttotal: 128ms\tremaining: 906ms\n",
      "62:\tlearn: 0.6110726\ttotal: 130ms\tremaining: 903ms\n",
      "63:\tlearn: 0.6098399\ttotal: 133ms\tremaining: 906ms\n",
      "64:\tlearn: 0.6093360\ttotal: 136ms\tremaining: 907ms\n",
      "65:\tlearn: 0.6080737\ttotal: 138ms\tremaining: 909ms\n",
      "66:\tlearn: 0.6069984\ttotal: 140ms\tremaining: 905ms\n",
      "67:\tlearn: 0.6066343\ttotal: 142ms\tremaining: 902ms\n",
      "68:\tlearn: 0.6056244\ttotal: 144ms\tremaining: 900ms\n",
      "69:\tlearn: 0.6053562\ttotal: 146ms\tremaining: 896ms\n",
      "70:\tlearn: 0.6049009\ttotal: 148ms\tremaining: 893ms\n",
      "71:\tlearn: 0.6034376\ttotal: 150ms\tremaining: 890ms\n",
      "72:\tlearn: 0.6028216\ttotal: 152ms\tremaining: 889ms\n",
      "73:\tlearn: 0.6015241\ttotal: 175ms\tremaining: 1.01s\n",
      "74:\tlearn: 0.6005945\ttotal: 179ms\tremaining: 1.02s\n",
      "75:\tlearn: 0.5999563\ttotal: 181ms\tremaining: 1.01s\n",
      "76:\tlearn: 0.5989008\ttotal: 183ms\tremaining: 1s\n",
      "77:\tlearn: 0.5982580\ttotal: 185ms\tremaining: 1s\n",
      "78:\tlearn: 0.5979482\ttotal: 187ms\tremaining: 998ms\n",
      "79:\tlearn: 0.5972521\ttotal: 189ms\tremaining: 992ms\n",
      "80:\tlearn: 0.5964328\ttotal: 191ms\tremaining: 987ms\n",
      "81:\tlearn: 0.5958732\ttotal: 193ms\tremaining: 982ms\n",
      "82:\tlearn: 0.5948445\ttotal: 195ms\tremaining: 978ms\n",
      "83:\tlearn: 0.5944441\ttotal: 197ms\tremaining: 973ms\n",
      "84:\tlearn: 0.5941320\ttotal: 199ms\tremaining: 970ms\n",
      "85:\tlearn: 0.5934646\ttotal: 201ms\tremaining: 965ms\n",
      "86:\tlearn: 0.5928147\ttotal: 203ms\tremaining: 962ms\n",
      "87:\tlearn: 0.5921659\ttotal: 205ms\tremaining: 958ms\n",
      "88:\tlearn: 0.5914204\ttotal: 207ms\tremaining: 956ms\n",
      "89:\tlearn: 0.5900642\ttotal: 209ms\tremaining: 952ms\n",
      "90:\tlearn: 0.5894785\ttotal: 211ms\tremaining: 948ms\n",
      "91:\tlearn: 0.5888293\ttotal: 213ms\tremaining: 943ms\n",
      "92:\tlearn: 0.5876527\ttotal: 215ms\tremaining: 939ms\n",
      "93:\tlearn: 0.5870249\ttotal: 216ms\tremaining: 935ms\n",
      "94:\tlearn: 0.5866270\ttotal: 218ms\tremaining: 931ms\n",
      "95:\tlearn: 0.5861009\ttotal: 220ms\tremaining: 926ms\n",
      "96:\tlearn: 0.5854747\ttotal: 222ms\tremaining: 923ms\n",
      "97:\tlearn: 0.5850274\ttotal: 224ms\tremaining: 919ms\n",
      "98:\tlearn: 0.5839364\ttotal: 226ms\tremaining: 915ms\n",
      "99:\tlearn: 0.5838885\ttotal: 228ms\tremaining: 911ms\n",
      "100:\tlearn: 0.5836260\ttotal: 231ms\tremaining: 913ms\n",
      "101:\tlearn: 0.5827836\ttotal: 233ms\tremaining: 910ms\n",
      "102:\tlearn: 0.5815773\ttotal: 235ms\tremaining: 905ms\n",
      "103:\tlearn: 0.5808425\ttotal: 237ms\tremaining: 902ms\n",
      "104:\tlearn: 0.5800440\ttotal: 240ms\tremaining: 902ms\n",
      "105:\tlearn: 0.5792172\ttotal: 242ms\tremaining: 898ms\n",
      "106:\tlearn: 0.5781836\ttotal: 244ms\tremaining: 897ms\n",
      "107:\tlearn: 0.5776989\ttotal: 246ms\tremaining: 893ms\n",
      "108:\tlearn: 0.5770437\ttotal: 248ms\tremaining: 889ms\n",
      "109:\tlearn: 0.5764074\ttotal: 250ms\tremaining: 885ms\n",
      "110:\tlearn: 0.5762124\ttotal: 251ms\tremaining: 881ms\n",
      "111:\tlearn: 0.5756969\ttotal: 253ms\tremaining: 878ms\n",
      "112:\tlearn: 0.5747174\ttotal: 255ms\tremaining: 875ms\n",
      "113:\tlearn: 0.5744084\ttotal: 257ms\tremaining: 871ms\n",
      "114:\tlearn: 0.5740391\ttotal: 261ms\tremaining: 872ms\n",
      "115:\tlearn: 0.5738119\ttotal: 262ms\tremaining: 869ms\n",
      "116:\tlearn: 0.5730716\ttotal: 264ms\tremaining: 866ms\n",
      "117:\tlearn: 0.5721386\ttotal: 266ms\tremaining: 862ms\n",
      "118:\tlearn: 0.5716410\ttotal: 273ms\tremaining: 875ms\n",
      "119:\tlearn: 0.5709782\ttotal: 275ms\tremaining: 871ms\n",
      "120:\tlearn: 0.5705984\ttotal: 277ms\tremaining: 868ms\n",
      "121:\tlearn: 0.5704280\ttotal: 279ms\tremaining: 864ms\n",
      "122:\tlearn: 0.5696692\ttotal: 281ms\tremaining: 860ms\n",
      "123:\tlearn: 0.5694076\ttotal: 283ms\tremaining: 857ms\n",
      "124:\tlearn: 0.5690177\ttotal: 288ms\tremaining: 864ms\n",
      "125:\tlearn: 0.5681741\ttotal: 290ms\tremaining: 861ms\n",
      "126:\tlearn: 0.5675717\ttotal: 292ms\tremaining: 859ms\n",
      "127:\tlearn: 0.5670234\ttotal: 294ms\tremaining: 856ms\n",
      "128:\tlearn: 0.5662956\ttotal: 297ms\tremaining: 853ms\n",
      "129:\tlearn: 0.5662035\ttotal: 298ms\tremaining: 849ms\n",
      "130:\tlearn: 0.5648348\ttotal: 300ms\tremaining: 846ms\n",
      "131:\tlearn: 0.5646756\ttotal: 302ms\tremaining: 843ms\n",
      "132:\tlearn: 0.5642465\ttotal: 304ms\tremaining: 840ms\n",
      "133:\tlearn: 0.5633204\ttotal: 306ms\tremaining: 837ms\n",
      "134:\tlearn: 0.5631337\ttotal: 308ms\tremaining: 834ms\n",
      "135:\tlearn: 0.5628894\ttotal: 310ms\tremaining: 830ms\n",
      "136:\tlearn: 0.5622888\ttotal: 312ms\tremaining: 827ms\n",
      "137:\tlearn: 0.5621277\ttotal: 315ms\tremaining: 826ms\n",
      "138:\tlearn: 0.5616740\ttotal: 317ms\tremaining: 822ms\n",
      "139:\tlearn: 0.5613788\ttotal: 318ms\tremaining: 819ms\n",
      "140:\tlearn: 0.5607520\ttotal: 320ms\tremaining: 816ms\n",
      "141:\tlearn: 0.5598057\ttotal: 322ms\tremaining: 813ms\n",
      "142:\tlearn: 0.5595408\ttotal: 324ms\tremaining: 810ms\n",
      "143:\tlearn: 0.5588552\ttotal: 326ms\tremaining: 806ms\n",
      "144:\tlearn: 0.5579316\ttotal: 328ms\tremaining: 803ms\n",
      "145:\tlearn: 0.5575187\ttotal: 330ms\tremaining: 801ms\n",
      "146:\tlearn: 0.5571476\ttotal: 332ms\tremaining: 798ms\n",
      "147:\tlearn: 0.5568556\ttotal: 335ms\tremaining: 797ms\n",
      "148:\tlearn: 0.5567754\ttotal: 337ms\tremaining: 793ms\n",
      "149:\tlearn: 0.5565048\ttotal: 339ms\tremaining: 790ms\n",
      "150:\tlearn: 0.5564281\ttotal: 341ms\tremaining: 788ms\n",
      "151:\tlearn: 0.5562623\ttotal: 343ms\tremaining: 785ms\n",
      "152:\tlearn: 0.5557639\ttotal: 345ms\tremaining: 782ms\n",
      "153:\tlearn: 0.5554530\ttotal: 347ms\tremaining: 779ms\n",
      "154:\tlearn: 0.5545135\ttotal: 349ms\tremaining: 777ms\n",
      "155:\tlearn: 0.5536788\ttotal: 351ms\tremaining: 773ms\n",
      "156:\tlearn: 0.5531736\ttotal: 354ms\tremaining: 773ms\n",
      "157:\tlearn: 0.5527506\ttotal: 356ms\tremaining: 770ms\n",
      "158:\tlearn: 0.5522083\ttotal: 358ms\tremaining: 768ms\n",
      "159:\tlearn: 0.5519512\ttotal: 360ms\tremaining: 764ms\n",
      "160:\tlearn: 0.5517962\ttotal: 362ms\tremaining: 762ms\n",
      "161:\tlearn: 0.5514947\ttotal: 364ms\tremaining: 759ms\n",
      "162:\tlearn: 0.5506784\ttotal: 366ms\tremaining: 756ms\n",
      "163:\tlearn: 0.5500147\ttotal: 371ms\tremaining: 760ms\n",
      "164:\tlearn: 0.5494106\ttotal: 374ms\tremaining: 759ms\n",
      "165:\tlearn: 0.5489516\ttotal: 376ms\tremaining: 756ms\n",
      "166:\tlearn: 0.5481552\ttotal: 378ms\tremaining: 754ms\n",
      "167:\tlearn: 0.5477174\ttotal: 380ms\tremaining: 751ms\n",
      "168:\tlearn: 0.5474275\ttotal: 382ms\tremaining: 748ms\n",
      "169:\tlearn: 0.5472069\ttotal: 384ms\tremaining: 745ms\n",
      "170:\tlearn: 0.5467406\ttotal: 386ms\tremaining: 743ms\n",
      "171:\tlearn: 0.5466834\ttotal: 388ms\tremaining: 740ms\n",
      "172:\tlearn: 0.5462667\ttotal: 390ms\tremaining: 737ms\n",
      "173:\tlearn: 0.5455048\ttotal: 392ms\tremaining: 734ms\n",
      "174:\tlearn: 0.5454174\ttotal: 394ms\tremaining: 732ms\n",
      "175:\tlearn: 0.5453106\ttotal: 396ms\tremaining: 729ms\n",
      "176:\tlearn: 0.5448581\ttotal: 398ms\tremaining: 726ms\n",
      "177:\tlearn: 0.5443172\ttotal: 400ms\tremaining: 723ms\n",
      "178:\tlearn: 0.5439316\ttotal: 402ms\tremaining: 720ms\n",
      "179:\tlearn: 0.5437529\ttotal: 404ms\tremaining: 719ms\n",
      "180:\tlearn: 0.5431770\ttotal: 406ms\tremaining: 716ms\n",
      "181:\tlearn: 0.5430140\ttotal: 408ms\tremaining: 713ms\n",
      "182:\tlearn: 0.5427213\ttotal: 410ms\tremaining: 710ms\n",
      "183:\tlearn: 0.5425363\ttotal: 412ms\tremaining: 707ms\n",
      "184:\tlearn: 0.5421181\ttotal: 414ms\tremaining: 704ms\n",
      "185:\tlearn: 0.5418411\ttotal: 415ms\tremaining: 701ms\n",
      "186:\tlearn: 0.5416220\ttotal: 417ms\tremaining: 698ms\n",
      "187:\tlearn: 0.5410008\ttotal: 419ms\tremaining: 695ms\n",
      "188:\tlearn: 0.5407867\ttotal: 421ms\tremaining: 693ms\n",
      "189:\tlearn: 0.5403605\ttotal: 424ms\tremaining: 692ms\n",
      "190:\tlearn: 0.5399674\ttotal: 426ms\tremaining: 690ms\n",
      "191:\tlearn: 0.5392401\ttotal: 428ms\tremaining: 687ms\n",
      "192:\tlearn: 0.5388932\ttotal: 430ms\tremaining: 684ms\n",
      "193:\tlearn: 0.5386375\ttotal: 432ms\tremaining: 682ms\n",
      "194:\tlearn: 0.5385404\ttotal: 434ms\tremaining: 679ms\n",
      "195:\tlearn: 0.5380188\ttotal: 436ms\tremaining: 676ms\n",
      "196:\tlearn: 0.5377665\ttotal: 438ms\tremaining: 673ms\n",
      "197:\tlearn: 0.5374153\ttotal: 439ms\tremaining: 670ms\n",
      "198:\tlearn: 0.5371343\ttotal: 441ms\tremaining: 667ms\n",
      "199:\tlearn: 0.5363405\ttotal: 443ms\tremaining: 665ms\n",
      "200:\tlearn: 0.5358291\ttotal: 445ms\tremaining: 662ms\n",
      "201:\tlearn: 0.5354562\ttotal: 465ms\tremaining: 686ms\n",
      "202:\tlearn: 0.5353359\ttotal: 467ms\tremaining: 684ms\n",
      "203:\tlearn: 0.5351343\ttotal: 469ms\tremaining: 681ms\n",
      "204:\tlearn: 0.5350134\ttotal: 471ms\tremaining: 678ms\n",
      "205:\tlearn: 0.5348249\ttotal: 473ms\tremaining: 676ms\n",
      "206:\tlearn: 0.5340510\ttotal: 475ms\tremaining: 673ms\n",
      "207:\tlearn: 0.5339289\ttotal: 478ms\tremaining: 671ms\n",
      "208:\tlearn: 0.5338822\ttotal: 480ms\tremaining: 668ms\n",
      "209:\tlearn: 0.5335570\ttotal: 482ms\tremaining: 666ms\n",
      "210:\tlearn: 0.5332738\ttotal: 484ms\tremaining: 663ms\n",
      "211:\tlearn: 0.5331381\ttotal: 486ms\tremaining: 661ms\n",
      "212:\tlearn: 0.5329758\ttotal: 488ms\tremaining: 658ms\n",
      "213:\tlearn: 0.5325660\ttotal: 491ms\tremaining: 656ms\n",
      "214:\tlearn: 0.5323449\ttotal: 494ms\tremaining: 654ms\n",
      "215:\tlearn: 0.5321683\ttotal: 496ms\tremaining: 652ms\n",
      "216:\tlearn: 0.5318518\ttotal: 497ms\tremaining: 649ms\n",
      "217:\tlearn: 0.5316496\ttotal: 499ms\tremaining: 646ms\n",
      "218:\tlearn: 0.5313515\ttotal: 501ms\tremaining: 643ms\n",
      "219:\tlearn: 0.5309660\ttotal: 503ms\tremaining: 640ms\n",
      "220:\tlearn: 0.5305780\ttotal: 505ms\tremaining: 638ms\n",
      "221:\tlearn: 0.5302685\ttotal: 507ms\tremaining: 635ms\n",
      "222:\tlearn: 0.5295913\ttotal: 509ms\tremaining: 632ms\n",
      "223:\tlearn: 0.5293706\ttotal: 511ms\tremaining: 630ms\n",
      "224:\tlearn: 0.5290366\ttotal: 513ms\tremaining: 627ms\n",
      "225:\tlearn: 0.5288255\ttotal: 515ms\tremaining: 624ms\n",
      "226:\tlearn: 0.5283412\ttotal: 516ms\tremaining: 621ms\n",
      "227:\tlearn: 0.5277675\ttotal: 518ms\tremaining: 618ms\n",
      "228:\tlearn: 0.5274928\ttotal: 520ms\tremaining: 616ms\n",
      "229:\tlearn: 0.5268389\ttotal: 522ms\tremaining: 613ms\n",
      "230:\tlearn: 0.5264332\ttotal: 524ms\tremaining: 611ms\n",
      "231:\tlearn: 0.5262702\ttotal: 526ms\tremaining: 608ms\n",
      "232:\tlearn: 0.5259481\ttotal: 528ms\tremaining: 605ms\n",
      "233:\tlearn: 0.5253083\ttotal: 530ms\tremaining: 602ms\n",
      "234:\tlearn: 0.5251747\ttotal: 532ms\tremaining: 600ms\n",
      "235:\tlearn: 0.5245561\ttotal: 533ms\tremaining: 597ms\n",
      "236:\tlearn: 0.5244067\ttotal: 535ms\tremaining: 594ms\n",
      "237:\tlearn: 0.5242055\ttotal: 537ms\tremaining: 591ms\n",
      "238:\tlearn: 0.5238027\ttotal: 539ms\tremaining: 589ms\n",
      "239:\tlearn: 0.5236086\ttotal: 541ms\tremaining: 586ms\n",
      "240:\tlearn: 0.5229921\ttotal: 544ms\tremaining: 585ms\n",
      "241:\tlearn: 0.5228653\ttotal: 546ms\tremaining: 582ms\n",
      "242:\tlearn: 0.5227071\ttotal: 548ms\tremaining: 579ms\n",
      "243:\tlearn: 0.5223519\ttotal: 550ms\tremaining: 577ms\n",
      "244:\tlearn: 0.5221359\ttotal: 552ms\tremaining: 574ms\n",
      "245:\tlearn: 0.5216360\ttotal: 553ms\tremaining: 571ms\n",
      "246:\tlearn: 0.5213162\ttotal: 555ms\tremaining: 569ms\n",
      "247:\tlearn: 0.5211985\ttotal: 557ms\tremaining: 566ms\n",
      "248:\tlearn: 0.5207722\ttotal: 559ms\tremaining: 564ms\n",
      "249:\tlearn: 0.5207217\ttotal: 561ms\tremaining: 561ms\n",
      "250:\tlearn: 0.5205697\ttotal: 563ms\tremaining: 558ms\n",
      "251:\tlearn: 0.5203651\ttotal: 565ms\tremaining: 556ms\n",
      "252:\tlearn: 0.5201191\ttotal: 567ms\tremaining: 553ms\n",
      "253:\tlearn: 0.5198516\ttotal: 568ms\tremaining: 550ms\n",
      "254:\tlearn: 0.5194211\ttotal: 571ms\tremaining: 549ms\n",
      "255:\tlearn: 0.5187277\ttotal: 573ms\tremaining: 546ms\n",
      "256:\tlearn: 0.5183512\ttotal: 575ms\tremaining: 544ms\n",
      "257:\tlearn: 0.5180481\ttotal: 577ms\tremaining: 541ms\n",
      "258:\tlearn: 0.5178774\ttotal: 579ms\tremaining: 539ms\n",
      "259:\tlearn: 0.5172127\ttotal: 581ms\tremaining: 536ms\n",
      "260:\tlearn: 0.5170391\ttotal: 583ms\tremaining: 534ms\n",
      "261:\tlearn: 0.5166139\ttotal: 585ms\tremaining: 531ms\n",
      "262:\tlearn: 0.5165773\ttotal: 586ms\tremaining: 529ms\n",
      "263:\tlearn: 0.5164969\ttotal: 588ms\tremaining: 526ms\n",
      "264:\tlearn: 0.5162357\ttotal: 590ms\tremaining: 523ms\n",
      "265:\tlearn: 0.5160021\ttotal: 592ms\tremaining: 521ms\n",
      "266:\tlearn: 0.5159312\ttotal: 594ms\tremaining: 518ms\n",
      "267:\tlearn: 0.5153266\ttotal: 596ms\tremaining: 516ms\n",
      "268:\tlearn: 0.5150561\ttotal: 598ms\tremaining: 513ms\n",
      "269:\tlearn: 0.5147375\ttotal: 599ms\tremaining: 511ms\n",
      "270:\tlearn: 0.5144401\ttotal: 601ms\tremaining: 508ms\n",
      "271:\tlearn: 0.5140688\ttotal: 603ms\tremaining: 506ms\n",
      "272:\tlearn: 0.5139020\ttotal: 605ms\tremaining: 503ms\n",
      "273:\tlearn: 0.5138458\ttotal: 607ms\tremaining: 501ms\n",
      "274:\tlearn: 0.5135084\ttotal: 609ms\tremaining: 498ms\n",
      "275:\tlearn: 0.5134593\ttotal: 611ms\tremaining: 496ms\n",
      "276:\tlearn: 0.5124682\ttotal: 613ms\tremaining: 493ms\n",
      "277:\tlearn: 0.5123081\ttotal: 615ms\tremaining: 491ms\n",
      "278:\tlearn: 0.5120794\ttotal: 616ms\tremaining: 488ms\n",
      "279:\tlearn: 0.5115678\ttotal: 618ms\tremaining: 486ms\n",
      "280:\tlearn: 0.5113227\ttotal: 620ms\tremaining: 483ms\n",
      "281:\tlearn: 0.5109078\ttotal: 622ms\tremaining: 481ms\n",
      "282:\tlearn: 0.5099319\ttotal: 624ms\tremaining: 478ms\n",
      "283:\tlearn: 0.5095123\ttotal: 626ms\tremaining: 476ms\n",
      "284:\tlearn: 0.5092967\ttotal: 628ms\tremaining: 474ms\n",
      "285:\tlearn: 0.5091021\ttotal: 630ms\tremaining: 471ms\n",
      "286:\tlearn: 0.5086138\ttotal: 632ms\tremaining: 469ms\n",
      "287:\tlearn: 0.5082184\ttotal: 634ms\tremaining: 467ms\n",
      "288:\tlearn: 0.5080546\ttotal: 636ms\tremaining: 464ms\n",
      "289:\tlearn: 0.5078924\ttotal: 638ms\tremaining: 462ms\n",
      "290:\tlearn: 0.5076797\ttotal: 640ms\tremaining: 460ms\n",
      "291:\tlearn: 0.5071119\ttotal: 642ms\tremaining: 457ms\n",
      "292:\tlearn: 0.5067808\ttotal: 644ms\tremaining: 455ms\n",
      "293:\tlearn: 0.5067213\ttotal: 650ms\tremaining: 455ms\n",
      "294:\tlearn: 0.5066735\ttotal: 652ms\tremaining: 453ms\n",
      "295:\tlearn: 0.5062789\ttotal: 654ms\tremaining: 451ms\n",
      "296:\tlearn: 0.5058082\ttotal: 656ms\tremaining: 448ms\n",
      "297:\tlearn: 0.5052698\ttotal: 658ms\tremaining: 446ms\n",
      "298:\tlearn: 0.5046067\ttotal: 660ms\tremaining: 444ms\n",
      "299:\tlearn: 0.5040387\ttotal: 662ms\tremaining: 441ms\n",
      "300:\tlearn: 0.5037958\ttotal: 664ms\tremaining: 439ms\n",
      "301:\tlearn: 0.5036133\ttotal: 666ms\tremaining: 436ms\n",
      "302:\tlearn: 0.5034308\ttotal: 668ms\tremaining: 434ms\n",
      "303:\tlearn: 0.5030531\ttotal: 669ms\tremaining: 432ms\n",
      "304:\tlearn: 0.5026021\ttotal: 671ms\tremaining: 429ms\n",
      "305:\tlearn: 0.5020777\ttotal: 673ms\tremaining: 427ms\n",
      "306:\tlearn: 0.5011791\ttotal: 676ms\tremaining: 425ms\n",
      "307:\tlearn: 0.5005652\ttotal: 678ms\tremaining: 422ms\n",
      "308:\tlearn: 0.5004988\ttotal: 680ms\tremaining: 420ms\n",
      "309:\tlearn: 0.5002681\ttotal: 682ms\tremaining: 418ms\n",
      "310:\tlearn: 0.5000234\ttotal: 684ms\tremaining: 416ms\n",
      "311:\tlearn: 0.4997041\ttotal: 686ms\tremaining: 414ms\n",
      "312:\tlearn: 0.4994681\ttotal: 688ms\tremaining: 411ms\n",
      "313:\tlearn: 0.4991175\ttotal: 690ms\tremaining: 409ms\n",
      "314:\tlearn: 0.4988074\ttotal: 692ms\tremaining: 407ms\n",
      "315:\tlearn: 0.4986467\ttotal: 694ms\tremaining: 404ms\n",
      "316:\tlearn: 0.4981798\ttotal: 696ms\tremaining: 402ms\n",
      "317:\tlearn: 0.4977079\ttotal: 698ms\tremaining: 400ms\n",
      "318:\tlearn: 0.4976261\ttotal: 700ms\tremaining: 397ms\n",
      "319:\tlearn: 0.4973633\ttotal: 706ms\tremaining: 397ms\n",
      "320:\tlearn: 0.4969881\ttotal: 708ms\tremaining: 395ms\n",
      "321:\tlearn: 0.4964475\ttotal: 709ms\tremaining: 392ms\n",
      "322:\tlearn: 0.4957912\ttotal: 711ms\tremaining: 390ms\n",
      "323:\tlearn: 0.4957486\ttotal: 713ms\tremaining: 387ms\n",
      "324:\tlearn: 0.4955709\ttotal: 715ms\tremaining: 385ms\n",
      "325:\tlearn: 0.4955394\ttotal: 717ms\tremaining: 383ms\n",
      "326:\tlearn: 0.4954074\ttotal: 719ms\tremaining: 380ms\n",
      "327:\tlearn: 0.4951662\ttotal: 721ms\tremaining: 378ms\n",
      "328:\tlearn: 0.4949583\ttotal: 723ms\tremaining: 376ms\n",
      "329:\tlearn: 0.4947496\ttotal: 725ms\tremaining: 373ms\n",
      "330:\tlearn: 0.4945742\ttotal: 726ms\tremaining: 371ms\n",
      "331:\tlearn: 0.4941664\ttotal: 728ms\tremaining: 369ms\n",
      "332:\tlearn: 0.4937194\ttotal: 730ms\tremaining: 366ms\n",
      "333:\tlearn: 0.4937109\ttotal: 732ms\tremaining: 364ms\n",
      "334:\tlearn: 0.4934388\ttotal: 734ms\tremaining: 362ms\n",
      "335:\tlearn: 0.4933743\ttotal: 736ms\tremaining: 359ms\n",
      "336:\tlearn: 0.4932924\ttotal: 738ms\tremaining: 357ms\n",
      "337:\tlearn: 0.4931798\ttotal: 740ms\tremaining: 355ms\n",
      "338:\tlearn: 0.4929451\ttotal: 742ms\tremaining: 352ms\n",
      "339:\tlearn: 0.4927252\ttotal: 744ms\tremaining: 350ms\n",
      "340:\tlearn: 0.4924203\ttotal: 745ms\tremaining: 348ms\n",
      "341:\tlearn: 0.4923203\ttotal: 747ms\tremaining: 345ms\n",
      "342:\tlearn: 0.4921929\ttotal: 749ms\tremaining: 343ms\n",
      "343:\tlearn: 0.4912714\ttotal: 751ms\tremaining: 341ms\n",
      "344:\tlearn: 0.4909422\ttotal: 753ms\tremaining: 338ms\n",
      "345:\tlearn: 0.4906945\ttotal: 755ms\tremaining: 336ms\n",
      "346:\tlearn: 0.4905970\ttotal: 757ms\tremaining: 334ms\n",
      "347:\tlearn: 0.4901070\ttotal: 758ms\tremaining: 331ms\n",
      "348:\tlearn: 0.4896782\ttotal: 760ms\tremaining: 329ms\n",
      "349:\tlearn: 0.4894362\ttotal: 762ms\tremaining: 327ms\n",
      "350:\tlearn: 0.4891883\ttotal: 764ms\tremaining: 324ms\n",
      "351:\tlearn: 0.4890743\ttotal: 766ms\tremaining: 322ms\n",
      "352:\tlearn: 0.4887158\ttotal: 768ms\tremaining: 320ms\n",
      "353:\tlearn: 0.4884991\ttotal: 770ms\tremaining: 317ms\n",
      "354:\tlearn: 0.4879248\ttotal: 772ms\tremaining: 315ms\n",
      "355:\tlearn: 0.4876812\ttotal: 773ms\tremaining: 313ms\n",
      "356:\tlearn: 0.4873292\ttotal: 775ms\tremaining: 311ms\n",
      "357:\tlearn: 0.4872777\ttotal: 777ms\tremaining: 308ms\n",
      "358:\tlearn: 0.4864675\ttotal: 779ms\tremaining: 306ms\n",
      "359:\tlearn: 0.4863702\ttotal: 781ms\tremaining: 304ms\n",
      "360:\tlearn: 0.4859293\ttotal: 783ms\tremaining: 301ms\n",
      "361:\tlearn: 0.4853741\ttotal: 785ms\tremaining: 299ms\n",
      "362:\tlearn: 0.4847723\ttotal: 787ms\tremaining: 297ms\n",
      "363:\tlearn: 0.4844779\ttotal: 788ms\tremaining: 295ms\n",
      "364:\tlearn: 0.4843542\ttotal: 790ms\tremaining: 292ms\n",
      "365:\tlearn: 0.4842008\ttotal: 792ms\tremaining: 290ms\n",
      "366:\tlearn: 0.4839014\ttotal: 794ms\tremaining: 288ms\n",
      "367:\tlearn: 0.4837000\ttotal: 796ms\tremaining: 285ms\n",
      "368:\tlearn: 0.4835087\ttotal: 798ms\tremaining: 283ms\n",
      "369:\tlearn: 0.4832268\ttotal: 800ms\tremaining: 281ms\n",
      "370:\tlearn: 0.4830648\ttotal: 802ms\tremaining: 279ms\n",
      "371:\tlearn: 0.4828324\ttotal: 803ms\tremaining: 276ms\n",
      "372:\tlearn: 0.4827379\ttotal: 805ms\tremaining: 274ms\n",
      "373:\tlearn: 0.4824619\ttotal: 807ms\tremaining: 272ms\n",
      "374:\tlearn: 0.4821813\ttotal: 809ms\tremaining: 270ms\n",
      "375:\tlearn: 0.4821255\ttotal: 811ms\tremaining: 267ms\n",
      "376:\tlearn: 0.4818959\ttotal: 813ms\tremaining: 265ms\n",
      "377:\tlearn: 0.4816305\ttotal: 816ms\tremaining: 263ms\n",
      "378:\tlearn: 0.4814212\ttotal: 818ms\tremaining: 261ms\n",
      "379:\tlearn: 0.4812527\ttotal: 819ms\tremaining: 259ms\n",
      "380:\tlearn: 0.4811476\ttotal: 821ms\tremaining: 257ms\n",
      "381:\tlearn: 0.4808611\ttotal: 823ms\tremaining: 254ms\n",
      "382:\tlearn: 0.4806659\ttotal: 825ms\tremaining: 252ms\n",
      "383:\tlearn: 0.4805642\ttotal: 827ms\tremaining: 250ms\n",
      "384:\tlearn: 0.4803397\ttotal: 829ms\tremaining: 248ms\n",
      "385:\tlearn: 0.4800561\ttotal: 831ms\tremaining: 245ms\n",
      "386:\tlearn: 0.4798483\ttotal: 833ms\tremaining: 243ms\n",
      "387:\tlearn: 0.4792608\ttotal: 835ms\tremaining: 241ms\n",
      "388:\tlearn: 0.4792234\ttotal: 837ms\tremaining: 239ms\n",
      "389:\tlearn: 0.4790242\ttotal: 839ms\tremaining: 237ms\n",
      "390:\tlearn: 0.4789262\ttotal: 841ms\tremaining: 234ms\n",
      "391:\tlearn: 0.4786168\ttotal: 842ms\tremaining: 232ms\n",
      "392:\tlearn: 0.4784791\ttotal: 844ms\tremaining: 230ms\n",
      "393:\tlearn: 0.4783713\ttotal: 846ms\tremaining: 228ms\n",
      "394:\tlearn: 0.4780942\ttotal: 848ms\tremaining: 226ms\n",
      "395:\tlearn: 0.4777486\ttotal: 850ms\tremaining: 223ms\n",
      "396:\tlearn: 0.4776025\ttotal: 852ms\tremaining: 221ms\n",
      "397:\tlearn: 0.4773770\ttotal: 854ms\tremaining: 219ms\n",
      "398:\tlearn: 0.4770587\ttotal: 856ms\tremaining: 217ms\n",
      "399:\tlearn: 0.4769635\ttotal: 858ms\tremaining: 215ms\n",
      "400:\tlearn: 0.4766340\ttotal: 860ms\tremaining: 212ms\n",
      "401:\tlearn: 0.4761427\ttotal: 862ms\tremaining: 210ms\n",
      "402:\tlearn: 0.4758839\ttotal: 864ms\tremaining: 208ms\n",
      "403:\tlearn: 0.4757225\ttotal: 866ms\tremaining: 206ms\n",
      "404:\tlearn: 0.4756753\ttotal: 868ms\tremaining: 204ms\n",
      "405:\tlearn: 0.4754589\ttotal: 870ms\tremaining: 201ms\n",
      "406:\tlearn: 0.4752683\ttotal: 872ms\tremaining: 199ms\n",
      "407:\tlearn: 0.4751863\ttotal: 874ms\tremaining: 197ms\n",
      "408:\tlearn: 0.4748059\ttotal: 876ms\tremaining: 195ms\n",
      "409:\tlearn: 0.4746667\ttotal: 878ms\tremaining: 193ms\n",
      "410:\tlearn: 0.4743366\ttotal: 879ms\tremaining: 190ms\n",
      "411:\tlearn: 0.4740306\ttotal: 882ms\tremaining: 188ms\n",
      "412:\tlearn: 0.4739893\ttotal: 883ms\tremaining: 186ms\n",
      "413:\tlearn: 0.4734731\ttotal: 886ms\tremaining: 184ms\n",
      "414:\tlearn: 0.4730523\ttotal: 888ms\tremaining: 182ms\n",
      "415:\tlearn: 0.4728688\ttotal: 890ms\tremaining: 180ms\n",
      "416:\tlearn: 0.4725167\ttotal: 892ms\tremaining: 177ms\n",
      "417:\tlearn: 0.4724576\ttotal: 894ms\tremaining: 175ms\n",
      "418:\tlearn: 0.4723373\ttotal: 898ms\tremaining: 174ms\n",
      "419:\tlearn: 0.4719433\ttotal: 900ms\tremaining: 171ms\n",
      "420:\tlearn: 0.4718645\ttotal: 902ms\tremaining: 169ms\n",
      "421:\tlearn: 0.4713599\ttotal: 904ms\tremaining: 167ms\n",
      "422:\tlearn: 0.4711536\ttotal: 906ms\tremaining: 165ms\n",
      "423:\tlearn: 0.4708298\ttotal: 907ms\tremaining: 163ms\n",
      "424:\tlearn: 0.4703320\ttotal: 910ms\tremaining: 161ms\n",
      "425:\tlearn: 0.4703127\ttotal: 912ms\tremaining: 158ms\n",
      "426:\tlearn: 0.4701839\ttotal: 914ms\tremaining: 156ms\n",
      "427:\tlearn: 0.4697945\ttotal: 916ms\tremaining: 154ms\n",
      "428:\tlearn: 0.4696616\ttotal: 918ms\tremaining: 152ms\n",
      "429:\tlearn: 0.4694701\ttotal: 920ms\tremaining: 150ms\n",
      "430:\tlearn: 0.4691442\ttotal: 922ms\tremaining: 148ms\n",
      "431:\tlearn: 0.4686581\ttotal: 924ms\tremaining: 145ms\n",
      "432:\tlearn: 0.4684980\ttotal: 926ms\tremaining: 143ms\n",
      "433:\tlearn: 0.4681638\ttotal: 927ms\tremaining: 141ms\n",
      "434:\tlearn: 0.4679464\ttotal: 930ms\tremaining: 139ms\n",
      "435:\tlearn: 0.4676344\ttotal: 931ms\tremaining: 137ms\n",
      "436:\tlearn: 0.4675444\ttotal: 933ms\tremaining: 135ms\n",
      "437:\tlearn: 0.4674865\ttotal: 935ms\tremaining: 132ms\n",
      "438:\tlearn: 0.4667963\ttotal: 937ms\tremaining: 130ms\n",
      "439:\tlearn: 0.4666965\ttotal: 940ms\tremaining: 128ms\n",
      "440:\tlearn: 0.4666248\ttotal: 942ms\tremaining: 126ms\n",
      "441:\tlearn: 0.4665605\ttotal: 944ms\tremaining: 124ms\n",
      "442:\tlearn: 0.4663909\ttotal: 946ms\tremaining: 122ms\n",
      "443:\tlearn: 0.4660630\ttotal: 948ms\tremaining: 120ms\n",
      "444:\tlearn: 0.4659402\ttotal: 951ms\tremaining: 117ms\n",
      "445:\tlearn: 0.4656645\ttotal: 953ms\tremaining: 115ms\n",
      "446:\tlearn: 0.4653662\ttotal: 954ms\tremaining: 113ms\n",
      "447:\tlearn: 0.4649734\ttotal: 956ms\tremaining: 111ms\n",
      "448:\tlearn: 0.4647798\ttotal: 958ms\tremaining: 109ms\n",
      "449:\tlearn: 0.4646843\ttotal: 960ms\tremaining: 107ms\n",
      "450:\tlearn: 0.4642943\ttotal: 962ms\tremaining: 105ms\n",
      "451:\tlearn: 0.4642313\ttotal: 964ms\tremaining: 102ms\n",
      "452:\tlearn: 0.4641188\ttotal: 966ms\tremaining: 100ms\n",
      "453:\tlearn: 0.4636905\ttotal: 968ms\tremaining: 98ms\n",
      "454:\tlearn: 0.4636079\ttotal: 969ms\tremaining: 95.9ms\n",
      "455:\tlearn: 0.4635163\ttotal: 972ms\tremaining: 93.7ms\n",
      "456:\tlearn: 0.4632557\ttotal: 973ms\tremaining: 91.6ms\n",
      "457:\tlearn: 0.4628367\ttotal: 975ms\tremaining: 89.5ms\n",
      "458:\tlearn: 0.4622514\ttotal: 977ms\tremaining: 87.3ms\n",
      "459:\tlearn: 0.4620889\ttotal: 979ms\tremaining: 85.2ms\n",
      "460:\tlearn: 0.4615993\ttotal: 981ms\tremaining: 83ms\n",
      "461:\tlearn: 0.4613084\ttotal: 983ms\tremaining: 80.9ms\n",
      "462:\tlearn: 0.4608066\ttotal: 985ms\tremaining: 78.7ms\n",
      "463:\tlearn: 0.4607783\ttotal: 987ms\tremaining: 76.6ms\n",
      "464:\tlearn: 0.4604563\ttotal: 989ms\tremaining: 74.4ms\n",
      "465:\tlearn: 0.4603647\ttotal: 991ms\tremaining: 72.3ms\n",
      "466:\tlearn: 0.4603229\ttotal: 993ms\tremaining: 70.2ms\n",
      "467:\tlearn: 0.4601431\ttotal: 995ms\tremaining: 68ms\n",
      "468:\tlearn: 0.4598801\ttotal: 997ms\tremaining: 65.9ms\n",
      "469:\tlearn: 0.4598188\ttotal: 999ms\tremaining: 63.7ms\n",
      "470:\tlearn: 0.4595637\ttotal: 1s\tremaining: 61.6ms\n",
      "471:\tlearn: 0.4591842\ttotal: 1s\tremaining: 59.5ms\n",
      "472:\tlearn: 0.4587731\ttotal: 1s\tremaining: 57.3ms\n",
      "473:\tlearn: 0.4583674\ttotal: 1.01s\tremaining: 55.2ms\n",
      "474:\tlearn: 0.4580272\ttotal: 1.01s\tremaining: 53.1ms\n",
      "475:\tlearn: 0.4575834\ttotal: 1.01s\tremaining: 50.9ms\n",
      "476:\tlearn: 0.4569539\ttotal: 1.01s\tremaining: 48.8ms\n",
      "477:\tlearn: 0.4567251\ttotal: 1.01s\tremaining: 46.7ms\n",
      "478:\tlearn: 0.4563582\ttotal: 1.02s\tremaining: 44.6ms\n",
      "479:\tlearn: 0.4561509\ttotal: 1.02s\tremaining: 42.4ms\n",
      "480:\tlearn: 0.4556452\ttotal: 1.02s\tremaining: 40.3ms\n",
      "481:\tlearn: 0.4552197\ttotal: 1.02s\tremaining: 38.1ms\n",
      "482:\tlearn: 0.4548728\ttotal: 1.02s\tremaining: 36ms\n",
      "483:\tlearn: 0.4547111\ttotal: 1.02s\tremaining: 33.9ms\n",
      "484:\tlearn: 0.4546160\ttotal: 1.03s\tremaining: 31.8ms\n",
      "485:\tlearn: 0.4544111\ttotal: 1.03s\tremaining: 29.6ms\n",
      "486:\tlearn: 0.4538043\ttotal: 1.03s\tremaining: 27.5ms\n",
      "487:\tlearn: 0.4531961\ttotal: 1.03s\tremaining: 25.4ms\n",
      "488:\tlearn: 0.4528388\ttotal: 1.03s\tremaining: 23.3ms\n",
      "489:\tlearn: 0.4523248\ttotal: 1.04s\tremaining: 21.2ms\n",
      "490:\tlearn: 0.4519891\ttotal: 1.04s\tremaining: 19ms\n",
      "491:\tlearn: 0.4515051\ttotal: 1.04s\tremaining: 16.9ms\n",
      "492:\tlearn: 0.4514384\ttotal: 1.04s\tremaining: 14.8ms\n",
      "493:\tlearn: 0.4512417\ttotal: 1.04s\tremaining: 12.7ms\n",
      "494:\tlearn: 0.4508253\ttotal: 1.05s\tremaining: 10.6ms\n",
      "495:\tlearn: 0.4506408\ttotal: 1.05s\tremaining: 8.45ms\n",
      "496:\tlearn: 0.4504366\ttotal: 1.05s\tremaining: 6.34ms\n",
      "497:\tlearn: 0.4501450\ttotal: 1.05s\tremaining: 4.22ms\n",
      "498:\tlearn: 0.4495574\ttotal: 1.05s\tremaining: 2.11ms\n",
      "499:\tlearn: 0.4493878\ttotal: 1.06s\tremaining: 0us\n"
     ]
    }
   ],
   "source": [
    "catb_tuned=CatBoostClassifier(learning_rate=0.01,depth=3,iterations=500).fit(X_train,y_train)"
   ]
  },
  {
   "cell_type": "code",
   "execution_count": 206,
   "metadata": {},
   "outputs": [],
   "source": [
    "y_pred = catb_tuned.predict(X_test)"
   ]
  },
  {
   "cell_type": "code",
   "execution_count": 207,
   "metadata": {},
   "outputs": [
    {
     "data": {
      "text/plain": [
       "0.6052631578947368"
      ]
     },
     "execution_count": 207,
     "metadata": {},
     "output_type": "execute_result"
    }
   ],
   "source": [
    "accuracy_score(y_test,y_pred)"
   ]
  },
  {
   "cell_type": "markdown",
   "metadata": {},
   "source": [
    "# Models Comparison"
   ]
  },
  {
   "cell_type": "code",
   "execution_count": 212,
   "metadata": {},
   "outputs": [
    {
     "name": "stdout",
     "output_type": "stream",
     "text": [
      "------------------------------\n",
      "LGBMClassifier:\n",
      "Accuracy: 63.1579%\n",
      "------------------------------\n",
      "KNeighborsClassifier:\n",
      "Accuracy: 42.1053%\n",
      "------------------------------\n",
      "LogisticRegression:\n",
      "Accuracy: 50.0000%\n",
      "------------------------------\n",
      "SVC:\n",
      "Accuracy: 50.0000%\n",
      "------------------------------\n",
      "GaussianNB:\n",
      "Accuracy: 47.3684%\n",
      "------------------------------\n",
      "MLPClassifier:\n",
      "Accuracy: 47.3684%\n",
      "------------------------------\n",
      "DecisionTreeClassifier:\n",
      "Accuracy: 57.8947%\n",
      "------------------------------\n",
      "RandomForestClassifier:\n",
      "Accuracy: 52.6316%\n",
      "------------------------------\n",
      "GradientBoostingClassifier:\n",
      "Accuracy: 55.2632%\n",
      "------------------------------\n",
      "CatBoostClassifier:\n",
      "Accuracy: 60.5263%\n",
      "------------------------------\n",
      "XGBClassifier:\n",
      "Accuracy: 50.0000%\n"
     ]
    }
   ],
   "source": [
    "models= [\n",
    "    lgbm_tuned,\n",
    "    knn_tuned,\n",
    "    loj_model,\n",
    "    svc_tuned,\n",
    "    nb_model,\n",
    "    mlpc_tuned,\n",
    "    cart_tuned,\n",
    "    rf_tuned,\n",
    "    gbm_tuned,\n",
    "    catb_tuned,\n",
    "    xgb_tuned\n",
    "    \n",
    "]\n",
    "\n",
    "for model in models:\n",
    "    isimler =model.__class__.__name__\n",
    "    y_pred=model.predict(X_test)\n",
    "    dogruluk = accuracy_score(y_test,y_pred)\n",
    "    print(\"-\"*30)\n",
    "    print(isimler + \":\")\n",
    "    print(\"Accuracy: {:.4%}\".format(dogruluk))\n",
    "\n"
   ]
  },
  {
   "cell_type": "raw",
   "metadata": {},
   "source": [
    "***LGBM Classifier is best model for our Customer Satisfaction Problem with 63.1579% Accuracy Score.We can increase accuracy score by normalizing data set,however for more accurate results we did continue on original data set.***"
   ]
  },
  {
   "cell_type": "markdown",
   "metadata": {},
   "source": [
    "## Customer Satisfaction Survey"
   ]
  },
  {
   "cell_type": "raw",
   "metadata": {},
   "source": [
    "We will have a small survey for our customers now.Please answer questions according to test instructions:\n",
    "1 - my order was delivered on time\n",
    "2 - contents of my order was as I expected\n",
    "3 - I ordered everything I wanted to order\n",
    "4 - I paid a good price for my order\n",
    "5 - I am satisfied with my courier\n",
    "6 - the app makes ordering easy for me\n",
    "\n",
    "**Score questions from 1 to 5 where the smaller number indicates less and the higher number indicates more towards the answer"
   ]
  },
  {
   "cell_type": "code",
   "execution_count": null,
   "metadata": {},
   "outputs": [],
   "source": [
    "list1=[]\n",
    "\n",
    "answer1=int(input(\"1 -my order was delivered on time\\n\"))\n",
    "list1.append(answer1)\n",
    "\n",
    "answer2=int(input(\"2 -contents of my order was as I expected\\n\"))\n",
    "list1.append(answer2)\n",
    "\n",
    "answer3=int(input(\"3 -I ordered everything I wanted to order\\n\"))\n",
    "list1.append(answer3)\n",
    "\n",
    "answer4=int(input(\"4 -I paid a good price for my order\\n\"))\n",
    "list1.append(answer4)\n",
    "\n",
    "answer5=int(input(\"5 -I am satisfied with my courier\\n\"))\n",
    "list1.append(answer5)\n",
    "\n",
    "answer6=int(input(\"6 -the app makes ordering easy for me\\n\"))\n",
    "list1.append(answer6)\n",
    "\n"
   ]
  },
  {
   "cell_type": "code",
   "execution_count": null,
   "metadata": {},
   "outputs": [],
   "source": [
    "print(list1)"
   ]
  },
  {
   "cell_type": "code",
   "execution_count": null,
   "metadata": {},
   "outputs": [],
   "source": [
    "X_survey=pd.DataFrame([list1])\n",
    "X_survey"
   ]
  },
  {
   "cell_type": "raw",
   "metadata": {},
   "source": [
    "***We can reach if a customer is happy(1) or not(0) with our services according to his/her answers to our survey***"
   ]
  },
  {
   "cell_type": "code",
   "execution_count": null,
   "metadata": {},
   "outputs": [],
   "source": [
    "y_pred = lgbm_tuned.predict(X_survey)"
   ]
  },
  {
   "cell_type": "markdown",
   "metadata": {},
   "source": [
    "# Importance Rate of Variables"
   ]
  },
  {
   "cell_type": "code",
   "execution_count": 223,
   "metadata": {},
   "outputs": [],
   "source": [
    "Importance = pd.DataFrame({\"Importance\":lgbm_tuned.feature_importances_},index=X_train.columns)"
   ]
  },
  {
   "cell_type": "code",
   "execution_count": 224,
   "metadata": {},
   "outputs": [
    {
     "data": {
      "image/png": "[encoded data removed]",
      "text/plain": [
       "<Figure size 432x288 with 1 Axes>"
      ]
     },
     "metadata": {
      "needs_background": "light"
     },
     "output_type": "display_data"
    }
   ],
   "source": [
    "Importance.sort_values( by=\"Importance\",\n",
    "                        axis=0,\n",
    "                        ascending=True).plot(kind=\"barh\",color=\"r\")\n",
    "plt.xlabel(\"Importance Rate of Variables\");"
   ]
  },
  {
   "cell_type": "raw",
   "metadata": {},
   "source": [
    "X1 = my order was delivered on time\n",
    "X5 = I am satisfied with my courier\n",
    "\n",
    "***Variable X1 and X5 have the highest effect on customer satisfaction.Because of that,we should take into consideration these features while planning and educating our staff.In addition to that we should plan to keep our vehicles well to stick to deliver-time.***\n",
    "\n",
    "X4 = I paid a good price for my order\n",
    "X6 = the app makes ordering easy for me\n",
    "\n",
    "***Variable X4 and X6 have almost no effect on customer satisfaction.So we should we should remove these two variables from or survey.Instead of that we can find new variables that affect customer satisfaction highly.***\n",
    "\n",
    "\n",
    "X2 = contents of my order was as I expected\n",
    "X3 = I ordered everything I wanted to order\n",
    "\n",
    "***Variables X2 and X3 have equal and half level of effect on customer satisfaction according to variables X1 an X5.***"
   ]
  },
  {
   "cell_type": "code",
   "execution_count": null,
   "metadata": {},
   "outputs": [],
   "source": []
  }
 ],
 "metadata": {
  "kernelspec": {
   "display_name": "Python 3",
   "language": "python",
   "name": "python3"
  },
  "language_info": {
   "codemirror_mode": {
    "name": "ipython",
    "version": 3
   },
   "file_extension": ".py",
   "mimetype": "text/x-python",
   "name": "python",
   "nbconvert_exporter": "python",
   "pygments_lexer": "ipython3",
   "version": "3.8.3"
  }
 },
 "nbformat": 4,
 "nbformat_minor": 4
}
